{
 "cells": [
  {
   "cell_type": "markdown",
   "id": "54299b5d",
   "metadata": {},
   "source": [
    "# The objective of this tutorial is to use the AppEEARS API to extract data to visualize clouds\n",
    "### Adapted from: https://git.earthdata.nasa.gov/projects/LPDUR/repos/appeears-api-getting-started/browse"
   ]
  },
  {
   "cell_type": "code",
   "execution_count": 3,
   "id": "bcf3232f",
   "metadata": {},
   "outputs": [],
   "source": [
    "# Import packages \n",
    "import requests as r\n",
    "import getpass, pprint, time, os, cgi, json # getpass needed for Earthdata login\n",
    "import geopandas as gpd"
   ]
  },
  {
   "cell_type": "code",
   "execution_count": 4,
   "id": "aed0cee7",
   "metadata": {},
   "outputs": [],
   "source": [
    "# Set input directory, change working directory\n",
    "inDir = '/home/marie/wildfire/'           # working directory\n",
    "os.chdir(inDir)                                      # Change to working directory\n",
    "api = 'https://appeears.earthdatacloud.nasa.gov/api/'  # Set the AρρEEARS API to a variable"
   ]
  },
  {
   "cell_type": "markdown",
   "id": "cf8c1f6b",
   "metadata": {},
   "source": [
    "## Login to AppEEARS"
   ]
  },
  {
   "cell_type": "code",
   "execution_count": 5,
   "id": "4d431799",
   "metadata": {},
   "outputs": [
    {
     "name": "stdout",
     "output_type": "stream",
     "text": [
      "Enter NASA Earthdata Login Username: ········\n",
      "Enter NASA Earthdata Login Password: ········\n"
     ]
    }
   ],
   "source": [
    "user = getpass.getpass(prompt = 'Enter NASA Earthdata Login Username: ')      # Input NASA Earthdata Login Username\n",
    "password = getpass.getpass(prompt = 'Enter NASA Earthdata Login Password: ')  # Input NASA Earthdata Login Password"
   ]
  },
  {
   "cell_type": "markdown",
   "id": "3711f053",
   "metadata": {},
   "source": [
    "#### The requests package will post your username and password. The token received will be used later to submit your request."
   ]
  },
  {
   "cell_type": "code",
   "execution_count": 6,
   "id": "59514533",
   "metadata": {},
   "outputs": [
    {
     "data": {
      "text/plain": [
       "{'token_type': 'Bearer',\n",
       " 'token': 'iygN52Rz8wtEEpwRUu8YEchCuw_mInrwxxKOLcf4PUEmdl-njOjvjuWbEnWdDPoYnYO9KLpU0NIfxsGtOvsuDg',\n",
       " 'expiration': '2022-08-05T20:57:09Z'}"
      ]
     },
     "execution_count": 6,
     "metadata": {},
     "output_type": "execute_result"
    }
   ],
   "source": [
    "token_response = r.post('{}login'.format(api), auth=(user, password)).json() # Insert API URL, call login service, provide credentials & return json\n",
    "del user, password                                                           # Remove user and password information\n",
    "token_response                                                               # Print response"
   ]
  },
  {
   "cell_type": "markdown",
   "id": "f808c1c4",
   "metadata": {},
   "source": [
    "#### Available products from appears\n",
    "https://appeears.earthdatacloud.nasa.gov/products"
   ]
  },
  {
   "cell_type": "code",
   "execution_count": 8,
   "id": "bde27ba9",
   "metadata": {},
   "outputs": [],
   "source": [
    "# The get() method returns the value of the item with the specified key.\n",
    "product_response = r.get('{}product'.format(api)).json()                         # request all products in the product service\n",
    "# print('AρρEEARS currently supports {} products.'.format(len(product_response)))  # Print no. products available in AppEEARS"
   ]
  },
  {
   "cell_type": "markdown",
   "id": "f15847c3",
   "metadata": {},
   "source": [
    "#### I'm interested in LST because it has not been pre-processed for clouds, therefore, you can visualize them easier"
   ]
  },
  {
   "cell_type": "code",
   "execution_count": 9,
   "id": "6231b6be",
   "metadata": {},
   "outputs": [
    {
     "data": {
      "text/plain": [
       "{'Product': 'ECO2LSTE',\n",
       " 'Platform': 'ECOSTRESS',\n",
       " 'Description': 'Land Surface Temperature & Emissivity (LST&E)',\n",
       " 'RasterType': 'Swath',\n",
       " 'Resolution': '70m',\n",
       " 'TemporalGranularity': 'ISS-dependent',\n",
       " 'Version': '001',\n",
       " 'Available': True,\n",
       " 'DocLink': 'https://doi.org/10.5067/ECOSTRESS/ECO2LSTE.001',\n",
       " 'Source': 'LP DAAC',\n",
       " 'TemporalExtentStart': '2018-07-09',\n",
       " 'TemporalExtentEnd': 'Present',\n",
       " 'Deleted': False,\n",
       " 'DOI': '10.5067/ECOSTRESS/ECO2LSTE.001',\n",
       " 'ProductAndVersion': 'ECO2LSTE.001'}"
      ]
     },
     "execution_count": 9,
     "metadata": {},
     "output_type": "execute_result"
    }
   ],
   "source": [
    "# my_dict = {} # if you want to create an empty dictionary\n",
    "# I think this is sort setting p to productandversion, then iterating through all productandversions\n",
    "products = {p['ProductAndVersion']: p for p in product_response} # Create a dictionary indexed by product name & version\n",
    "products['ECO2LSTE.001']                                         # Print information for the product of interest ECO2LSTE.001 LST Product\n",
    "# print(products)"
   ]
  },
  {
   "cell_type": "code",
   "execution_count": 10,
   "id": "8203eb60",
   "metadata": {},
   "outputs": [
    {
     "name": "stdout",
     "output_type": "stream",
     "text": [
      "{'Available': True,\n",
      " 'DOI': '10.5067/ECOSTRESS/ECO2LSTE.001',\n",
      " 'Deleted': False,\n",
      " 'Description': 'Land Surface Temperature & Emissivity (LST&E)',\n",
      " 'DocLink': 'https://doi.org/10.5067/ECOSTRESS/ECO2LSTE.001',\n",
      " 'Platform': 'ECOSTRESS',\n",
      " 'Product': 'ECO2LSTE',\n",
      " 'ProductAndVersion': 'ECO2LSTE.001',\n",
      " 'RasterType': 'Swath',\n",
      " 'Resolution': '70m',\n",
      " 'Source': 'LP DAAC',\n",
      " 'TemporalExtentEnd': 'Present',\n",
      " 'TemporalExtentStart': '2018-07-09',\n",
      " 'TemporalGranularity': 'ISS-dependent',\n",
      " 'Version': '001'}\n"
     ]
    }
   ],
   "source": [
    "prodNames = {p['ProductAndVersion'] for p in product_response} # Make list of all products (including version)\n",
    "for p in prodNames:                                            # Make for loop to search list of products 'Description' for a keyword                \n",
    "    if 'LST' in products[p]['Product']:\n",
    "        pprint.pprint(products[p])                             # Print info for each product containing LST in its product description\n",
    "#pprint is pretty print aesthetically pleasing        \n"
   ]
  },
  {
   "cell_type": "code",
   "execution_count": 13,
   "id": "9c55089b",
   "metadata": {},
   "outputs": [
    {
     "data": {
      "text/plain": [
       "['ECO2LSTE.001']"
      ]
     },
     "execution_count": 13,
     "metadata": {},
     "output_type": "execute_result"
    }
   ],
   "source": [
    "prods = ['ECO2LSTE.001']     # Start a list for products to be requested, beginning with ECO2LSTE.001\n",
    "prods # seems unnecessary to print"
   ]
  },
  {
   "cell_type": "markdown",
   "id": "ed182e4e",
   "metadata": {},
   "source": [
    "#### I would like explore what layers are within the LST product"
   ]
  },
  {
   "cell_type": "code",
   "execution_count": 15,
   "id": "faffdb8d",
   "metadata": {},
   "outputs": [
    {
     "data": {
      "text/plain": [
       "['SDS_Emis1',\n",
       " 'SDS_Emis1_err',\n",
       " 'SDS_Emis2',\n",
       " 'SDS_Emis2_err',\n",
       " 'SDS_Emis3',\n",
       " 'SDS_Emis3_err',\n",
       " 'SDS_Emis4',\n",
       " 'SDS_Emis4_err',\n",
       " 'SDS_Emis5',\n",
       " 'SDS_Emis5_err',\n",
       " 'SDS_EmisWB',\n",
       " 'SDS_LST',\n",
       " 'SDS_LST_err',\n",
       " 'SDS_PWV',\n",
       " 'SDS_QC']"
      ]
     },
     "execution_count": 15,
     "metadata": {},
     "output_type": "execute_result"
    }
   ],
   "source": [
    "lst_response = r.get('{}product/{}'.format(api, prods[0])).json()  # Request layers for the only product (index 0) in the list: ECO2LSTE.001\n",
    "list(lst_response.keys())"
   ]
  },
  {
   "cell_type": "markdown",
   "id": "9d21868e",
   "metadata": {},
   "source": [
    "#### I'm only interested in SDS_LST right now, so I will use that dictionary key to learn more about that layer from the lst_response variable"
   ]
  },
  {
   "cell_type": "code",
   "execution_count": 16,
   "id": "fb3dc5e1",
   "metadata": {},
   "outputs": [
    {
     "data": {
      "text/plain": [
       "{'AddOffset': 0.0,\n",
       " 'Available': True,\n",
       " 'DataType': 'uint16',\n",
       " 'Description': 'Land Surface Temperature',\n",
       " 'Dimensions': ['FakeDim0', 'FakeDim1'],\n",
       " 'FillValue': 0.0,\n",
       " 'IsQA': False,\n",
       " 'Layer': 'SDS_LST',\n",
       " 'OrigDataType': 'uint16',\n",
       " 'OrigValidMax': 65535,\n",
       " 'OrigValidMin': 7500,\n",
       " 'QualityLayers': \"['SDS_QC']\",\n",
       " 'QualityProductAndVersion': 'ECO2LSTE.001',\n",
       " 'ScaleFactor': 0.02,\n",
       " 'Units': 'K',\n",
       " 'ValidMax': 1310.7,\n",
       " 'ValidMin': 150.0,\n",
       " 'XSize': 5400,\n",
       " 'YSize': 5632}"
      ]
     },
     "execution_count": 16,
     "metadata": {},
     "output_type": "execute_result"
    }
   ],
   "source": [
    "lst_response['SDS_LST']"
   ]
  },
  {
   "cell_type": "code",
   "execution_count": 17,
   "id": "11b4f103",
   "metadata": {},
   "outputs": [],
   "source": [
    "# Adding QC layer\n",
    "layers = [(prods[0],'SDS_LST'),(prods[0],'SDS_QC')]  # Create tupled list linking desired product with desired layers"
   ]
  },
  {
   "cell_type": "markdown",
   "id": "852c3196",
   "metadata": {},
   "source": [
    "#### Later I will append more products but I'm keeping this simple for now"
   ]
  },
  {
   "cell_type": "markdown",
   "id": "84f90a14",
   "metadata": {},
   "source": [
    "#### Here we are created a dictionary list from our tupled list (i.e. layers) and storing each layer+product combination. We will later use this to insert into a json file when we submit our requests."
   ]
  },
  {
   "cell_type": "code",
   "execution_count": 18,
   "id": "2b9ea8b7",
   "metadata": {},
   "outputs": [
    {
     "data": {
      "text/plain": [
       "[{'layer': 'SDS_LST', 'product': 'ECO2LSTE.001'},\n",
       " {'layer': 'SDS_QC', 'product': 'ECO2LSTE.001'}]"
      ]
     },
     "execution_count": 18,
     "metadata": {},
     "output_type": "execute_result"
    }
   ],
   "source": [
    "prodLayer = []\n",
    "for l in layers:\n",
    "    prodLayer.append({\n",
    "            \"layer\": l[1],\n",
    "            \"product\": l[0]\n",
    "          })\n",
    "prodLayer"
   ]
  },
  {
   "cell_type": "code",
   "execution_count": null,
   "id": "18e1d110",
   "metadata": {},
   "outputs": [],
   "source": []
  }
 ],
 "metadata": {
  "kernelspec": {
   "display_name": "Python 3 (ipykernel)",
   "language": "python",
   "name": "python3"
  },
  "language_info": {
   "codemirror_mode": {
    "name": "ipython",
    "version": 3
   },
   "file_extension": ".py",
   "mimetype": "text/x-python",
   "name": "python",
   "nbconvert_exporter": "python",
   "pygments_lexer": "ipython3",
   "version": "3.7.13"
  }
 },
 "nbformat": 4,
 "nbformat_minor": 5
}
