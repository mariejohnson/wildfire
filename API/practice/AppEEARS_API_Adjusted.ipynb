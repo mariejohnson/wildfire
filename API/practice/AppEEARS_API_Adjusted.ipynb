{
 "cells": [
  {
   "cell_type": "markdown",
   "metadata": {},
   "source": [
    "# Getting Started with the AρρEEARS API: Submitting and Downloading an Area Request\n",
    "### This tutorial demonstrates how to use Python to connect to the AρρEEARS API \n",
    "The Application for Extracting and Exploring Analysis Ready Samples ([AρρEEARS](https://appeears.earthdatacloud.nasa.gov/)) offers a simple and efficient way to access and transform geospatial data from a variety of federal data archives in an easy-to-use web application interface. AρρEEARS enables users to subset [geospatial data](https://appeears.earthdatacloud.nasa.gov/products) spatially, temporally, and by band/layer for point and area samples. AρρEEARS returns not only the requested data, but also the associated quality values, and offers interactive visualizations with summary statistics in the web interface.  The [AρρEEARS API](https://appeears.earthdatacloud.nasa.gov/api/) offers users **programmatic access** to all features available in AρρEEARS, with the exception of visualizations. The API features are demonstrated in this notebook.  \n",
    "***\n",
    "### Example: Submit an area request using a U.S. National Park boundary as the region of interest for extracting elevation, vegetation and land surface temperature data    \n",
    "Connect to the AρρEEARS API, query the list of available products, submit an area sample request, download the request, become familiar with the AρρEEARS Quality API, and import the results into Python for visualization. AρρEEARS area sample requests allow users to subset their desired data by spatial area via vector polygons (shapefiles or GeoJSONs). Users can also reproject and reformat the output data. AρρEEARS returns the valid data from the parameters defined within the sample request.       \n",
    "#### Data Used in the Example:\n",
    "- Data layers: \n",
    "    - NASA MEaSUREs Shuttle Radar Topography Mission (SRTM) Version 3 Digital Elevation Model  \n",
    "        - [SRTMGL1_NC.003](https://doi.org/10.5067/MEaSUREs/SRTM/SRTMGL1.003), 30m, static: 'SRTM_DEM' \n",
    "    - Combined MODIS Leaf Area Index (LAI)  \n",
    "        - [MCD15A3H.006](https://doi.org/10.5067/MODIS/MCD15A3H.006), 500m, 4 day: 'Lai_500m'      \n",
    "    - Terra MODIS Land Surface Temperature    \n",
    "        - [MOD11A2.061](https://doi.org/10.5067/MODIS/MOD11A2.061), 1000m, 8 day: 'LST_Day_1km', 'LST_Night_1km'     \n",
    "***  \n",
    "# Topics Covered:\n",
    "1. **Getting Started**  \n",
    "    1a. Set Up the Working Environment  \n",
    "    1b. Login [Login]     \n",
    "2. **Query Available Products [Product API]**  \n",
    "    2a. Search and Explore Available Products [List Products]  \n",
    "    2b. Search and Explore Available Layers [List Layers]      \n",
    "3. **Submit an Area Request [Tasks]**  \n",
    "    3a. Import a Shapefile  \n",
    "    3b. Search and Explore Available Projections [Spatial API]   \n",
    "    3c. Compile a JSON [Task Object]  \n",
    "    3d. Submit a Task Request [Submit Task]  \n",
    "    3e. Retrieve Task Status [Retrieve Task]  \n",
    "4. **Download a Request [Bundle API]**    \n",
    "    4a. Explore Files in Request Output [List Files]    \n",
    "    4b. Download Files in a Request (Automation) [Download File]   \n",
    "5. **Explore AρρEEARS Quality Service [Quality API]**  \n",
    "    5a. List Quality Layers [List Quality Layers]    \n",
    "    5b. Show Quality Values [List Quality Values]   \n",
    "    5c. Decode Quality Values [Decode Quality Values]  \n",
    "6. **BONUS: Import Request Output and Visualize**    \n",
    "    6a. Import a GeoTIFF     \n",
    "    6b. Plot a GeoTIFF   \n",
    "***\n",
    "### Dependencies:\n",
    "- This tutorial was tested using Python 3.6.1.  \n",
    "- A [NASA Earthdata Login](https://urs.earthdata.nasa.gov/) account is required to complete this tutorial. You can create an account at the link provided.    \n",
    "- To execute section 6, the [Geospatial Data Abstraction Library](http://www.gdal.org/) (GDAL) is required. \n",
    "***\n",
    "### AρρEEARS Information:\n",
    "To access AρρEEARS, visit: https://appeears.earthdatacloud.nasa.gov/  \n",
    "> For comprehensive documentation of the full functionality of the AρρEEARS API, please see the AρρEEARS [API Documentation](https://appeears.earthdatacloud.nasa.gov/api/) \n",
    "\n",
    "Throughout the tutorial, specific sections of the API documentation can be accessed by clicking on the bracketed [] links in the section headings.   \n",
    "***\n",
    "### Files Used in this Tutorial:  \n",
    "- [Administrative Boundaries of National Park System Units 12/31/2017 - National Geospatial Data Asset (NGDA) NPS National Parks Dataset](https://irma.nps.gov/DataStore/DownloadFile/594958)  \n",
    "\n",
    "### Source Code used to Generate this Tutorial:\n",
    "- [Jupyter Notebook](https://git.earthdata.nasa.gov/projects/LPDUR/repos/appeears-api-getting-started/browse/AppEEARS_API_Area.ipynb) "
   ]
  },
  {
   "cell_type": "markdown",
   "metadata": {},
   "source": [
    "***"
   ]
  },
  {
   "cell_type": "markdown",
   "metadata": {},
   "source": [
    "# 1. Getting Started"
   ]
  },
  {
   "cell_type": "markdown",
   "metadata": {},
   "source": [
    "***\n",
    "## 1a. Set Up the Working Environment\n",
    "#### Import the required packages, set the input/working directory, and create an output directory for the results."
   ]
  },
  {
   "cell_type": "code",
   "execution_count": 1,
   "metadata": {},
   "outputs": [],
   "source": [
    "# Import packages \n",
    "import requests as r\n",
    "import getpass, pprint, time, os, cgi, json\n",
    "import geopandas as gpd"
   ]
  },
  {
   "cell_type": "markdown",
   "metadata": {},
   "source": [
    "#### If you are missing any of the packages above, download them in order to use the full functionality of this tutorial. "
   ]
  },
  {
   "cell_type": "code",
   "execution_count": 2,
   "metadata": {},
   "outputs": [],
   "source": [
    "# Set input directory, change working directory\n",
    "inDir = '/home/marie/wildfire/'           # IMPORTANT: Update to reflect directory on your OS\n",
    "os.chdir(inDir)                                      # Change to working directory\n",
    "api = 'https://appeears.earthdatacloud.nasa.gov/api/'  # Set the AρρEEARS API to a variable"
   ]
  },
  {
   "cell_type": "markdown",
   "metadata": {},
   "source": [
    "<div class=\"alert alert-block alert-warning\" >\n",
    "<b>If you plan to execute this tutorial on your own OS, `inDir` above needs to be changed.</b>\n",
    "</div> "
   ]
  },
  {
   "cell_type": "markdown",
   "metadata": {},
   "source": [
    "***\n",
    "## 1b. Login[[Login](https://appeears.earthdatacloud.nasa.gov/api/#login)] \n",
    "#### To submit a request, you must first login to the AρρEEARS API. The AρρEEARS API requires the same [NASA Earthdata Login](https://urs.earthdata.nasa.gov/) as the AρρEEARS user interface. Use the `getpass` package to enter your NASA Earthdata login **Username** and **Password**. When prompted after executing the code block below, enter your username followed by your password."
   ]
  },
  {
   "cell_type": "code",
   "execution_count": 3,
   "metadata": {},
   "outputs": [
    {
     "name": "stdout",
     "output_type": "stream",
     "text": [
      "Enter NASA Earthdata Login Username: ········\n",
      "Enter NASA Earthdata Login Password: ········\n"
     ]
    }
   ],
   "source": [
    "user = getpass.getpass(prompt = 'Enter NASA Earthdata Login Username: ')      # Input NASA Earthdata Login Username\n",
    "password = getpass.getpass(prompt = 'Enter NASA Earthdata Login Password: ')  # Input NASA Earthdata Login Password"
   ]
  },
  {
   "cell_type": "markdown",
   "metadata": {},
   "source": [
    "#### Use the `requests` package to post your username and password. A successful login will provide you with a token to be used later in this tutorial to submit a request. For more information or if you are experiencing difficulties, please see the [API Documentation](https://lpdaacsvc.cr.usgs.gov/appeears/api/?language=Python%203#login)."
   ]
  },
  {
   "cell_type": "code",
   "execution_count": 4,
   "metadata": {},
   "outputs": [
    {
     "data": {
      "text/plain": [
       "{'token_type': 'Bearer',\n",
       " 'token': '3glKYSEz4VAltrdC5-afN5M2F6OwRAMuocsVsgC9yUhpqtbLhik17eCHmzStGZeLY_dNqX8qqt1WxuK2dozsTA',\n",
       " 'expiration': '2022-08-03T18:32:35Z'}"
      ]
     },
     "execution_count": 4,
     "metadata": {},
     "output_type": "execute_result"
    }
   ],
   "source": [
    "token_response = r.post('{}login'.format(api), auth=(user, password)).json() # Insert API URL, call login service, provide credentials & return json\n",
    "del user, password                                                           # Remove user and password information\n",
    "token_response                                                               # Print response"
   ]
  },
  {
   "cell_type": "markdown",
   "metadata": {},
   "source": [
    "#### Above, you should see a Bearer token. Notice that this token will expire approximately 48 hours after being acquired. \n",
    "***\n",
    "# 2. Query Available Products [[Product API](https://appeears.earthdatacloud.nasa.gov/api/#product)]\n",
    "## 2a. Search and Explore Available Products [[List Products](https://appeears.earthdatacloud.nasa.gov/api/#list-products)]\n",
    "#### The product API provides details about all of the products and layers available in AρρEEARS. Below, call the product API to list all of the products available in AρρEEARS."
   ]
  },
  {
   "cell_type": "code",
   "execution_count": 5,
   "metadata": {},
   "outputs": [
    {
     "name": "stdout",
     "output_type": "stream",
     "text": [
      "AρρEEARS currently supports 155 products.\n"
     ]
    }
   ],
   "source": [
    "product_response = r.get('{}product'.format(api)).json()                         # request all products in the product service\n",
    "print('AρρEEARS currently supports {} products.'.format(len(product_response)))  # Print no. products available in AppEEARS"
   ]
  },
  {
   "cell_type": "markdown",
   "metadata": {},
   "source": [
    "#### Next, create a dictionary indexed by product name, making it easier to query a specific product."
   ]
  },
  {
   "cell_type": "code",
   "execution_count": 7,
   "metadata": {},
   "outputs": [
    {
     "data": {
      "text/plain": [
       "{'Product': 'ECO2LSTE',\n",
       " 'Platform': 'ECOSTRESS',\n",
       " 'Description': 'Land Surface Temperature & Emissivity (LST&E)',\n",
       " 'RasterType': 'Swath',\n",
       " 'Resolution': '70m',\n",
       " 'TemporalGranularity': 'ISS-dependent',\n",
       " 'Version': '001',\n",
       " 'Available': True,\n",
       " 'DocLink': 'https://doi.org/10.5067/ECOSTRESS/ECO2LSTE.001',\n",
       " 'Source': 'LP DAAC',\n",
       " 'TemporalExtentStart': '2018-07-09',\n",
       " 'TemporalExtentEnd': 'Present',\n",
       " 'Deleted': False,\n",
       " 'DOI': '10.5067/ECOSTRESS/ECO2LSTE.001',\n",
       " 'ProductAndVersion': 'ECO2LSTE.001'}"
      ]
     },
     "execution_count": 7,
     "metadata": {},
     "output_type": "execute_result"
    }
   ],
   "source": [
    "# Check available products here: https://appeears.earthdatacloud.nasa.gov/products\n",
    "# I'm interested in pt JPL products, LST and DAYMET for now\n",
    "# ECO2LSTE.001 LST\n",
    "# ECO3ETPTJPL.001 ET\n",
    "# Hard to find DAYMET code so we'll search that in the next block\n",
    "\n",
    "\n",
    "# my_dict = {} # if you want to create an empty dictionary\n",
    "products = {p['ProductAndVersion']: p for p in product_response} # Create a dictionary indexed by product name & version\n",
    "products['ECO2LSTE.001']                                         # Print information for ECO2LSTE.001 LST Product\n",
    "# print(products)"
   ]
  },
  {
   "cell_type": "markdown",
   "metadata": {},
   "source": [
    "\n",
    "#### The product service provides many useful details, including if a product is currently available in AρρEEARS, a description, and information on the spatial and temporal resolution. "
   ]
  },
  {
   "cell_type": "markdown",
   "metadata": {},
   "source": [
    "#### Below, make a list of all product+version names, and search for products containing *Leaf Area Index* in their description. "
   ]
  },
  {
   "cell_type": "code",
   "execution_count": 9,
   "metadata": {},
   "outputs": [
    {
     "name": "stdout",
     "output_type": "stream",
     "text": [
      "{'Available': True,\n",
      " 'DOI': '10.3334/ORNLDAAC/1840',\n",
      " 'Deleted': False,\n",
      " 'Description': 'Daily Surface Weather Data for North America',\n",
      " 'DocLink': 'https://doi.org/10.3334/ORNLDAAC/1840',\n",
      " 'Platform': 'DAYMET',\n",
      " 'Product': 'DAYMET',\n",
      " 'ProductAndVersion': 'DAYMET.004',\n",
      " 'RasterType': 'Tile',\n",
      " 'Resolution': '1000m',\n",
      " 'Source': 'ORNL',\n",
      " 'TemporalExtentEnd': '2021-12-31',\n",
      " 'TemporalExtentStart': '1950-01-01',\n",
      " 'TemporalGranularity': 'Daily',\n",
      " 'Version': '004'}\n"
     ]
    }
   ],
   "source": [
    "prodNames = {p['ProductAndVersion'] for p in product_response} # Make list of all products (including version)\n",
    "for p in prodNames:                                            # Make for loop to search list of products 'Description' for a keyword                \n",
    "    if 'DAYMET' in products[p]['Platform']:\n",
    "        pprint.pprint(products[p])                             # Print info for each product containing DAYMET in its platform"
   ]
  },
  {
   "cell_type": "markdown",
   "metadata": {},
   "source": [
    "#### Using the info above, start a list of desired products by using the highest temporal resolution LAI product, `MCD15A3H.006`.  "
   ]
  },
  {
   "cell_type": "code",
   "execution_count": 14,
   "metadata": {},
   "outputs": [
    {
     "data": {
      "text/plain": [
       "['MCD15A3H.006', 'MOD11A2.061', 'SRTMGL1_NC.003']"
      ]
     },
     "execution_count": 14,
     "metadata": {},
     "output_type": "execute_result"
    }
   ],
   "source": [
    "prods = ['MCD15A3H.006']     # Start a list for products to be requested, beginning with MCD15A3H.006\n",
    "prods.append('MOD11A2.061')  # Append the MOD11A2.061 8 day LST product to the list of products desired\n",
    "prods.append('SRTMGL1_NC.003')  # Append the SRTMGL1_NC.003 product to the list of products desired\n",
    "prods                        # Print list"
   ]
  },
  {
   "cell_type": "markdown",
   "metadata": {},
   "source": [
    "***\n",
    "# 2b. Search and Explore Available Layers [[List Layers](https://appeears.earthdatacloud.nasa.gov/api/#list-layers)]\n",
    "#### The product API allows you to call all of the layers available for a given product. Each product is referenced by its `ProductAndVersion` property. For a list of the layer names only, print the keys from the dictionary below. "
   ]
  },
  {
   "cell_type": "code",
   "execution_count": 15,
   "metadata": {},
   "outputs": [
    {
     "data": {
      "text/plain": [
       "['Clear_sky_days',\n",
       " 'Clear_sky_nights',\n",
       " 'Day_view_angl',\n",
       " 'Day_view_time',\n",
       " 'Emis_31',\n",
       " 'Emis_32',\n",
       " 'LST_Day_1km',\n",
       " 'LST_Night_1km',\n",
       " 'Night_view_angl',\n",
       " 'Night_view_time',\n",
       " 'QC_Day',\n",
       " 'QC_Night']"
      ]
     },
     "execution_count": 15,
     "metadata": {},
     "output_type": "execute_result"
    }
   ],
   "source": [
    "lst_response = r.get('{}product/{}'.format(api, prods[1])).json()  # Request layers for the 2nd product (index 1) in the list: MOD11A2.061\n",
    "list(lst_response.keys())"
   ]
  },
  {
   "cell_type": "markdown",
   "metadata": {},
   "source": [
    "#### Use the dictionary key `'LST_Day_1km'` to see the information for that layer in the response."
   ]
  },
  {
   "cell_type": "code",
   "execution_count": 16,
   "metadata": {},
   "outputs": [
    {
     "data": {
      "text/plain": [
       "{'AddOffset': 0.0,\n",
       " 'Available': True,\n",
       " 'DataType': 'float32',\n",
       " 'Description': 'Day Land Surface Temperature',\n",
       " 'Dimensions': ['time', 'YDim', 'XDim'],\n",
       " 'FillValue': 0,\n",
       " 'IsQA': False,\n",
       " 'Layer': 'LST_Day_1km',\n",
       " 'OrigDataType': 'uint16',\n",
       " 'OrigValidMax': 65535,\n",
       " 'OrigValidMin': 7500,\n",
       " 'QualityLayers': \"['QC_Day']\",\n",
       " 'QualityProductAndVersion': 'MOD11A2.061',\n",
       " 'ScaleFactor': 0.02,\n",
       " 'Units': 'Kelvin',\n",
       " 'ValidMax': 1310.699951,\n",
       " 'ValidMin': 150.0,\n",
       " 'XSize': 1200,\n",
       " 'YSize': 1200}"
      ]
     },
     "execution_count": 16,
     "metadata": {},
     "output_type": "execute_result"
    }
   ],
   "source": [
    "lst_response['LST_Day_1km'] # Print layer response"
   ]
  },
  {
   "cell_type": "markdown",
   "metadata": {},
   "source": [
    "#### AρρEEARS also allows subsetting data spectrally (by band). Create a tupled list with product name and specific layers desired. "
   ]
  },
  {
   "cell_type": "code",
   "execution_count": 17,
   "metadata": {},
   "outputs": [],
   "source": [
    "layers = [(prods[1],'LST_Day_1km'),(prods[1],'LST_Night_1km')]  # Create tupled list linking desired product with desired layers"
   ]
  },
  {
   "cell_type": "markdown",
   "metadata": {},
   "source": [
    "#### Next, request the layers for the `MCD15A3H.006` product."
   ]
  },
  {
   "cell_type": "code",
   "execution_count": 19,
   "metadata": {},
   "outputs": [
    {
     "data": {
      "text/plain": [
       "['FparExtra_QC',\n",
       " 'FparLai_QC',\n",
       " 'FparStdDev_500m',\n",
       " 'Fpar_500m',\n",
       " 'LaiStdDev_500m',\n",
       " 'Lai_500m']"
      ]
     },
     "execution_count": 19,
     "metadata": {},
     "output_type": "execute_result"
    }
   ],
   "source": [
    "lai_response = r.get('{}product/{}'.format(api, prods[0])).json()  # Request layers for the 1st product (index 0) in the list: MCD15A3H.006\n",
    "list(lai_response.keys())                                          # Print the LAI layer names"
   ]
  },
  {
   "cell_type": "code",
   "execution_count": 20,
   "metadata": {},
   "outputs": [
    {
     "data": {
      "text/plain": [
       "'Leaf area index'"
      ]
     },
     "execution_count": 20,
     "metadata": {},
     "output_type": "execute_result"
    }
   ],
   "source": [
    "lai_response['Lai_500m']['Description']  # Make sure the correct layer is requested"
   ]
  },
  {
   "cell_type": "markdown",
   "metadata": {},
   "source": [
    "#### Above, `Lai_500m` is the desired layer within the `MCD15A3h.006` product. \n",
    "#### Next, append `Lai_500m` to the tupled list of desired product/layers. "
   ]
  },
  {
   "cell_type": "code",
   "execution_count": 21,
   "metadata": {},
   "outputs": [],
   "source": [
    "layers.append((prods[0],'Lai_500m')) # Append to tupled list linking desired product with desired layers"
   ]
  },
  {
   "cell_type": "markdown",
   "metadata": {},
   "source": [
    "#### Thirdly, request the layers for the `SRTMGL1_NC.003` product."
   ]
  },
  {
   "cell_type": "code",
   "execution_count": 22,
   "metadata": {},
   "outputs": [
    {
     "data": {
      "text/plain": [
       "['SRTMGL1_DEM']"
      ]
     },
     "execution_count": 22,
     "metadata": {},
     "output_type": "execute_result"
    }
   ],
   "source": [
    "dem_response = r.get('{}product/{}'.format(api, prods[2])).json()  # Request layers for the 3rd product (index 2) in the list: SRTMGL1_NC.003\n",
    "list(dem_response.keys())                                          # Print the SRTM DEM layer names "
   ]
  },
  {
   "cell_type": "markdown",
   "metadata": {},
   "source": [
    "#### Finally, append `SRTMGL1_DEM` to the tupled list of desired products/layers."
   ]
  },
  {
   "cell_type": "code",
   "execution_count": 23,
   "metadata": {},
   "outputs": [],
   "source": [
    "layers.append((prods[2], 'SRTMGL1_DEM')) # Append to tupled list linking desired product with desired layers"
   ]
  },
  {
   "cell_type": "markdown",
   "metadata": {},
   "source": [
    "#### Below, take the tupled list (layers) and create a list of dictionaries to store each layer+product combination. This will make it easier to insert into the json file used to submit a request in Section 3. "
   ]
  },
  {
   "cell_type": "code",
   "execution_count": 24,
   "metadata": {},
   "outputs": [
    {
     "data": {
      "text/plain": [
       "[{'layer': 'LST_Day_1km', 'product': 'MOD11A2.061'},\n",
       " {'layer': 'LST_Night_1km', 'product': 'MOD11A2.061'},\n",
       " {'layer': 'Lai_500m', 'product': 'MCD15A3H.006'},\n",
       " {'layer': 'SRTMGL1_DEM', 'product': 'SRTMGL1_NC.003'}]"
      ]
     },
     "execution_count": 24,
     "metadata": {},
     "output_type": "execute_result"
    }
   ],
   "source": [
    "prodLayer = []\n",
    "for l in layers:\n",
    "    prodLayer.append({\n",
    "            \"layer\": l[1],\n",
    "            \"product\": l[0]\n",
    "          })\n",
    "prodLayer"
   ]
  },
  {
   "cell_type": "markdown",
   "metadata": {},
   "source": [
    "***\n",
    "# 3. Submit an Area Request [[Tasks](https://appeears.earthdatacloud.nasa.gov/api/#tasks)]\n",
    "#### The **Submit task** API call provides a way to submit a new request to be processed. It can accept data via JSON, query string, or a combination of both. In the example below, compile a json and submit a request. Tasks in AρρEEARS correspond to each request associated with your user account. Therefore, each of the calls to this service requires an authentication token (see Section 1c.), which is stored in a header below. "
   ]
  },
  {
   "cell_type": "code",
   "execution_count": 25,
   "metadata": {},
   "outputs": [],
   "source": [
    "token = token_response['token']                      # Save login token to a variable\n",
    "head = {'Authorization': 'Bearer {}'.format(token)}  # Create a header to store token information, needed to submit a request"
   ]
  },
  {
   "cell_type": "markdown",
   "metadata": {},
   "source": [
    "---\n",
    "## 3a. Import a Shapefile\n",
    "#### In this section, begin by importing a shapefile using the `geopandas` package. The shapefile is publically available for download from the [NPS website](https://irma.nps.gov/DataStore/Reference/Profile/2224545?lnv=True)."
   ]
  },
  {
   "cell_type": "code",
   "execution_count": 26,
   "metadata": {},
   "outputs": [
    {
     "name": "stdout",
     "output_type": "stream",
     "text": [
      "    WILDERNESS                    WILDERNE_1 AREAID BOUNDARYST     GIS_ACRES  \\\n",
      "0  10506010343  Mission Mountains Wilderness    052      Final  76145.193755   \n",
      "\n",
      "   WID  SHAPE_AREA  SHAPE_LEN  \\\n",
      "0  360    0.036756   1.463611   \n",
      "\n",
      "                                            geometry  \n",
      "0  POLYGON ((-113.80445 47.46253, -113.80444 47.4...  \n"
     ]
    }
   ],
   "source": [
    "nps = gpd.read_file('data/shapefiles/wildCH.shp'.format(inDir + os.sep + 'Data' + os.sep)) # Read in shapefile as dataframe using geopandas\n",
    "print(nps.head())                                                # Print first few lines of dataframe"
   ]
  },
  {
   "cell_type": "markdown",
   "metadata": {},
   "source": [
    "#### Below, query the `geopandas` dataframe for the national park that you are interested in using for your region of interest, here *Grand Canyon National Park*."
   ]
  },
  {
   "cell_type": "code",
   "execution_count": 27,
   "metadata": {},
   "outputs": [],
   "source": [
    "# nps_gc = nps[nps['UNIT_NAME']=='Grand Canyon National Park'].to_json() # Extract Grand Canyon NP and set to variable\n",
    "nps_gc = nps.to_json() # Extract Grand Canyon NP and set to variable - this is the crazy horse wilderness, it's a single polygon\n",
    "\n",
    "nps_gc = json.loads(nps_gc)                                            # Convert to json format"
   ]
  },
  {
   "cell_type": "markdown",
   "metadata": {},
   "source": [
    "---\n",
    "## 3b. Search and Explore Available Projections [[Spatial API](https://appeears.earthdatacloud.nasa.gov/api/#spatial)]   \n",
    "#### The spatial API provides some helper services used to support submitting area task requests. The call below will retrieve the list of supported projections in AρρEEARS."
   ]
  },
  {
   "cell_type": "code",
   "execution_count": 28,
   "metadata": {},
   "outputs": [
    {
     "data": {
      "text/plain": [
       "[{'Name': 'native',\n",
       "  'Description': 'Native Projection',\n",
       "  'Platforms': '',\n",
       "  'Proj4': '',\n",
       "  'Datum': '',\n",
       "  'EPSG': '',\n",
       "  'Units': '',\n",
       "  'GridMapping': '',\n",
       "  'Available': True},\n",
       " {'Name': 'geographic',\n",
       "  'Description': 'Geographic',\n",
       "  'Platforms': \"['SRTM', 'ECOSTRESS', 'SSEBop ET', 'GPW', 'ASTER GDEM', 'NASADEM']\",\n",
       "  'Proj4': '+proj=longlat +datum=WGS84 +no_defs',\n",
       "  'Datum': 'wgs84',\n",
       "  'EPSG': 4326.0,\n",
       "  'Units': 'degrees',\n",
       "  'GridMapping': 'latitude_longitude',\n",
       "  'Available': True},\n",
       " {'Name': 'sinu_modis',\n",
       "  'Description': 'MODIS Sinusoidal',\n",
       "  'Platforms': \"['Combined MODIS', 'Terra MODIS', 'Aqua MODIS', 'S-NPP NASA VIIRS', 'Global WELD']\",\n",
       "  'Proj4': '+proj=sinu +lon_0=0 +x_0=0 +y_0=0 +R=6371007.181 +units=m +no_defs',\n",
       "  'Datum': '',\n",
       "  'EPSG': '',\n",
       "  'Units': 'meters',\n",
       "  'GridMapping': 'sinusoidal',\n",
       "  'Available': True},\n",
       " {'Name': 'albers_weld_alaska',\n",
       "  'Description': 'WELD Albers Equal Area Alaska',\n",
       "  'Platforms': \"['WELD']\",\n",
       "  'Proj4': '+proj=aea +lat_1=55 +lat_2=65 +lat_0=50 +lon_0=-154 +x_0=0 +y_0=0 +datum=WGS84 +units=m +no_defs',\n",
       "  'Datum': 'wgs84',\n",
       "  'EPSG': '',\n",
       "  'Units': 'meters',\n",
       "  'GridMapping': 'albers_conical_equal_area',\n",
       "  'Available': True},\n",
       " {'Name': 'albers_weld_conus',\n",
       "  'Description': 'WELD Albers Equal Area CONUS',\n",
       "  'Platforms': \"['WELD']\",\n",
       "  'Proj4': '+proj=aea +lat_1=29.5 +lat_2=45.5 +lat_0=23 +lon_0=-96 +x_0=0 +y_0=0 +datum=WGS84 +units=m +no_defs',\n",
       "  'Datum': 'wgs84',\n",
       "  'EPSG': '',\n",
       "  'Units': 'meters',\n",
       "  'GridMapping': 'albers_conical_equal_area',\n",
       "  'Available': True},\n",
       " {'Name': 'albers_ard_alaska',\n",
       "  'Description': 'Landsat ARD Albers Equal Area Alaska',\n",
       "  'Platforms': \"['Landsat ARD']\",\n",
       "  'Proj4': '+proj=aea +lat_1=55 +lat_2=65 +lat_0=50 +lon_0=-154 +x_0=0 +y_0=0 +datum=WGS84 +units=m +no_defs',\n",
       "  'Datum': 'wgs84',\n",
       "  'EPSG': '',\n",
       "  'Units': 'meters',\n",
       "  'GridMapping': 'albers_conical_equal_area',\n",
       "  'Available': True},\n",
       " {'Name': 'albers_ard_conus',\n",
       "  'Description': 'Landsat ARD Albers Equal Area CONUS',\n",
       "  'Platforms': \"['Landsat ARD']\",\n",
       "  'Proj4': '+proj=aea +lat_1=29.5 +lat_2=45.5 +lat_0=23 +lon_0=-96 +x_0=0 +y_0=0 +datum=WGS84 +units=m +no_defs',\n",
       "  'Datum': 'wgs84',\n",
       "  'EPSG': '',\n",
       "  'Units': 'meters',\n",
       "  'GridMapping': 'albers_conical_equal_area',\n",
       "  'Available': True},\n",
       " {'Name': 'albers_ard_hawaii',\n",
       "  'Description': 'Landsat ARD Albers Equal Area Hawaii',\n",
       "  'Platforms': \"['Landsat ARD']\",\n",
       "  'Proj4': '+proj=aea +lat_1=8 +lat_2=18 +lat_0=3 +lon_0=-157 +x_0=0 +y_0=0 +datum=WGS84 +units=m +no_defs',\n",
       "  'Datum': 'wgs84',\n",
       "  'EPSG': '',\n",
       "  'Units': 'meters',\n",
       "  'GridMapping': 'albers_conical_equal_area',\n",
       "  'Available': True},\n",
       " {'Name': 'easegrid_2_global',\n",
       "  'Description': 'EASE-Grid 2.0 Global',\n",
       "  'Platforms': \"['SMAP']\",\n",
       "  'Proj4': '+proj=cea +lon_0=0 +lat_ts=30 +x_0=0 +y_0=0 +datum=WGS84 +units=m +no_defs',\n",
       "  'Datum': 'wgs84',\n",
       "  'EPSG': 6933.0,\n",
       "  'Units': 'meters',\n",
       "  'GridMapping': 'lambert_cylindrical_equal_area',\n",
       "  'Available': True},\n",
       " {'Name': 'easegrid_2_north',\n",
       "  'Description': 'EASE-Grid 2.0 Northern Hemisphere',\n",
       "  'Platforms': \"['SMAP']\",\n",
       "  'Proj4': '+proj=laea +lat_0=90 +lon_0=0 +x_0=0 +y_0=0 +datum=WGS84 +units=m +no_defs',\n",
       "  'Datum': 'wgs84',\n",
       "  'EPSG': 6931.0,\n",
       "  'Units': 'meters',\n",
       "  'GridMapping': 'lambert_cylindrical_equal_area',\n",
       "  'Available': True}]"
      ]
     },
     "execution_count": 28,
     "metadata": {},
     "output_type": "execute_result"
    }
   ],
   "source": [
    "projections = r.get('{}spatial/proj'.format(api)).json()  # Call to spatial API, return projs as json\n",
    "projections                                               # Print projections and information"
   ]
  },
  {
   "cell_type": "markdown",
   "metadata": {},
   "source": [
    "#### Create a dictionary of projections with projection `Name` as the keys."
   ]
  },
  {
   "cell_type": "code",
   "execution_count": 29,
   "metadata": {},
   "outputs": [
    {
     "data": {
      "text/plain": [
       "['native',\n",
       " 'geographic',\n",
       " 'sinu_modis',\n",
       " 'albers_weld_alaska',\n",
       " 'albers_weld_conus',\n",
       " 'albers_ard_alaska',\n",
       " 'albers_ard_conus',\n",
       " 'albers_ard_hawaii',\n",
       " 'easegrid_2_global',\n",
       " 'easegrid_2_north']"
      ]
     },
     "execution_count": 29,
     "metadata": {},
     "output_type": "execute_result"
    }
   ],
   "source": [
    "projs = {}                                  # Create an empty dictionary\n",
    "for p in projections: projs[p['Name']] = p  # Fill dictionary with `Name` as keys\n",
    "list(projs.keys())                          # Print dictionary keys"
   ]
  },
  {
   "cell_type": "markdown",
   "metadata": {},
   "source": [
    "#### Print the information for the projection used in this tutorial."
   ]
  },
  {
   "cell_type": "code",
   "execution_count": 30,
   "metadata": {},
   "outputs": [
    {
     "data": {
      "text/plain": [
       "{'Name': 'geographic',\n",
       " 'Description': 'Geographic',\n",
       " 'Platforms': \"['SRTM', 'ECOSTRESS', 'SSEBop ET', 'GPW', 'ASTER GDEM', 'NASADEM']\",\n",
       " 'Proj4': '+proj=longlat +datum=WGS84 +no_defs',\n",
       " 'Datum': 'wgs84',\n",
       " 'EPSG': 4326.0,\n",
       " 'Units': 'degrees',\n",
       " 'GridMapping': 'latitude_longitude',\n",
       " 'Available': True}"
      ]
     },
     "execution_count": 30,
     "metadata": {},
     "output_type": "execute_result"
    }
   ],
   "source": [
    "projs['geographic']"
   ]
  },
  {
   "cell_type": "markdown",
   "metadata": {},
   "source": [
    "---\n",
    "## 3c. Compile a JSON  [[Task Object](https://appeears.earthdatacloud.nasa.gov/api/#task-object)]\n",
    "#### In this section, begin by setting up the information needed to compile an acceptable json for submitting an AρρEEARS area request. For detailed information on required json parameters, see the [API Documentation](https://appeears.earthdatacloud.nasa.gov/api/). "
   ]
  },
  {
   "cell_type": "code",
   "execution_count": 31,
   "metadata": {
    "scrolled": true
   },
   "outputs": [
    {
     "name": "stdout",
     "output_type": "stream",
     "text": [
      "Enter a Task Name: NPS Vegetation Area\n"
     ]
    }
   ],
   "source": [
    "task_name = input('Enter a Task Name: ') # User-defined name of the task: 'NPS Vegetation Area' used in example"
   ]
  },
  {
   "cell_type": "code",
   "execution_count": 32,
   "metadata": {},
   "outputs": [],
   "source": [
    "task_type = ['point','area']        # Type of task, area or point\n",
    "proj = projs['geographic']['Name']  # Set output projection \n",
    "outFormat = ['geotiff', 'netcdf4']  # Set output file format type\n",
    "startDate = '07-01-2017'            # Start of the date range for which to extract data: MM-DD-YYYY\n",
    "endDate = '07-31-2017'              # End of the date range for which to extract data: MM-DD-YYYY\n",
    "recurring = False                   # Specify True for a recurring date range\n",
    "#yearRange = [2000,2016]            # if recurring = True, set yearRange, change start/end date to MM-DD"
   ]
  },
  {
   "cell_type": "markdown",
   "metadata": {},
   "source": [
    "#### Below, compile the JSON to be submitted as an area request. Notice that `nps_gc` is inserted from the shapefile transformed to a json via the `geopandas` and `json` packages above in section 3a. "
   ]
  },
  {
   "cell_type": "code",
   "execution_count": 33,
   "metadata": {},
   "outputs": [],
   "source": [
    "task = {\n",
    "    'task_type': task_type[1],\n",
    "    'task_name': task_name,\n",
    "    'params': {\n",
    "         'dates': [\n",
    "         {\n",
    "             'startDate': startDate,\n",
    "             'endDate': endDate\n",
    "         }],\n",
    "         'layers': prodLayer,\n",
    "         'output': {\n",
    "                 'format': {\n",
    "                         'type': outFormat[0]}, \n",
    "                         'projection': proj},\n",
    "         'geo': nps_gc,\n",
    "    }\n",
    "}"
   ]
  },
  {
   "cell_type": "markdown",
   "metadata": {},
   "source": [
    "***\n",
    "## 3d. Submit a Task Request [[Submit Task](https://appeears.earthdatacloud.nasa.gov/api/#submit-task)]\n",
    "#### Below, post a call to the API task service, using the `task` json created above."
   ]
  },
  {
   "cell_type": "code",
   "execution_count": 34,
   "metadata": {},
   "outputs": [
    {
     "data": {
      "text/plain": [
       "{'task_id': 'c8445be1-95db-4c80-8381-281ae58b90e5', 'status': 'pending'}"
      ]
     },
     "execution_count": 34,
     "metadata": {},
     "output_type": "execute_result"
    }
   ],
   "source": [
    "task_response = r.post('{}task'.format(api), json=task, headers=head).json()  # Post json to the API task service, return response as json\n",
    "task_response                                                                 # Print task response"
   ]
  },
  {
   "cell_type": "markdown",
   "metadata": {},
   "source": [
    "***\n",
    "## 3e. Retrieve Task Status [[Retrieve Task](https://appeears.earthdatacloud.nasa.gov/api/#retrieve-task)]\n",
    "#### This API call will list all of the requests associated with your user account, automatically sorted by date descending with the most recent requests listed first. "
   ]
  },
  {
   "cell_type": "markdown",
   "metadata": {},
   "source": [
    "#### The AρρEEARS API contains some helpful formatting resources. Below, limit the API response to 2 entries and set `pretty` to True to format the response as an organized json, making it easier to read. Additional information on AρρEEARS API [pagination](https://appeears.earthdatacloud.nasa.gov/api/#pagination) and [formatting](https://appeears.earthdatacloud.nasa.gov/api/#formatting) can be found in the API documentation. "
   ]
  },
  {
   "cell_type": "code",
   "execution_count": 35,
   "metadata": {},
   "outputs": [],
   "source": [
    "params = {'limit': 2, 'pretty': True} # Limit API response to 2 most recent entries, return as pretty json"
   ]
  },
  {
   "cell_type": "code",
   "execution_count": 36,
   "metadata": {},
   "outputs": [
    {
     "data": {
      "text/plain": [
       "[{'error': None,\n",
       "  'params': {'dates': [{'endDate': '07-31-2017', 'startDate': '07-01-2017'}],\n",
       "   'layers': [{'layer': 'LST_Day_1km', 'product': 'MOD11A2.061'},\n",
       "    {'layer': 'LST_Night_1km', 'product': 'MOD11A2.061'},\n",
       "    {'layer': 'Lai_500m', 'product': 'MCD15A3H.006'},\n",
       "    {'layer': 'SRTMGL1_DEM', 'product': 'SRTMGL1_NC.003'}],\n",
       "   'output': {'format': {'type': 'geotiff'}, 'projection': 'geographic'}},\n",
       "  'status': 'done',\n",
       "  'created': '2022-07-27T20:28:49.796689',\n",
       "  'task_id': 'c8445be1-95db-4c80-8381-281ae58b90e5',\n",
       "  'updated': '2022-07-27T20:29:41.261937',\n",
       "  'user_id': 'marie3.johnson@umontana.edu',\n",
       "  'attempts': 1,\n",
       "  'estimate': {'request_size': 443503.7217219878},\n",
       "  'retry_at': None,\n",
       "  'completed': '2022-07-27T20:29:41.246509',\n",
       "  'has_swath': False,\n",
       "  'task_name': 'NPS Vegetation Area',\n",
       "  'task_type': 'area',\n",
       "  'api_version': 'v1',\n",
       "  'svc_version': '3.6',\n",
       "  'web_version': None,\n",
       "  'size_category': '0',\n",
       "  'has_nsidc_daac': False,\n",
       "  'expires_on': '2022-09-25T20:29:41.261937'},\n",
       " {'error': None,\n",
       "  'params': {'dates': [{'endDate': '12-31-2020',\n",
       "     'recurring': False,\n",
       "     'startDate': '01-01-2019',\n",
       "     'yearRange': [1950, 2050]}],\n",
       "   'layers': [{'layer': 'Water_Use_Efficiency_WUEavg',\n",
       "     'product': 'ECO4WUE.001'}],\n",
       "   'output': {'format': {'type': 'geotiff'}, 'projection': 'geographic'}},\n",
       "  'status': 'done',\n",
       "  'created': '2022-07-19T23:05:50.575319',\n",
       "  'task_id': '5e8983f5-c455-4a10-827e-2204766aad25',\n",
       "  'updated': '2022-07-20T22:11:55.471284',\n",
       "  'user_id': 'marie3.johnson@umontana.edu',\n",
       "  'attempts': 1,\n",
       "  'estimate': {'request_size': 355726880445.968},\n",
       "  'retry_at': None,\n",
       "  'completed': '2022-07-20T22:11:55.451626',\n",
       "  'has_swath': True,\n",
       "  'task_name': 'Cave_WUE_2019-2020',\n",
       "  'task_type': 'area',\n",
       "  'api_version': None,\n",
       "  'svc_version': '3.6',\n",
       "  'web_version': '3.1',\n",
       "  'size_category': '0',\n",
       "  'has_nsidc_daac': False,\n",
       "  'expires_on': '2022-09-18T22:11:55.471284'}]"
      ]
     },
     "execution_count": 36,
     "metadata": {},
     "output_type": "execute_result"
    }
   ],
   "source": [
    "tasks_response = r.get('{}task'.format(api), params=params, headers=head).json() # Query task service, setting params and header \n",
    "tasks_response                                                                   # Print tasks response"
   ]
  },
  {
   "cell_type": "markdown",
   "metadata": {},
   "source": [
    "#### Next, take the task id returned from the `task_response` that was generated when submitting your request, and use the AρρEEARS API status service to check the status of your request."
   ]
  },
  {
   "cell_type": "code",
   "execution_count": 37,
   "metadata": {},
   "outputs": [
    {
     "data": {
      "text/plain": [
       "{'error': None,\n",
       " 'params': {'geo': {'type': 'FeatureCollection',\n",
       "   'features': [{'id': '0',\n",
       "     'type': 'Feature',\n",
       "     'geometry': {'type': 'Polygon',\n",
       "      'coordinates': [[[-113.80445236, 47.46253262],\n",
       "        [-113.80443895, 47.4591269],\n",
       "        [-113.8044246, 47.4554903],\n",
       "        [-113.80439694, 47.45188693],\n",
       "        [-113.80436928, 47.44828356],\n",
       "        [-113.80434162, 47.44468015],\n",
       "        [-113.80431394, 47.44107678],\n",
       "        [-113.80429154, 47.43741504],\n",
       "        [-113.80426929, 47.43378608],\n",
       "        [-113.80424814, 47.43014632],\n",
       "        [-113.80422704, 47.42651664],\n",
       "        [-113.80422698, 47.42650653],\n",
       "        [-113.80423302, 47.4228659],\n",
       "        [-113.80423909, 47.41922527],\n",
       "        [-113.80424516, 47.41558465],\n",
       "        [-113.80425122, 47.41194402],\n",
       "        [-113.80426802, 47.40829157],\n",
       "        [-113.8042848, 47.40463913],\n",
       "        [-113.80428718, 47.40412241],\n",
       "        [-113.80659716, 47.40382152],\n",
       "        [-113.81182462, 47.402905],\n",
       "        [-113.81724011, 47.40266987],\n",
       "        [-113.82219946, 47.40202326],\n",
       "        [-113.82662299, 47.4019171],\n",
       "        [-113.8307159, 47.40185393],\n",
       "        [-113.83354913, 47.4021904],\n",
       "        [-113.836713, 47.40248366],\n",
       "        [-113.83874285, 47.40363101],\n",
       "        [-113.84023714, 47.40531903],\n",
       "        [-113.84100743, 47.40686618],\n",
       "        [-113.84242247, 47.4095061],\n",
       "        [-113.84424764, 47.41115095],\n",
       "        [-113.84508093, 47.41292529],\n",
       "        [-113.8467641, 47.41529487],\n",
       "        [-113.84825887, 47.41698287],\n",
       "        [-113.85002154, 47.41840049],\n",
       "        [-113.85304418, 47.41941815],\n",
       "        [-113.8561461, 47.41948379],\n",
       "        [-113.85819309, 47.41945178],\n",
       "        [-113.85995604, 47.42086928],\n",
       "        [-113.85940419, 47.42258923],\n",
       "        [-113.85878941, 47.42408199],\n",
       "        [-113.8587239, 47.42504736],\n",
       "        [-113.85973895, 47.42641429],\n",
       "        [-113.86179624, 47.42627865],\n",
       "        [-113.86211076, 47.42741461],\n",
       "        [-113.86176383, 47.42863701],\n",
       "        [-113.86186074, 47.43013588],\n",
       "        [-113.86333203, 47.43019356],\n",
       "        [-113.86393362, 47.43105219],\n",
       "        [-113.86336892, 47.43195851],\n",
       "        [-113.86190392, 47.43285617],\n",
       "        [-113.86319455, 47.43504172],\n",
       "        [-113.86146162, 47.4362098],\n",
       "        [-113.85909959, 47.43510586],\n",
       "        [-113.85832854, 47.43355866],\n",
       "        [-113.85596667, 47.43245467],\n",
       "        [-113.85473922, 47.43049627],\n",
       "        [-113.85475555, 47.42931709],\n",
       "        [-113.85398467, 47.4277699],\n",
       "        [-113.85094523, 47.4279314],\n",
       "        [-113.84732362, 47.42722722],\n",
       "        [-113.84434702, 47.42761579],\n",
       "        [-113.84083457, 47.42854502],\n",
       "        [-113.83796688, 47.43056704],\n",
       "        [-113.83642208, 47.43241641],\n",
       "        [-113.8343381, 47.4332291],\n",
       "        [-113.83208444, 47.43396041],\n",
       "        [-113.82927509, 47.43432679],\n",
       "        [-113.82751476, 47.43486873],\n",
       "        [-113.82760583, 47.43585651],\n",
       "        [-113.8287927, 47.43620158],\n",
       "        [-113.83091199, 47.43630009],\n",
       "        [-113.83153433, 47.4369062],\n",
       "        [-113.83185551, 47.43773902],\n",
       "        [-113.83342253, 47.43847184],\n",
       "        [-113.83596422, 47.43845271],\n",
       "        [-113.83714335, 47.43811145],\n",
       "        [-113.83766228, 47.43735646],\n",
       "        [-113.83798895, 47.43656408],\n",
       "        [-113.83751321, 47.43550151],\n",
       "        [-113.83895548, 47.43538157],\n",
       "        [-113.84015292, 47.43475451],\n",
       "        [-113.84226324, 47.43494994],\n",
       "        [-113.84369548, 47.4364109],\n",
       "        [-113.84268659, 47.43771962],\n",
       "        [-113.84306367, 47.43908288],\n",
       "        [-113.8463551, 47.43983038],\n",
       "        [-113.84957447, 47.44030052],\n",
       "        [-113.84892934, 47.44257163],\n",
       "        [-113.84962731, 47.44670123],\n",
       "        [-113.84992529, 47.44901656],\n",
       "        [-113.84810899, 47.45111401],\n",
       "        [-113.8465674, 47.45298621],\n",
       "        [-113.84377822, 47.45405645],\n",
       "        [-113.8409095, 47.45607871],\n",
       "        [-113.83578718, 47.45863025],\n",
       "        [-113.83250752, 47.46164761],\n",
       "        [-113.83023714, 47.46335617],\n",
       "        [-113.82613885, 47.46619852],\n",
       "        [-113.82328277, 47.46920655],\n",
       "        [-113.82142261, 47.46991978],\n",
       "        [-113.82086028, 47.46741424],\n",
       "        [-113.82259189, 47.46670688],\n",
       "        [-113.82380697, 47.46490056],\n",
       "        [-113.82256294, 47.46412098],\n",
       "        [-113.8212392, 47.46429347],\n",
       "        [-113.81925358, 47.46455217],\n",
       "        [-113.81654328, 47.46466983],\n",
       "        [-113.81563028, 47.46384707],\n",
       "        [-113.81386713, 47.46242879],\n",
       "        [-113.81289143, 47.46137878],\n",
       "        [-113.81086024, 47.46023082],\n",
       "        [-113.8087492, 47.46003489],\n",
       "        [-113.80722007, 47.46070481],\n",
       "        [-113.80535998, 47.46141781],\n",
       "        [-113.80461813, 47.46245604],\n",
       "        [-113.80445236, 47.46253262]]]},\n",
       "     'properties': {'WID': '360',\n",
       "      'AREAID': '052',\n",
       "      'GIS_ACRES': 76145.19375509,\n",
       "      'SHAPE_LEN': 1.4636107524,\n",
       "      'BOUNDARYST': 'Final',\n",
       "      'SHAPE_AREA': 0.0367560472427,\n",
       "      'WILDERNESS': '10506010343',\n",
       "      'WILDERNE_1': 'Mission Mountains Wilderness'}}]},\n",
       "  'dates': [{'endDate': '07-31-2017', 'startDate': '07-01-2017'}],\n",
       "  'layers': [{'layer': 'LST_Day_1km', 'product': 'MOD11A2.061'},\n",
       "   {'layer': 'LST_Night_1km', 'product': 'MOD11A2.061'},\n",
       "   {'layer': 'Lai_500m', 'product': 'MCD15A3H.006'},\n",
       "   {'layer': 'SRTMGL1_DEM', 'product': 'SRTMGL1_NC.003'}],\n",
       "  'output': {'format': {'type': 'geotiff'}, 'projection': 'geographic'}},\n",
       " 'status': 'done',\n",
       " 'created': '2022-07-27T20:28:49.796689',\n",
       " 'task_id': 'c8445be1-95db-4c80-8381-281ae58b90e5',\n",
       " 'updated': '2022-07-27T20:29:41.261937',\n",
       " 'user_id': 'marie3.johnson@umontana.edu',\n",
       " 'attempts': 1,\n",
       " 'estimate': {'request_size': 443503.7217219878},\n",
       " 'retry_at': None,\n",
       " 'completed': '2022-07-27T20:29:41.246509',\n",
       " 'has_swath': False,\n",
       " 'task_name': 'NPS Vegetation Area',\n",
       " 'task_type': 'area',\n",
       " 'api_version': 'v1',\n",
       " 'svc_version': '3.6',\n",
       " 'web_version': None,\n",
       " 'size_category': '0',\n",
       " 'has_nsidc_daac': False,\n",
       " 'expires_on': '2022-09-25T20:29:41.261937'}"
      ]
     },
     "execution_count": 37,
     "metadata": {},
     "output_type": "execute_result"
    }
   ],
   "source": [
    "task_id = task_response['task_id']                                               # Set task id from request submission\n",
    "status_response = r.get('{}status/{}'.format(api, task_id), headers=head).json() # Call status service with specific task ID & user credentials\n",
    "status_response                                                        "
   ]
  },
  {
   "cell_type": "markdown",
   "metadata": {},
   "source": [
    "#### Above, if your request is still processing, you can find information on the status of how close it is to completing. \n",
    "#### Below, call the task service for your request every 20 seconds to check the status of your request."
   ]
  },
  {
   "cell_type": "code",
   "execution_count": 38,
   "metadata": {},
   "outputs": [
    {
     "name": "stdout",
     "output_type": "stream",
     "text": [
      "done\n"
     ]
    }
   ],
   "source": [
    "# Ping API until request is complete, then continue to Section 4\n",
    "starttime = time.time()\n",
    "while r.get('{}task/{}'.format(api, task_id), headers=head).json()['status'] != 'done':\n",
    "    print(r.get('{}task/{}'.format(api, task_id), headers=head).json()['status'])\n",
    "    time.sleep(20.0 - ((time.time() - starttime) % 20.0))\n",
    "print(r.get('{}task/{}'.format(api, task_id), headers=head).json()['status'])"
   ]
  },
  {
   "cell_type": "markdown",
   "metadata": {},
   "source": [
    "***\n",
    "# 4. Download a Request [[Bundle API](https://appeears.earthdatacloud.nasa.gov/api/#bundle)]\n",
    "#### Before downloading the request output, set up an output directory to store the output files, and examine the files contained in the request output. "
   ]
  },
  {
   "cell_type": "code",
   "execution_count": 40,
   "metadata": {},
   "outputs": [],
   "source": [
    "# destDir = os.path.join(inDir, task_name)                # Set up output directory using input directory and task name\n",
    "practDir = '/home/marie/wildfire/API/practice'\n",
    "destDir = os.path.join(practDir, task_name)                # Set up output directory using input directory and task name\n",
    "if not os.path.exists(destDir):os.makedirs(destDir)     # Create the output directory"
   ]
  },
  {
   "cell_type": "markdown",
   "metadata": {},
   "source": [
    "---\n",
    "## 4a. Explore Files in Request Output [[List Files](https://appeears.earthdatacloud.nasa.gov/api/#list-files)]\n",
    "#### The bundle API provides information about completed tasks. For any completed task, a bundle can be queried to return the files contained as a part of the task request. Below, call the bundle API and return all of the output files."
   ]
  },
  {
   "cell_type": "code",
   "execution_count": 41,
   "metadata": {
    "scrolled": true
   },
   "outputs": [
    {
     "data": {
      "text/plain": [
       "{'files': [{'sha256': '6bf14edfaab60a0824ad83f2fa5f732da860482f28dc5a997f3ef45913ca8f74',\n",
       "   'file_id': '0f8c323a-53dc-47e3-883c-ef4e7de4dbfe',\n",
       "   'file_name': 'MCD15A3H.006_2017179_to_2017212/MCD15A3H.006_Lai_500m_doy2017181_aid0001.tif',\n",
       "   'file_size': 727,\n",
       "   'file_type': 'tif'},\n",
       "  {'sha256': 'b3e5a3e40f3df68ff48b81ca11fba33e06fba1de06608fd6f9124b285544a69d',\n",
       "   'file_id': '2654fd9c-60db-4b51-ab2e-df385398f52b',\n",
       "   'file_name': 'MCD15A3H.006_2017179_to_2017212/MCD15A3H.006_Lai_500m_doy2017185_aid0001.tif',\n",
       "   'file_size': 704,\n",
       "   'file_type': 'tif'},\n",
       "  {'sha256': '33bee4112c65e36dfb8d54b56db0d32bdccc5a5352c896570fcb2ebdde436bf1',\n",
       "   'file_id': 'ada150d9-71c6-4eff-beb8-32bbbff5dfa8',\n",
       "   'file_name': 'MCD15A3H.006_2017179_to_2017212/MCD15A3H.006_Lai_500m_doy2017189_aid0001.tif',\n",
       "   'file_size': 713,\n",
       "   'file_type': 'tif'},\n",
       "  {'sha256': '1fc1b63225406184966754c1e693e41e3bdde239fcccaa47c678b2a55e63a5f2',\n",
       "   'file_id': '22be92d7-1451-4feb-82ee-c2bd44c415f7',\n",
       "   'file_name': 'MCD15A3H.006_2017179_to_2017212/MCD15A3H.006_Lai_500m_doy2017193_aid0001.tif',\n",
       "   'file_size': 717,\n",
       "   'file_type': 'tif'},\n",
       "  {'sha256': 'cdc8b9306a005e40af3efbbc2e2aebaea61c68a98cc68b64e4e2eb3325e64e69',\n",
       "   'file_id': '4dbd3d87-6c0e-4d64-a8f1-b80c11da8c8d',\n",
       "   'file_name': 'MCD15A3H.006_2017179_to_2017212/MCD15A3H.006_Lai_500m_doy2017197_aid0001.tif',\n",
       "   'file_size': 723,\n",
       "   'file_type': 'tif'},\n",
       "  {'sha256': '8f5385f77b980bd8cbd55d10e5053d43719124d8330bdcf5c0a53110fbcbeab5',\n",
       "   'file_id': '83305556-3907-4425-81da-7a4c5003ef4c',\n",
       "   'file_name': 'MCD15A3H.006_2017179_to_2017212/MCD15A3H.006_Lai_500m_doy2017201_aid0001.tif',\n",
       "   'file_size': 712,\n",
       "   'file_type': 'tif'},\n",
       "  {'sha256': 'bf5c4d641ff5fafff11e32564b2f50b44b294efa2b0d9c949775b7f2cbfbd2d2',\n",
       "   'file_id': 'a87282b0-7401-44eb-8004-a7be237c0294',\n",
       "   'file_name': 'MCD15A3H.006_2017179_to_2017212/MCD15A3H.006_Lai_500m_doy2017205_aid0001.tif',\n",
       "   'file_size': 719,\n",
       "   'file_type': 'tif'},\n",
       "  {'sha256': '20c866dfd0be58f86108b808b8b4bf6d47c4ae3d92c8be11c6dcfd055100d304',\n",
       "   'file_id': 'ccb3724f-ea02-42c2-b400-eec1ba62281a',\n",
       "   'file_name': 'MCD15A3H.006_2017179_to_2017212/MCD15A3H.006_Lai_500m_doy2017209_aid0001.tif',\n",
       "   'file_size': 719,\n",
       "   'file_type': 'tif'},\n",
       "  {'sha256': '7e258c61c55a1ce0d0bc6e4ee41b4e4ba49b6453f592b4089f25ef7116678850',\n",
       "   'file_id': '349a12c1-3f9b-4a97-950c-a2a383434828',\n",
       "   'file_name': 'MCD15A3H.006_2017179_to_2017212/MCD15A3H.006_FparLai_QC_doy2017181_aid0001.tif',\n",
       "   'file_size': 642,\n",
       "   'file_type': 'tif'},\n",
       "  {'sha256': 'ce9c49864f5587cd6f7d205834eb72ee2a0ce11d422af6ed572d546e0e11d6e4',\n",
       "   'file_id': 'b2ba9a37-119b-4de1-a2fa-808240a78592',\n",
       "   'file_name': 'MCD15A3H.006_2017179_to_2017212/MCD15A3H.006_FparLai_QC_doy2017185_aid0001.tif',\n",
       "   'file_size': 638,\n",
       "   'file_type': 'tif'},\n",
       "  {'sha256': '62600e33d12897f7fdf92030d34dc88278b47f02a21751cbfbb8fdd39831b042',\n",
       "   'file_id': 'ab43049e-0b0f-44c0-88ad-82b1f69b70dd',\n",
       "   'file_name': 'MCD15A3H.006_2017179_to_2017212/MCD15A3H.006_FparLai_QC_doy2017189_aid0001.tif',\n",
       "   'file_size': 641,\n",
       "   'file_type': 'tif'},\n",
       "  {'sha256': '6fabde633d5fadbe8d39a7d3966da02b4781cf949a661f5151a20dd279e363e2',\n",
       "   'file_id': 'f50c18f8-c213-4d52-b4f8-63653dc2e12d',\n",
       "   'file_name': 'MCD15A3H.006_2017179_to_2017212/MCD15A3H.006_FparLai_QC_doy2017193_aid0001.tif',\n",
       "   'file_size': 636,\n",
       "   'file_type': 'tif'},\n",
       "  {'sha256': 'd410bcd50b0586929d0e52c90d03ff80b57acf56cf053fdaa092fdbed3d09837',\n",
       "   'file_id': 'bf48ce62-4fec-46f3-9ab3-dd88434cbdd5',\n",
       "   'file_name': 'MCD15A3H.006_2017179_to_2017212/MCD15A3H.006_FparLai_QC_doy2017197_aid0001.tif',\n",
       "   'file_size': 642,\n",
       "   'file_type': 'tif'},\n",
       "  {'sha256': '5126817addb5f07728992657f54ff9637f74e3ffd2a0429b0b26c36ea7f6e88c',\n",
       "   'file_id': '3366710c-1a3e-4552-92a7-2c31b6f08804',\n",
       "   'file_name': 'MCD15A3H.006_2017179_to_2017212/MCD15A3H.006_FparLai_QC_doy2017201_aid0001.tif',\n",
       "   'file_size': 636,\n",
       "   'file_type': 'tif'},\n",
       "  {'sha256': '68ca853d2a3a105333daaa53c9809f4bb4d81cd5e7727b9be66cb5f0aefe0efd',\n",
       "   'file_id': 'a8f26730-c10f-4d76-9425-a838b33f5ea8',\n",
       "   'file_name': 'MCD15A3H.006_2017179_to_2017212/MCD15A3H.006_FparLai_QC_doy2017205_aid0001.tif',\n",
       "   'file_size': 635,\n",
       "   'file_type': 'tif'},\n",
       "  {'sha256': '262b3109ceea5178359dd690a2ccfff4bc269f55c431f9036446de068026dfd0',\n",
       "   'file_id': 'f14edf52-bcb5-4de7-8712-7cf4eab84562',\n",
       "   'file_name': 'MCD15A3H.006_2017179_to_2017212/MCD15A3H.006_FparLai_QC_doy2017209_aid0001.tif',\n",
       "   'file_size': 638,\n",
       "   'file_type': 'tif'},\n",
       "  {'sha256': 'e855a0ee4a62f28b7beddfb199848c12b1b9b17aba8127e80a1d5752af19878f',\n",
       "   'file_id': '0b610917-476e-408f-8601-8d5c4c412bab',\n",
       "   'file_name': 'MCD15A3H.006_2017179_to_2017212/MCD15A3H.006_FparExtra_QC_doy2017181_aid0001.tif',\n",
       "   'file_size': 661,\n",
       "   'file_type': 'tif'},\n",
       "  {'sha256': '435c8453c70ae1dc4ac9de33411fb0771b565b2a7a55057b161f9281f38a7b96',\n",
       "   'file_id': '3a0fea26-f823-454f-b86d-1a5f4fd9e222',\n",
       "   'file_name': 'MCD15A3H.006_2017179_to_2017212/MCD15A3H.006_FparExtra_QC_doy2017185_aid0001.tif',\n",
       "   'file_size': 656,\n",
       "   'file_type': 'tif'},\n",
       "  {'sha256': 'a4399eea77e814e4f169e8d34c50151dbbd497d926d1979d4201791e1259689a',\n",
       "   'file_id': '19d0d49d-63eb-42e9-95e4-20824dab4b7d',\n",
       "   'file_name': 'MCD15A3H.006_2017179_to_2017212/MCD15A3H.006_FparExtra_QC_doy2017189_aid0001.tif',\n",
       "   'file_size': 666,\n",
       "   'file_type': 'tif'},\n",
       "  {'sha256': 'bbe5bdc3fdcaadbca45e68e053f22a729fb5cfe76b8d6432f753cdf63dd68304',\n",
       "   'file_id': '7d901f88-e12f-4cc7-a3e4-faf4ad4b0f26',\n",
       "   'file_name': 'MCD15A3H.006_2017179_to_2017212/MCD15A3H.006_FparExtra_QC_doy2017193_aid0001.tif',\n",
       "   'file_size': 634,\n",
       "   'file_type': 'tif'},\n",
       "  {'sha256': '7d3bb600f2d65995288d96a4571266efa246828f601ba8fbc82e2fcb69d74719',\n",
       "   'file_id': 'd0ef9af8-56f8-490c-8545-2d36eff6f19e',\n",
       "   'file_name': 'MCD15A3H.006_2017179_to_2017212/MCD15A3H.006_FparExtra_QC_doy2017197_aid0001.tif',\n",
       "   'file_size': 636,\n",
       "   'file_type': 'tif'},\n",
       "  {'sha256': '37c551ca87891c04bc647963fed2495686f07e16a5db4d246e253b0d8a0dd16e',\n",
       "   'file_id': '2e8cb68b-c313-4448-85d6-5e56bffe5d67',\n",
       "   'file_name': 'MCD15A3H.006_2017179_to_2017212/MCD15A3H.006_FparExtra_QC_doy2017201_aid0001.tif',\n",
       "   'file_size': 630,\n",
       "   'file_type': 'tif'},\n",
       "  {'sha256': '2e665dade162b3173b5f881bdf9676a25f2750b8838c60bf58f07c10ab62de21',\n",
       "   'file_id': '3ac628b7-b71b-45b1-983f-2c42f9ec2dad',\n",
       "   'file_name': 'MCD15A3H.006_2017179_to_2017212/MCD15A3H.006_FparExtra_QC_doy2017205_aid0001.tif',\n",
       "   'file_size': 630,\n",
       "   'file_type': 'tif'},\n",
       "  {'sha256': '57fb753645135ba13c6f999d289d4afd640a9d5af9df23833fe73464a300b16d',\n",
       "   'file_id': 'fc54a21e-52a6-4efc-b989-33c3ea0712d7',\n",
       "   'file_name': 'MCD15A3H.006_2017179_to_2017212/MCD15A3H.006_FparExtra_QC_doy2017209_aid0001.tif',\n",
       "   'file_size': 639,\n",
       "   'file_type': 'tif'},\n",
       "  {'sha256': '074541e71e46df66c66349b1a2fd59148c37d5c72eb39d50e9518dea6b4e378b',\n",
       "   'file_id': '68aaf420-5d62-4aa7-a140-16efc65768ed',\n",
       "   'file_name': 'MOD11A2.061_2017175_to_2017212/MOD11A2.061_LST_Day_1km_doy2017177_aid0001.tif',\n",
       "   'file_size': 664,\n",
       "   'file_type': 'tif'},\n",
       "  {'sha256': 'b4a3c112e0f8255d8744037be0dc13cd65db9c93355f707198f8223422c2d2e5',\n",
       "   'file_id': '5867fba7-7e21-4aaa-9917-c34f01141ca8',\n",
       "   'file_name': 'MOD11A2.061_2017175_to_2017212/MOD11A2.061_LST_Day_1km_doy2017185_aid0001.tif',\n",
       "   'file_size': 659,\n",
       "   'file_type': 'tif'},\n",
       "  {'sha256': 'd57b34e214aade6abc3c5fb61b3d09ec8a1f1e2bf36cb721266613e3a6deba0b',\n",
       "   'file_id': 'f244f2d4-9d07-4436-8bb6-3852329e97cf',\n",
       "   'file_name': 'MOD11A2.061_2017175_to_2017212/MOD11A2.061_LST_Day_1km_doy2017193_aid0001.tif',\n",
       "   'file_size': 665,\n",
       "   'file_type': 'tif'},\n",
       "  {'sha256': '691c74cfc1baa9fa056ad678b970967749799ccadefc540aa111466b3dad431b',\n",
       "   'file_id': 'bd0ffb6e-332c-4c29-90a9-c9fb69e89b65',\n",
       "   'file_name': 'MOD11A2.061_2017175_to_2017212/MOD11A2.061_LST_Day_1km_doy2017201_aid0001.tif',\n",
       "   'file_size': 659,\n",
       "   'file_type': 'tif'},\n",
       "  {'sha256': 'fa0b1681e6323fc822982319a3fa3c294bc9de570e8e7ba5455d671003166c00',\n",
       "   'file_id': 'aa6d3a9a-f94f-495c-804a-b332df90f5c9',\n",
       "   'file_name': 'MOD11A2.061_2017175_to_2017212/MOD11A2.061_LST_Day_1km_doy2017209_aid0001.tif',\n",
       "   'file_size': 661,\n",
       "   'file_type': 'tif'},\n",
       "  {'sha256': '422da57e6a3350a10b07f8277a38033e6bd6e88c2a91a8f06c3347cb9788cd75',\n",
       "   'file_id': '936bf599-6bf1-4848-ad80-7ae993357616',\n",
       "   'file_name': 'MOD11A2.061_2017175_to_2017212/MOD11A2.061_LST_Night_1km_doy2017177_aid0001.tif',\n",
       "   'file_size': 652,\n",
       "   'file_type': 'tif'},\n",
       "  {'sha256': 'fb164842e391f86d090b2acfda992a22e4a9e303012941acfa042576148354f4',\n",
       "   'file_id': '93558a8d-ea17-4807-985a-9dd043501aa9',\n",
       "   'file_name': 'MOD11A2.061_2017175_to_2017212/MOD11A2.061_LST_Night_1km_doy2017185_aid0001.tif',\n",
       "   'file_size': 655,\n",
       "   'file_type': 'tif'},\n",
       "  {'sha256': '6ed821303f43e25633937b94cf3ae1dfcce28f56ee6bac887438a790fede9ac6',\n",
       "   'file_id': '53426b27-447e-4ddf-a924-6a320669867f',\n",
       "   'file_name': 'MOD11A2.061_2017175_to_2017212/MOD11A2.061_LST_Night_1km_doy2017193_aid0001.tif',\n",
       "   'file_size': 657,\n",
       "   'file_type': 'tif'},\n",
       "  {'sha256': '8e86c4b6bb5609a1f2bf89b4c10cbc4a757807cd52dae8833d20cbbd1e125336',\n",
       "   'file_id': 'ffb6d4f7-7720-44ce-aff5-b821e60547fc',\n",
       "   'file_name': 'MOD11A2.061_2017175_to_2017212/MOD11A2.061_LST_Night_1km_doy2017201_aid0001.tif',\n",
       "   'file_size': 658,\n",
       "   'file_type': 'tif'},\n",
       "  {'sha256': '6b998e25c295c3fe026d6c53915a3e4dc8dcab7ca570e2d26b1b336bb94494ba',\n",
       "   'file_id': '9db945d4-77f1-46f8-b473-5282eae09738',\n",
       "   'file_name': 'MOD11A2.061_2017175_to_2017212/MOD11A2.061_LST_Night_1km_doy2017209_aid0001.tif',\n",
       "   'file_size': 655,\n",
       "   'file_type': 'tif'},\n",
       "  {'sha256': 'f5848c5ed515d7be7fa67a9dca10fb58e44d6c20f2944a4a16fffcaf7dc5adc7',\n",
       "   'file_id': '85ce163e-e0bc-48a8-b6e9-eb21351ff872',\n",
       "   'file_name': 'MOD11A2.061_2017175_to_2017212/MOD11A2.061_QC_Day_doy2017177_aid0001.tif',\n",
       "   'file_size': 560,\n",
       "   'file_type': 'tif'},\n",
       "  {'sha256': 'f5848c5ed515d7be7fa67a9dca10fb58e44d6c20f2944a4a16fffcaf7dc5adc7',\n",
       "   'file_id': 'cba1417f-1281-413f-b777-08c6be41567f',\n",
       "   'file_name': 'MOD11A2.061_2017175_to_2017212/MOD11A2.061_QC_Day_doy2017185_aid0001.tif',\n",
       "   'file_size': 560,\n",
       "   'file_type': 'tif'},\n",
       "  {'sha256': 'f5848c5ed515d7be7fa67a9dca10fb58e44d6c20f2944a4a16fffcaf7dc5adc7',\n",
       "   'file_id': '7d093717-215b-4094-9e47-2f3fd09bd6ce',\n",
       "   'file_name': 'MOD11A2.061_2017175_to_2017212/MOD11A2.061_QC_Day_doy2017193_aid0001.tif',\n",
       "   'file_size': 560,\n",
       "   'file_type': 'tif'},\n",
       "  {'sha256': 'f5848c5ed515d7be7fa67a9dca10fb58e44d6c20f2944a4a16fffcaf7dc5adc7',\n",
       "   'file_id': 'cc7da731-b05b-4311-8add-ffb5dfdf4990',\n",
       "   'file_name': 'MOD11A2.061_2017175_to_2017212/MOD11A2.061_QC_Day_doy2017201_aid0001.tif',\n",
       "   'file_size': 560,\n",
       "   'file_type': 'tif'},\n",
       "  {'sha256': 'f5848c5ed515d7be7fa67a9dca10fb58e44d6c20f2944a4a16fffcaf7dc5adc7',\n",
       "   'file_id': 'b953ea61-cce9-4564-bb03-fe6d3f1799fe',\n",
       "   'file_name': 'MOD11A2.061_2017175_to_2017212/MOD11A2.061_QC_Day_doy2017209_aid0001.tif',\n",
       "   'file_size': 560,\n",
       "   'file_type': 'tif'},\n",
       "  {'sha256': 'b6ec51331254e2371abc9a497db09e297baeee4730b73a33d19a1690e389ae35',\n",
       "   'file_id': '82b99959-5399-44fa-b691-2dcd47da22ca',\n",
       "   'file_name': 'MOD11A2.061_2017175_to_2017212/MOD11A2.061_QC_Night_doy2017177_aid0001.tif',\n",
       "   'file_size': 562,\n",
       "   'file_type': 'tif'},\n",
       "  {'sha256': 'f5848c5ed515d7be7fa67a9dca10fb58e44d6c20f2944a4a16fffcaf7dc5adc7',\n",
       "   'file_id': '8c369dfb-6ca7-46bb-b99f-d27c9bdeb046',\n",
       "   'file_name': 'MOD11A2.061_2017175_to_2017212/MOD11A2.061_QC_Night_doy2017185_aid0001.tif',\n",
       "   'file_size': 560,\n",
       "   'file_type': 'tif'},\n",
       "  {'sha256': 'f5848c5ed515d7be7fa67a9dca10fb58e44d6c20f2944a4a16fffcaf7dc5adc7',\n",
       "   'file_id': '89174dc3-72c0-44d8-a0d1-900b6876059b',\n",
       "   'file_name': 'MOD11A2.061_2017175_to_2017212/MOD11A2.061_QC_Night_doy2017193_aid0001.tif',\n",
       "   'file_size': 560,\n",
       "   'file_type': 'tif'},\n",
       "  {'sha256': 'f5848c5ed515d7be7fa67a9dca10fb58e44d6c20f2944a4a16fffcaf7dc5adc7',\n",
       "   'file_id': 'c6bf1636-cbf6-4f95-8f3b-67d5697a0baf',\n",
       "   'file_name': 'MOD11A2.061_2017175_to_2017212/MOD11A2.061_QC_Night_doy2017201_aid0001.tif',\n",
       "   'file_size': 560,\n",
       "   'file_type': 'tif'},\n",
       "  {'sha256': 'f5848c5ed515d7be7fa67a9dca10fb58e44d6c20f2944a4a16fffcaf7dc5adc7',\n",
       "   'file_id': '8ca5e550-645d-4919-8476-ca57c4cd5d5f',\n",
       "   'file_name': 'MOD11A2.061_2017175_to_2017212/MOD11A2.061_QC_Night_doy2017209_aid0001.tif',\n",
       "   'file_size': 560,\n",
       "   'file_type': 'tif'},\n",
       "  {'sha256': 'bb092c9c9e32cf49c31caa5cee73ef48481dcbd88276b2bb245819b491d169de',\n",
       "   'file_id': '63f19481-564d-40f7-905a-c3095fb035dc',\n",
       "   'file_name': 'SRTMGL1_NC.003_2000001_to_2022208/SRTMGL1_NC.003_SRTMGL1_DEM_doy2000042_aid0001.tif',\n",
       "   'file_size': 54026,\n",
       "   'file_type': 'tif'},\n",
       "  {'sha256': '1ca6d09c4f91dbcd10262a72035a8cd73c166c8f647b23c402ba3b4b25d1a17f',\n",
       "   'file_id': 'cae216da-1314-4e91-84b1-910a143ec39c',\n",
       "   'file_name': 'SRTMGL1_NUMNC.003_2000001_to_2022208/SRTMGL1_NUMNC.003_SRTMGL1_NUM_doy2000042_aid0001.tif',\n",
       "   'file_size': 6897,\n",
       "   'file_type': 'tif'},\n",
       "  {'sha256': 'cd655891f53213f366d8caa5be05ddb5bbdf9eff14a42681abd4707498439f3f',\n",
       "   'file_id': '79ce2e9d-0341-4a33-81c9-9edcf0135e1f',\n",
       "   'file_name': 'MCD15A3H-006-FparLai-QC-lookup.csv',\n",
       "   'file_size': 2084,\n",
       "   'file_type': 'csv'},\n",
       "  {'sha256': '66c36bb614689e18e6fe21a091b847706885be26cf4e7fa9846052bb1bb2529d',\n",
       "   'file_id': '9cecdc92-f2f3-4357-9b4e-65c92203e5dd',\n",
       "   'file_name': 'MCD15A3H-006-FparExtra-QC-lookup.csv',\n",
       "   'file_size': 2974,\n",
       "   'file_type': 'csv'},\n",
       "  {'sha256': '5fb3daed88abb08fd00ff25173c0a9cdfae84e9f77f08653c811a0571cebf3b9',\n",
       "   'file_id': '6877f4ae-9a81-4f98-9c81-4ea052080322',\n",
       "   'file_name': 'MOD11A2-061-QC-Day-lookup.csv',\n",
       "   'file_size': 63,\n",
       "   'file_type': 'csv'},\n",
       "  {'sha256': '392114629bc377cdbecfb721a5fafeaec632797d6f1344abbd722bf377ab6598',\n",
       "   'file_id': '60df7996-8a5d-4529-a427-532de3750300',\n",
       "   'file_name': 'MOD11A2-061-QC-Night-lookup.csv',\n",
       "   'file_size': 214,\n",
       "   'file_type': 'csv'},\n",
       "  {'sha256': 'e26946d38fb596c7e572da62ad5c2ea8dfa19017644843eefe690d6cb55ff698',\n",
       "   'file_id': '7288d144-301c-4751-8313-6ebca88909a3',\n",
       "   'file_name': 'SRTMGL1-NUMNC-003-SRTMGL1-NUM-lookup.csv',\n",
       "   'file_size': 313,\n",
       "   'file_type': 'csv'},\n",
       "  {'sha256': 'd2602bd82131f9394a0cc13104f5485fa4d8bde2afab9acd053e10b87e32a481',\n",
       "   'file_id': '1b531df3-3626-4eee-a8b1-0d75e0e7acd4',\n",
       "   'file_name': 'MCD15A3H-006-FparLai-QC-Statistics-QA.csv',\n",
       "   'file_size': 551,\n",
       "   'file_type': 'csv'},\n",
       "  {'sha256': 'cb2354b57cbfa9744bd539e1bb2ffda077b109e9958b29332234cd1ae2c63204',\n",
       "   'file_id': '404cce87-76a6-47ed-a336-2f4f388c6f81',\n",
       "   'file_name': 'MCD15A3H-006-FparExtra-QC-Statistics-QA.csv',\n",
       "   'file_size': 703,\n",
       "   'file_type': 'csv'},\n",
       "  {'sha256': '2fde5156c569bb0995df406cf4cb8bb9fab72948faba640b6ba21537bb1723f4',\n",
       "   'file_id': 'b829148f-80e4-4c6b-94c6-f185eaa79aa9',\n",
       "   'file_name': 'MOD11A2-061-QC-Day-Statistics-QA.csv',\n",
       "   'file_size': 14,\n",
       "   'file_type': 'csv'},\n",
       "  {'sha256': '6ff73846105bc46aa2b7cefdc413396e9a8a18109fc27d3bc14fba131deed907',\n",
       "   'file_id': '09f6360e-1881-4b34-a2a9-9be2eaf57ec7',\n",
       "   'file_name': 'MOD11A2-061-QC-Night-Statistics-QA.csv',\n",
       "   'file_size': 63,\n",
       "   'file_type': 'csv'},\n",
       "  {'sha256': '690788b943dd8f58007a49014e3743e88b65e7249e11d1969aa369d5fa5dee31',\n",
       "   'file_id': '2e9c059a-07b7-4b30-8861-da743902d464',\n",
       "   'file_name': 'SRTMGL1-NUMNC-003-SRTMGL1-NUM-Statistics-QA.csv',\n",
       "   'file_size': 112,\n",
       "   'file_type': 'csv'},\n",
       "  {'sha256': '2d9867d24195fee40eb9e56824615caa06e78e109c7422fc5544e92138b95a9b',\n",
       "   'file_id': '7a4e5c1b-9657-4b1f-89b7-248a9147bc44',\n",
       "   'file_name': 'MCD15A3H-006-Statistics.csv',\n",
       "   'file_size': 1310,\n",
       "   'file_type': 'csv'},\n",
       "  {'sha256': 'f5d04085cf570374708f72944209ace448c503f4fc215839df174cc6ef61eb8b',\n",
       "   'file_id': '0ef9b06d-e588-432a-be43-0bbe844c07fe',\n",
       "   'file_name': 'MOD11A2-061-Statistics.csv',\n",
       "   'file_size': 1933,\n",
       "   'file_type': 'csv'},\n",
       "  {'sha256': 'e15368381fa1d2f818bb06467cd3e0e7840a2c469d6c32378545ef8c0613a8e7',\n",
       "   'file_id': 'caaca47b-bd17-4fc1-84a9-8a78d76f32c5',\n",
       "   'file_name': 'SRTMGL1-NC-003-Statistics.csv',\n",
       "   'file_size': 344,\n",
       "   'file_type': 'csv'},\n",
       "  {'sha256': '9b231224128e4f847b177a68baaff4e884a66b1cf2019dc3b06cd98368f551ef',\n",
       "   'file_id': 'cb41d109-f368-4c11-925c-b0446d6aadcc',\n",
       "   'file_name': 'NPS-Vegetation-Area-granule-list.txt',\n",
       "   'file_size': 1675,\n",
       "   'file_type': 'txt'},\n",
       "  {'sha256': '99aad0df39ddeecbc5bb519fb02c21f20cfe907f34c851338b69df50b4cff54a',\n",
       "   'file_id': '36ff6620-97e9-483c-824f-38e10616f50b',\n",
       "   'file_name': 'NPS-Vegetation-Area-request.json',\n",
       "   'file_size': 4779,\n",
       "   'file_type': 'json'},\n",
       "  {'sha256': '30f34659bc2d1e9b0f6dede534bb73950c204652b2d9b3580788a0207f030987',\n",
       "   'file_id': 'f626699e-4068-489e-b4be-a901be88a47e',\n",
       "   'file_name': 'NPS-Vegetation-Area-MCD15A3H-006-metadata.xml',\n",
       "   'file_size': 22143,\n",
       "   'file_type': 'xml'},\n",
       "  {'sha256': '5667368311a3ba6dc3a25821338ccff7ef88c4c345904f7e28a4d9aec0c47858',\n",
       "   'file_id': '5e2025bd-9bf6-4af2-a2d5-0ff192e471f0',\n",
       "   'file_name': 'NPS-Vegetation-Area-MOD11A2-061-metadata.xml',\n",
       "   'file_size': 22099,\n",
       "   'file_type': 'xml'},\n",
       "  {'sha256': '5fd4d1ccdbfc7dbcb50df19782c360480494a3708fb7657569b81dd178894dcb',\n",
       "   'file_id': '29cd8ce0-3e3c-4e84-8c13-214f120391fa',\n",
       "   'file_name': 'NPS-Vegetation-Area-SRTMGL1-NC-003-metadata.xml',\n",
       "   'file_size': 22065,\n",
       "   'file_type': 'xml'},\n",
       "  {'sha256': '6573b56fba6514de3960824f538d40d0337afb079959b592414f16880439a77b',\n",
       "   'file_id': '8c93541e-61c2-444a-82fe-2d206b6fff20',\n",
       "   'file_name': 'README.md',\n",
       "   'file_size': 21154,\n",
       "   'file_type': 'txt'}],\n",
       " 'created': '2022-07-27T20:28:50.251285',\n",
       " 'task_id': 'c8445be1-95db-4c80-8381-281ae58b90e5',\n",
       " 'updated': '2022-07-27T20:29:33.090939',\n",
       " 'bundle_type': 'area'}"
      ]
     },
     "execution_count": 41,
     "metadata": {},
     "output_type": "execute_result"
    }
   ],
   "source": [
    "bundle = r.get('{}bundle/{}'.format(api,task_id), headers=head).json()  # Call API and return bundle contents for the task_id as json\n",
    "bundle                                                    # Print bundle contents"
   ]
  },
  {
   "cell_type": "markdown",
   "metadata": {},
   "source": [
    "***\n",
    "## 4b. Download Files in a Request (Automation) [[Download File](https://appeears.earthdatacloud.nasa.gov/api/#download-file)]\n",
    "#### Now, use the contents of the bundle to select the file name and id and store as a dictionary. "
   ]
  },
  {
   "cell_type": "code",
   "execution_count": 42,
   "metadata": {},
   "outputs": [
    {
     "data": {
      "text/plain": [
       "{'0f8c323a-53dc-47e3-883c-ef4e7de4dbfe': 'MCD15A3H.006_2017179_to_2017212/MCD15A3H.006_Lai_500m_doy2017181_aid0001.tif',\n",
       " '2654fd9c-60db-4b51-ab2e-df385398f52b': 'MCD15A3H.006_2017179_to_2017212/MCD15A3H.006_Lai_500m_doy2017185_aid0001.tif',\n",
       " 'ada150d9-71c6-4eff-beb8-32bbbff5dfa8': 'MCD15A3H.006_2017179_to_2017212/MCD15A3H.006_Lai_500m_doy2017189_aid0001.tif',\n",
       " '22be92d7-1451-4feb-82ee-c2bd44c415f7': 'MCD15A3H.006_2017179_to_2017212/MCD15A3H.006_Lai_500m_doy2017193_aid0001.tif',\n",
       " '4dbd3d87-6c0e-4d64-a8f1-b80c11da8c8d': 'MCD15A3H.006_2017179_to_2017212/MCD15A3H.006_Lai_500m_doy2017197_aid0001.tif',\n",
       " '83305556-3907-4425-81da-7a4c5003ef4c': 'MCD15A3H.006_2017179_to_2017212/MCD15A3H.006_Lai_500m_doy2017201_aid0001.tif',\n",
       " 'a87282b0-7401-44eb-8004-a7be237c0294': 'MCD15A3H.006_2017179_to_2017212/MCD15A3H.006_Lai_500m_doy2017205_aid0001.tif',\n",
       " 'ccb3724f-ea02-42c2-b400-eec1ba62281a': 'MCD15A3H.006_2017179_to_2017212/MCD15A3H.006_Lai_500m_doy2017209_aid0001.tif',\n",
       " '349a12c1-3f9b-4a97-950c-a2a383434828': 'MCD15A3H.006_2017179_to_2017212/MCD15A3H.006_FparLai_QC_doy2017181_aid0001.tif',\n",
       " 'b2ba9a37-119b-4de1-a2fa-808240a78592': 'MCD15A3H.006_2017179_to_2017212/MCD15A3H.006_FparLai_QC_doy2017185_aid0001.tif',\n",
       " 'ab43049e-0b0f-44c0-88ad-82b1f69b70dd': 'MCD15A3H.006_2017179_to_2017212/MCD15A3H.006_FparLai_QC_doy2017189_aid0001.tif',\n",
       " 'f50c18f8-c213-4d52-b4f8-63653dc2e12d': 'MCD15A3H.006_2017179_to_2017212/MCD15A3H.006_FparLai_QC_doy2017193_aid0001.tif',\n",
       " 'bf48ce62-4fec-46f3-9ab3-dd88434cbdd5': 'MCD15A3H.006_2017179_to_2017212/MCD15A3H.006_FparLai_QC_doy2017197_aid0001.tif',\n",
       " '3366710c-1a3e-4552-92a7-2c31b6f08804': 'MCD15A3H.006_2017179_to_2017212/MCD15A3H.006_FparLai_QC_doy2017201_aid0001.tif',\n",
       " 'a8f26730-c10f-4d76-9425-a838b33f5ea8': 'MCD15A3H.006_2017179_to_2017212/MCD15A3H.006_FparLai_QC_doy2017205_aid0001.tif',\n",
       " 'f14edf52-bcb5-4de7-8712-7cf4eab84562': 'MCD15A3H.006_2017179_to_2017212/MCD15A3H.006_FparLai_QC_doy2017209_aid0001.tif',\n",
       " '0b610917-476e-408f-8601-8d5c4c412bab': 'MCD15A3H.006_2017179_to_2017212/MCD15A3H.006_FparExtra_QC_doy2017181_aid0001.tif',\n",
       " '3a0fea26-f823-454f-b86d-1a5f4fd9e222': 'MCD15A3H.006_2017179_to_2017212/MCD15A3H.006_FparExtra_QC_doy2017185_aid0001.tif',\n",
       " '19d0d49d-63eb-42e9-95e4-20824dab4b7d': 'MCD15A3H.006_2017179_to_2017212/MCD15A3H.006_FparExtra_QC_doy2017189_aid0001.tif',\n",
       " '7d901f88-e12f-4cc7-a3e4-faf4ad4b0f26': 'MCD15A3H.006_2017179_to_2017212/MCD15A3H.006_FparExtra_QC_doy2017193_aid0001.tif',\n",
       " 'd0ef9af8-56f8-490c-8545-2d36eff6f19e': 'MCD15A3H.006_2017179_to_2017212/MCD15A3H.006_FparExtra_QC_doy2017197_aid0001.tif',\n",
       " '2e8cb68b-c313-4448-85d6-5e56bffe5d67': 'MCD15A3H.006_2017179_to_2017212/MCD15A3H.006_FparExtra_QC_doy2017201_aid0001.tif',\n",
       " '3ac628b7-b71b-45b1-983f-2c42f9ec2dad': 'MCD15A3H.006_2017179_to_2017212/MCD15A3H.006_FparExtra_QC_doy2017205_aid0001.tif',\n",
       " 'fc54a21e-52a6-4efc-b989-33c3ea0712d7': 'MCD15A3H.006_2017179_to_2017212/MCD15A3H.006_FparExtra_QC_doy2017209_aid0001.tif',\n",
       " '68aaf420-5d62-4aa7-a140-16efc65768ed': 'MOD11A2.061_2017175_to_2017212/MOD11A2.061_LST_Day_1km_doy2017177_aid0001.tif',\n",
       " '5867fba7-7e21-4aaa-9917-c34f01141ca8': 'MOD11A2.061_2017175_to_2017212/MOD11A2.061_LST_Day_1km_doy2017185_aid0001.tif',\n",
       " 'f244f2d4-9d07-4436-8bb6-3852329e97cf': 'MOD11A2.061_2017175_to_2017212/MOD11A2.061_LST_Day_1km_doy2017193_aid0001.tif',\n",
       " 'bd0ffb6e-332c-4c29-90a9-c9fb69e89b65': 'MOD11A2.061_2017175_to_2017212/MOD11A2.061_LST_Day_1km_doy2017201_aid0001.tif',\n",
       " 'aa6d3a9a-f94f-495c-804a-b332df90f5c9': 'MOD11A2.061_2017175_to_2017212/MOD11A2.061_LST_Day_1km_doy2017209_aid0001.tif',\n",
       " '936bf599-6bf1-4848-ad80-7ae993357616': 'MOD11A2.061_2017175_to_2017212/MOD11A2.061_LST_Night_1km_doy2017177_aid0001.tif',\n",
       " '93558a8d-ea17-4807-985a-9dd043501aa9': 'MOD11A2.061_2017175_to_2017212/MOD11A2.061_LST_Night_1km_doy2017185_aid0001.tif',\n",
       " '53426b27-447e-4ddf-a924-6a320669867f': 'MOD11A2.061_2017175_to_2017212/MOD11A2.061_LST_Night_1km_doy2017193_aid0001.tif',\n",
       " 'ffb6d4f7-7720-44ce-aff5-b821e60547fc': 'MOD11A2.061_2017175_to_2017212/MOD11A2.061_LST_Night_1km_doy2017201_aid0001.tif',\n",
       " '9db945d4-77f1-46f8-b473-5282eae09738': 'MOD11A2.061_2017175_to_2017212/MOD11A2.061_LST_Night_1km_doy2017209_aid0001.tif',\n",
       " '85ce163e-e0bc-48a8-b6e9-eb21351ff872': 'MOD11A2.061_2017175_to_2017212/MOD11A2.061_QC_Day_doy2017177_aid0001.tif',\n",
       " 'cba1417f-1281-413f-b777-08c6be41567f': 'MOD11A2.061_2017175_to_2017212/MOD11A2.061_QC_Day_doy2017185_aid0001.tif',\n",
       " '7d093717-215b-4094-9e47-2f3fd09bd6ce': 'MOD11A2.061_2017175_to_2017212/MOD11A2.061_QC_Day_doy2017193_aid0001.tif',\n",
       " 'cc7da731-b05b-4311-8add-ffb5dfdf4990': 'MOD11A2.061_2017175_to_2017212/MOD11A2.061_QC_Day_doy2017201_aid0001.tif',\n",
       " 'b953ea61-cce9-4564-bb03-fe6d3f1799fe': 'MOD11A2.061_2017175_to_2017212/MOD11A2.061_QC_Day_doy2017209_aid0001.tif',\n",
       " '82b99959-5399-44fa-b691-2dcd47da22ca': 'MOD11A2.061_2017175_to_2017212/MOD11A2.061_QC_Night_doy2017177_aid0001.tif',\n",
       " '8c369dfb-6ca7-46bb-b99f-d27c9bdeb046': 'MOD11A2.061_2017175_to_2017212/MOD11A2.061_QC_Night_doy2017185_aid0001.tif',\n",
       " '89174dc3-72c0-44d8-a0d1-900b6876059b': 'MOD11A2.061_2017175_to_2017212/MOD11A2.061_QC_Night_doy2017193_aid0001.tif',\n",
       " 'c6bf1636-cbf6-4f95-8f3b-67d5697a0baf': 'MOD11A2.061_2017175_to_2017212/MOD11A2.061_QC_Night_doy2017201_aid0001.tif',\n",
       " '8ca5e550-645d-4919-8476-ca57c4cd5d5f': 'MOD11A2.061_2017175_to_2017212/MOD11A2.061_QC_Night_doy2017209_aid0001.tif',\n",
       " '63f19481-564d-40f7-905a-c3095fb035dc': 'SRTMGL1_NC.003_2000001_to_2022208/SRTMGL1_NC.003_SRTMGL1_DEM_doy2000042_aid0001.tif',\n",
       " 'cae216da-1314-4e91-84b1-910a143ec39c': 'SRTMGL1_NUMNC.003_2000001_to_2022208/SRTMGL1_NUMNC.003_SRTMGL1_NUM_doy2000042_aid0001.tif',\n",
       " '79ce2e9d-0341-4a33-81c9-9edcf0135e1f': 'MCD15A3H-006-FparLai-QC-lookup.csv',\n",
       " '9cecdc92-f2f3-4357-9b4e-65c92203e5dd': 'MCD15A3H-006-FparExtra-QC-lookup.csv',\n",
       " '6877f4ae-9a81-4f98-9c81-4ea052080322': 'MOD11A2-061-QC-Day-lookup.csv',\n",
       " '60df7996-8a5d-4529-a427-532de3750300': 'MOD11A2-061-QC-Night-lookup.csv',\n",
       " '7288d144-301c-4751-8313-6ebca88909a3': 'SRTMGL1-NUMNC-003-SRTMGL1-NUM-lookup.csv',\n",
       " '1b531df3-3626-4eee-a8b1-0d75e0e7acd4': 'MCD15A3H-006-FparLai-QC-Statistics-QA.csv',\n",
       " '404cce87-76a6-47ed-a336-2f4f388c6f81': 'MCD15A3H-006-FparExtra-QC-Statistics-QA.csv',\n",
       " 'b829148f-80e4-4c6b-94c6-f185eaa79aa9': 'MOD11A2-061-QC-Day-Statistics-QA.csv',\n",
       " '09f6360e-1881-4b34-a2a9-9be2eaf57ec7': 'MOD11A2-061-QC-Night-Statistics-QA.csv',\n",
       " '2e9c059a-07b7-4b30-8861-da743902d464': 'SRTMGL1-NUMNC-003-SRTMGL1-NUM-Statistics-QA.csv',\n",
       " '7a4e5c1b-9657-4b1f-89b7-248a9147bc44': 'MCD15A3H-006-Statistics.csv',\n",
       " '0ef9b06d-e588-432a-be43-0bbe844c07fe': 'MOD11A2-061-Statistics.csv',\n",
       " 'caaca47b-bd17-4fc1-84a9-8a78d76f32c5': 'SRTMGL1-NC-003-Statistics.csv',\n",
       " 'cb41d109-f368-4c11-925c-b0446d6aadcc': 'NPS-Vegetation-Area-granule-list.txt',\n",
       " '36ff6620-97e9-483c-824f-38e10616f50b': 'NPS-Vegetation-Area-request.json',\n",
       " 'f626699e-4068-489e-b4be-a901be88a47e': 'NPS-Vegetation-Area-MCD15A3H-006-metadata.xml',\n",
       " '5e2025bd-9bf6-4af2-a2d5-0ff192e471f0': 'NPS-Vegetation-Area-MOD11A2-061-metadata.xml',\n",
       " '29cd8ce0-3e3c-4e84-8c13-214f120391fa': 'NPS-Vegetation-Area-SRTMGL1-NC-003-metadata.xml',\n",
       " '8c93541e-61c2-444a-82fe-2d206b6fff20': 'README.md'}"
      ]
     },
     "execution_count": 42,
     "metadata": {},
     "output_type": "execute_result"
    }
   ],
   "source": [
    "files = {}                                                       # Create empty dictionary\n",
    "for f in bundle['files']: files[f['file_id']] = f['file_name']   # Fill dictionary with file_id as keys and file_name as values\n",
    "files    "
   ]
  },
  {
   "cell_type": "markdown",
   "metadata": {},
   "source": [
    "#### Use the `files` dictionary and a `for` loop to automate downloading all of the output files into the output directory. "
   ]
  },
  {
   "cell_type": "code",
   "execution_count": 43,
   "metadata": {},
   "outputs": [
    {
     "name": "stdout",
     "output_type": "stream",
     "text": [
      "Downloaded files can be found at: /home/marie/wildfire/API/practice/NPS Vegetation Area\n"
     ]
    }
   ],
   "source": [
    "for f in files:\n",
    "    dl = r.get('{}bundle/{}/{}'.format(api, task_id, f), headers=head, stream=True, allow_redirects = 'True')                                # Get a stream to the bundle file\n",
    "    if files[f].endswith('.tif'):\n",
    "        filename = files[f].split('/')[1]\n",
    "    else:\n",
    "        filename = files[f] \n",
    "    filepath = os.path.join(destDir, filename)                                                       # Create output file path\n",
    "    with open(filepath, 'wb') as f:                                                                  # Write file to dest dir\n",
    "        for data in dl.iter_content(chunk_size=8192): f.write(data) \n",
    "print('Downloaded files can be found at: {}'.format(destDir))"
   ]
  },
  {
   "cell_type": "markdown",
   "metadata": {},
   "source": [
    "***\n",
    "# 5. Explore AρρEEARS Quality Service [[Quality API](https://appeears.earthdatacloud.nasa.gov/api/#quality)]\n",
    "#### The quality API provides quality details about all of the data products available in AρρEEARS. Below are examples of how to query the quality API for listing quality products, layers, and values. The final example (Section 5c.) demonstrates how AρρEEARS quality services can be leveraged to decode pertinent quality values for your data.\n",
    "#### First, reset pagination to include `offset` which allows you to set the number of results to skip before starting to return entries. Next, make a call to list all of the data product layers and the associated quality product and layer information."
   ]
  },
  {
   "cell_type": "code",
   "execution_count": 44,
   "metadata": {},
   "outputs": [
    {
     "data": {
      "text/plain": [
       "[{'ProductAndVersion': 'CU_LT05.001',\n",
       "  'Layer': 'SRB1',\n",
       "  'QualityProductAndVersion': 'CU_LT05.001',\n",
       "  'QualityLayers': ['PIXELQA'],\n",
       "  'Continuous': False,\n",
       "  'VisibleToWorker': True},\n",
       " {'ProductAndVersion': 'CU_LT05.001',\n",
       "  'Layer': 'SRB2',\n",
       "  'QualityProductAndVersion': 'CU_LT05.001',\n",
       "  'QualityLayers': ['PIXELQA'],\n",
       "  'Continuous': False,\n",
       "  'VisibleToWorker': True},\n",
       " {'ProductAndVersion': 'CU_LT05.001',\n",
       "  'Layer': 'SRB3',\n",
       "  'QualityProductAndVersion': 'CU_LT05.001',\n",
       "  'QualityLayers': ['PIXELQA'],\n",
       "  'Continuous': False,\n",
       "  'VisibleToWorker': True},\n",
       " {'ProductAndVersion': 'CU_LT05.001',\n",
       "  'Layer': 'SRB4',\n",
       "  'QualityProductAndVersion': 'CU_LT05.001',\n",
       "  'QualityLayers': ['PIXELQA'],\n",
       "  'Continuous': False,\n",
       "  'VisibleToWorker': True},\n",
       " {'ProductAndVersion': 'CU_LT05.001',\n",
       "  'Layer': 'SRB5',\n",
       "  'QualityProductAndVersion': 'CU_LT05.001',\n",
       "  'QualityLayers': ['PIXELQA'],\n",
       "  'Continuous': False,\n",
       "  'VisibleToWorker': True},\n",
       " {'ProductAndVersion': 'CU_LT05.001',\n",
       "  'Layer': 'SRB7',\n",
       "  'QualityProductAndVersion': 'CU_LT05.001',\n",
       "  'QualityLayers': ['PIXELQA'],\n",
       "  'Continuous': False,\n",
       "  'VisibleToWorker': True}]"
      ]
     },
     "execution_count": 44,
     "metadata": {},
     "output_type": "execute_result"
    }
   ],
   "source": [
    "params = {'limit': 6, 'pretty': True, 'offset': 20}                     # Limit response to 6 entries, start w/ 20th entry, return pretty json\n",
    "quality_response = r.get('{}quality'.format(api), params=params).json() # Call quality API using pagination and return json\n",
    "quality_response                                                        # Print response"
   ]
  },
  {
   "cell_type": "markdown",
   "metadata": {},
   "source": [
    "---\n",
    "## 5a. List Quality Layers [[List Quality Layers](https://appeears.earthdatacloud.nasa.gov/api/#list-quality-layers)]\n",
    "#### This API call will list all of the quality layer information for a product."
   ]
  },
  {
   "cell_type": "code",
   "execution_count": 45,
   "metadata": {},
   "outputs": [
    {
     "data": {
      "text/plain": [
       "[{'ProductAndVersion': 'MCD15A3H.006',\n",
       "  'Layer': 'Fpar_500m',\n",
       "  'QualityProductAndVersion': 'MCD15A3H.006',\n",
       "  'QualityLayers': ['FparLai_QC', 'FparExtra_QC'],\n",
       "  'VisibleToWorker': True},\n",
       " {'ProductAndVersion': 'MCD15A3H.006',\n",
       "  'Layer': 'FparStdDev_500m',\n",
       "  'QualityProductAndVersion': 'MCD15A3H.006',\n",
       "  'QualityLayers': ['FparLai_QC', 'FparExtra_QC'],\n",
       "  'VisibleToWorker': True},\n",
       " {'ProductAndVersion': 'MCD15A3H.006',\n",
       "  'Layer': 'Lai_500m',\n",
       "  'QualityProductAndVersion': 'MCD15A3H.006',\n",
       "  'QualityLayers': ['FparLai_QC', 'FparExtra_QC'],\n",
       "  'VisibleToWorker': True},\n",
       " {'ProductAndVersion': 'MCD15A3H.006',\n",
       "  'Layer': 'LaiStdDev_500m',\n",
       "  'QualityProductAndVersion': 'MCD15A3H.006',\n",
       "  'QualityLayers': ['FparLai_QC', 'FparExtra_QC'],\n",
       "  'VisibleToWorker': True}]"
      ]
     },
     "execution_count": 45,
     "metadata": {},
     "output_type": "execute_result"
    }
   ],
   "source": [
    "product = 'MCD15A3H.006'                                        # Product used in the example\n",
    "ql_response = r.get('{}quality/{}'.format(api,product)).json()  # Call API to retrieve quality layers for selected product\n",
    "ql_response                                                     # Print response"
   ]
  },
  {
   "cell_type": "markdown",
   "metadata": {},
   "source": [
    "---\n",
    "## 5b. Show Quality Values [[List Quality Values](https://appeears.earthdatacloud.nasa.gov/api/#list-quality-values)]\n",
    "#### This API call will list all of the values for a given quality layer."
   ]
  },
  {
   "cell_type": "code",
   "execution_count": 46,
   "metadata": {},
   "outputs": [
    {
     "data": {
      "text/plain": [
       "[{'ProductAndVersion': 'MCD15A3H.006',\n",
       "  'QualityLayer': 'FparLai_QC',\n",
       "  'Name': 'MODLAND',\n",
       "  'Value': 0,\n",
       "  'Description': 'Good quality (main algorithm with or without saturation)',\n",
       "  'Acceptable': True},\n",
       " {'ProductAndVersion': 'MCD15A3H.006',\n",
       "  'QualityLayer': 'FparLai_QC',\n",
       "  'Name': 'MODLAND',\n",
       "  'Value': 1,\n",
       "  'Description': 'Other Quality (back-up algorithm or fill values)',\n",
       "  'Acceptable': False},\n",
       " {'ProductAndVersion': 'MCD15A3H.006',\n",
       "  'QualityLayer': 'FparLai_QC',\n",
       "  'Name': 'Sensor',\n",
       "  'Value': 0,\n",
       "  'Description': 'Terra',\n",
       "  'Acceptable': None},\n",
       " {'ProductAndVersion': 'MCD15A3H.006',\n",
       "  'QualityLayer': 'FparLai_QC',\n",
       "  'Name': 'Sensor',\n",
       "  'Value': 1,\n",
       "  'Description': 'Aqua',\n",
       "  'Acceptable': None},\n",
       " {'ProductAndVersion': 'MCD15A3H.006',\n",
       "  'QualityLayer': 'FparLai_QC',\n",
       "  'Name': 'DeadDetector',\n",
       "  'Value': 0,\n",
       "  'Description': 'Detectors apparently fine for up to 50% of channels 1, 2',\n",
       "  'Acceptable': None},\n",
       " {'ProductAndVersion': 'MCD15A3H.006',\n",
       "  'QualityLayer': 'FparLai_QC',\n",
       "  'Name': 'DeadDetector',\n",
       "  'Value': 1,\n",
       "  'Description': 'Dead detectors caused >50% adjacent detector retrieval',\n",
       "  'Acceptable': None},\n",
       " {'ProductAndVersion': 'MCD15A3H.006',\n",
       "  'QualityLayer': 'FparLai_QC',\n",
       "  'Name': 'CloudState',\n",
       "  'Value': 0,\n",
       "  'Description': 'Significant clouds NOT present (clear)',\n",
       "  'Acceptable': None},\n",
       " {'ProductAndVersion': 'MCD15A3H.006',\n",
       "  'QualityLayer': 'FparLai_QC',\n",
       "  'Name': 'CloudState',\n",
       "  'Value': 1,\n",
       "  'Description': 'Significant clouds WERE present',\n",
       "  'Acceptable': None},\n",
       " {'ProductAndVersion': 'MCD15A3H.006',\n",
       "  'QualityLayer': 'FparLai_QC',\n",
       "  'Name': 'CloudState',\n",
       "  'Value': 2,\n",
       "  'Description': 'Mixed cloud present in pixel',\n",
       "  'Acceptable': None},\n",
       " {'ProductAndVersion': 'MCD15A3H.006',\n",
       "  'QualityLayer': 'FparLai_QC',\n",
       "  'Name': 'CloudState',\n",
       "  'Value': 3,\n",
       "  'Description': 'Cloud state not defined, assumed clear',\n",
       "  'Acceptable': None},\n",
       " {'ProductAndVersion': 'MCD15A3H.006',\n",
       "  'QualityLayer': 'FparLai_QC',\n",
       "  'Name': 'SCF_QC',\n",
       "  'Value': 0,\n",
       "  'Description': 'Main (RT) method used, best result possible (no saturation)',\n",
       "  'Acceptable': None},\n",
       " {'ProductAndVersion': 'MCD15A3H.006',\n",
       "  'QualityLayer': 'FparLai_QC',\n",
       "  'Name': 'SCF_QC',\n",
       "  'Value': 1,\n",
       "  'Description': 'Main (RT) method used with saturation. Good, very usable',\n",
       "  'Acceptable': None},\n",
       " {'ProductAndVersion': 'MCD15A3H.006',\n",
       "  'QualityLayer': 'FparLai_QC',\n",
       "  'Name': 'SCF_QC',\n",
       "  'Value': 2,\n",
       "  'Description': 'Main (RT) method failed due to bad geometry, empirical algorithm used',\n",
       "  'Acceptable': None},\n",
       " {'ProductAndVersion': 'MCD15A3H.006',\n",
       "  'QualityLayer': 'FparLai_QC',\n",
       "  'Name': 'SCF_QC',\n",
       "  'Value': 3,\n",
       "  'Description': 'Main (RT) method failed due to problems other than geometry, empirical algorithm used',\n",
       "  'Acceptable': None},\n",
       " {'ProductAndVersion': 'MCD15A3H.006',\n",
       "  'QualityLayer': 'FparLai_QC',\n",
       "  'Name': 'SCF_QC',\n",
       "  'Value': 4,\n",
       "  'Description': \"Pixel not produced at all, value couldn't be retrieved (possible reasons: bad L1B data, unusable MOD09GA data)\",\n",
       "  'Acceptable': None}]"
      ]
     },
     "execution_count": 46,
     "metadata": {},
     "output_type": "execute_result"
    }
   ],
   "source": [
    "qlayer = ql_response[1]['QualityLayers'][0]                                # Set quality layer from ql_response for 'Lai_500m'\n",
    "qv_response = r.get('{}quality/{}/{}'.format(api, product, qlayer)).json() # Call API for list of bit-word quality values\n",
    "qv_response                                                                # Print response"
   ]
  },
  {
   "cell_type": "markdown",
   "metadata": {},
   "source": [
    "---\n",
    "## 5c. Decode Quality Values [[Decode Quality Values](https://appeears.earthdatacloud.nasa.gov/api/#decode-quality-values)]\n",
    "#### This API call will decode the bits for a given quality value."
   ]
  },
  {
   "cell_type": "code",
   "execution_count": 47,
   "metadata": {},
   "outputs": [
    {
     "data": {
      "text/plain": [
       "{'Binary Representation': '0b00000001',\n",
       " 'MODLAND': {'bits': '0b1',\n",
       "  'description': 'Other Quality (back-up algorithm or fill values)'},\n",
       " 'Sensor': {'bits': '0b0', 'description': 'Terra'},\n",
       " 'DeadDetector': {'bits': '0b0',\n",
       "  'description': 'Detectors apparently fine for up to 50% of channels 1, 2'},\n",
       " 'CloudState': {'bits': '0b00',\n",
       "  'description': 'Significant clouds NOT present (clear)'},\n",
       " 'SCF_QC': {'bits': '0b000',\n",
       "  'description': 'Main (RT) method used, best result possible (no saturation)'}}"
      ]
     },
     "execution_count": 47,
     "metadata": {},
     "output_type": "execute_result"
    }
   ],
   "source": [
    "val = 1                                                                            # Set a specific value\n",
    "q_response = r.get('{}quality/{}/{}/{}'.format(api, product, qlayer, val)).json()  # Call quality API for specific value\n",
    "q_response                                                                         # Print response"
   ]
  },
  {
   "cell_type": "markdown",
   "metadata": {},
   "source": [
    "***\n",
    "# 6. BONUS: Import Request Output and Visualize\n",
    "#### Here, import one of the output GeoTIFFs and show some basic visualizations using the `matplotlib` package."
   ]
  },
  {
   "cell_type": "code",
   "execution_count": null,
   "metadata": {},
   "outputs": [],
   "source": [
    "# Import packages\n",
    "import matplotlib.pyplot as plt\n",
    "import numpy as np\n",
    "from osgeo import gdal\n",
    "list(files.values())  # List files downloaded"
   ]
  },
  {
   "cell_type": "markdown",
   "metadata": {},
   "source": [
    "---\n",
    "## 6a. Import a GeoTIFF\n",
    "#### To perform the next step below, you will need to have [GDAL](http://www.gdal.org/) installed on your OS. Open the GeoTIFF file for the SRTM DEM, and read in as an array.\n"
   ]
  },
  {
   "cell_type": "code",
   "execution_count": 49,
   "metadata": {},
   "outputs": [],
   "source": [
    "from osgeo import gdal # without this it wouldn't work\n",
    "dem = gdal.Open(destDir + '/SRTMGL1_NC.003_SRTMGL1_DEM_doy2000042_aid0001.tif' ) # Read file in\n",
    "demBand = dem.GetRasterBand(1)                                          # Read the band (layer)\n",
    "demData = demBand.ReadAsArray().astype('float')                         # Import band as an array with type float"
   ]
  },
  {
   "cell_type": "markdown",
   "metadata": {},
   "source": [
    "#### Next, query the metadata for the fill value, and set fill value equal to `nan`."
   ]
  },
  {
   "cell_type": "code",
   "execution_count": 51,
   "metadata": {},
   "outputs": [],
   "source": [
    "import numpy as np\n",
    "demFill = demBand.GetNoDataValue()            # Returns fill value\n",
    "demData[demData == demFill] = np.nan          # Set fill value to nan"
   ]
  },
  {
   "cell_type": "markdown",
   "metadata": {},
   "source": [
    "---\n",
    "## 6b. Plot a GeoTIFF\n",
    "#### In this section, begin by highlighting the functionality of the `matplotlib` plotting package.  "
   ]
  },
  {
   "cell_type": "code",
   "execution_count": 54,
   "metadata": {},
   "outputs": [],
   "source": [
    "# Set matplotlib plots inline\n",
    "from matplotlib import pyplot as plt\n",
    "%matplotlib inline "
   ]
  },
  {
   "cell_type": "markdown",
   "metadata": {},
   "source": [
    "#### First, make a basic plot of the DEM data."
   ]
  },
  {
   "cell_type": "code",
   "execution_count": 55,
   "metadata": {},
   "outputs": [
    {
     "data": {
      "image/png": "[encoded data removed]",
      "text/plain": [
       "<Figure size 432x288 with 1 Axes>"
      ]
     },
     "metadata": {
      "needs_background": "light"
     },
     "output_type": "display_data"
    }
   ],
   "source": [
    "plt.imshow(demData);  # Visualize a basic plot of the DEM data"
   ]
  },
  {
   "cell_type": "markdown",
   "metadata": {},
   "source": [
    "#### Next, add some additional parameters to the plot."
   ]
  },
  {
   "cell_type": "code",
   "execution_count": 56,
   "metadata": {},
   "outputs": [
    {
     "data": {
      "image/png": "[encoded data removed]",
      "text/plain": [
       "<Figure size 720x540 with 2 Axes>"
      ]
     },
     "metadata": {
      "needs_background": "light"
     },
     "output_type": "display_data"
    }
   ],
   "source": [
    "import warnings\n",
    "warnings.filterwarnings(\"ignore\")\n",
    "\n",
    "fig = plt.figure(figsize = (10,7.5))  # Set the figure size (x,y)\n",
    "plt.axis('off')                       # Remove the axes' values\n",
    "ax = fig.add_subplot(111)             \n",
    "\n",
    "# Plot the array, using a colormap and setting a custom linear stretch based on the min/max Elevation values\n",
    "plt.imshow(demData, vmin = np.nanmin(demData), vmax = np.nanmax(demData), cmap = 'terrain');"
   ]
  },
  {
   "cell_type": "markdown",
   "metadata": {},
   "source": [
    "#### Finally, add important map items including a legend and title."
   ]
  },
  {
   "cell_type": "code",
   "execution_count": 58,
   "metadata": {},
   "outputs": [
    {
     "data": {
      "image/png": "[encoded data removed]",
      "text/plain": [
       "<Figure size 720x540 with 3 Axes>"
      ]
     },
     "metadata": {},
     "output_type": "display_data"
    }
   ],
   "source": [
    "# This figure did not work.\n",
    "plt.style.use(\"dark_background\")                                                       # Default to a black background\n",
    "fig2 = plt.figure(figsize=(10,7.5))                                                    # Set the figure size\n",
    "plt.axis('off')                                                                        # Remove the axes' values\n",
    "ax1 = fig2.add_subplot(111)                                                            # Make a subplot\n",
    "fig2.subplots_adjust(top=3.8)                                                          # Adjust spacing\n",
    "ax1.set_title('SRTM DEM: Grand Canyon NP',fontsize=15,fontweight='bold',color='white') # Add title\n",
    "\n",
    "# Plot the masked data, using a colormap and setting a custom linear stretch based on the min/max DEM values\n",
    "im = plt.imshow(demData, vmin = np.nanmin(demData), vmax = np.nanmax(demData), cmap = 'terrain');\n",
    "\n",
    "cb = plt.colorbar(im, orientation='horizontal', fraction=0.047, pad=0.004, shrink=0.6) # Add a colormap legend\n",
    "cb.set_label(label='Elevation (m)', color = 'white')                                   # Set Label and color\n",
    "cb.outline.set_edgecolor('white')                                                      # Set edge color"
   ]
  },
  {
   "cell_type": "markdown",
   "metadata": {},
   "source": [
    "### This example can provide a template to use for your own research workflows. Leveraging the AρρEEARS API for searching, extracting, and formatting analysis ready data, and importing it directly into Python means that you can keep your entire research workflow in a single software program, from start to finish. "
   ]
  },
  {
   "cell_type": "markdown",
   "metadata": {},
   "source": [
    "***\n",
    "<div class=\"alert alert-block alert-info\">\n",
    "<h1> Contact Information </h1>   \n",
    "    \n",
    "<h3> Material written by LP DAAC$^{1}$ </h3>  \n",
    "\n",
    "<b>Contact:</b> LPDAAC@usgs.gov    \n",
    "\n",
    "<b>Voice:</b> +1-605-594-6116    \n",
    "\n",
    "<b>Organization:</b> Land Processes Distributed Active Archive Center (LP DAAC)  \n",
    "\n",
    "<b>Website:</b> https://lpdaac.usgs.gov/  \n",
    "\n",
    "<b>Date last modified:</b> 05-06-2022    \n",
    "\n",
    "$^{1}$Innovate! Inc., contractor to the U.S. Geological Survey, Earth Resources Observation and Science (EROS) Center, Sioux Falls, South Dakota, 57198-001, USA. Work performed under USGS contract G15PD00467 for LP DAAC$^{2}$.\n",
    "\n",
    "$^{2}$LP DAAC Work performed under NASA contract NNG14HH33I. "
   ]
  }
 ],
 "metadata": {
  "kernelspec": {
   "display_name": "Python 3 (ipykernel)",
   "language": "python",
   "name": "python3"
  },
  "language_info": {
   "codemirror_mode": {
    "name": "ipython",
    "version": 3
   },
   "file_extension": ".py",
   "mimetype": "text/x-python",
   "name": "python",
   "nbconvert_exporter": "python",
   "pygments_lexer": "ipython3",
   "version": "3.7.13"
  }
 },
 "nbformat": 4,
 "nbformat_minor": 2
}
