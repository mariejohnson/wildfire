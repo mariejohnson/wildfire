{
 "cells": [
  {
   "cell_type": "markdown",
   "id": "15159e20",
   "metadata": {},
   "source": [
    "# The objective of this tutorial is to use the AppEEARS API to extract LST for two wildfires in Montana\n",
    "\n",
    "#### Select code adapted from: https://git.earthdata.nasa.gov/projects/LPDUR/repos/appeears-api-getting-started/browse"
   ]
  },
  {
   "cell_type": "markdown",
   "id": "8d2ff231",
   "metadata": {},
   "source": [
    "### To extract wildfire polygons from Google Earth Engine, click the link below\n",
    "### https://code.earthengine.google.com/cc8a5e7886d2a02719f87ce13bc7dc40"
   ]
  },
  {
   "cell_type": "code",
   "execution_count": 1,
   "id": "cf604bef",
   "metadata": {},
   "outputs": [],
   "source": [
    "# Import packages \n",
    "import requests as r\n",
    "import getpass, pprint, time, os, cgi, json # getpass needed for Earthdata login\n",
    "import geopandas as gpd"
   ]
  },
  {
   "cell_type": "code",
   "execution_count": 2,
   "id": "e257250b",
   "metadata": {},
   "outputs": [],
   "source": [
    "# Set input directory, change working directory\n",
    "inDir = '/home/marie/wildfire/LST'           # working directory\n",
    "os.chdir(inDir)                                      # Change to working directory\n",
    "api = 'https://appeears.earthdatacloud.nasa.gov/api/'  # Set the AρρEEARS API to a variable"
   ]
  },
  {
   "cell_type": "code",
   "execution_count": 3,
   "id": "fb40641e",
   "metadata": {},
   "outputs": [
    {
     "name": "stdout",
     "output_type": "stream",
     "text": [
      "Enter NASA Earthdata Login Username: ········\n",
      "Enter NASA Earthdata Login Password: ········\n"
     ]
    }
   ],
   "source": [
    "user = getpass.getpass(prompt = 'Enter NASA Earthdata Login Username: ')      # Input NASA Earthdata Login Username\n",
    "password = getpass.getpass(prompt = 'Enter NASA Earthdata Login Password: ')  # Input NASA Earthdata Login Password"
   ]
  },
  {
   "cell_type": "markdown",
   "id": "0c6ccd95",
   "metadata": {},
   "source": [
    "#### The requests package will post your username and password. The token received will be used later to submit your request."
   ]
  },
  {
   "cell_type": "code",
   "execution_count": 4,
   "id": "5001c834",
   "metadata": {},
   "outputs": [
    {
     "data": {
      "text/plain": [
       "{'token_type': 'Bearer',\n",
       " 'token': 'x0ahhDEY3SPOPLMeCna-P5HQGTpjKldmRJvRMRswmNwmLuhd8jmxkOtf5quPaoGnVKqwaRzAVs27r7_tfzLnoQ',\n",
       " 'expiration': '2022-10-20T01:29:40Z'}"
      ]
     },
     "execution_count": 4,
     "metadata": {},
     "output_type": "execute_result"
    }
   ],
   "source": [
    "token_response = r.post('{}login'.format(api), auth=(user, password)).json() # Insert API URL, call login service, provide credentials & return json\n",
    "del user, password                                                           # Remove user and password information\n",
    "token_response                                                               # Print response"
   ]
  },
  {
   "cell_type": "markdown",
   "id": "cb19ac1f",
   "metadata": {},
   "source": [
    "#### Available products from appears\n",
    "https://appeears.earthdatacloud.nasa.gov/products"
   ]
  },
  {
   "cell_type": "code",
   "execution_count": 5,
   "id": "59aa66a3",
   "metadata": {},
   "outputs": [],
   "source": [
    "# The get() method returns the value of the item with the specified key.\n",
    "product_response = r.get('{}product'.format(api)).json()                         # request all products in the product service"
   ]
  },
  {
   "cell_type": "code",
   "execution_count": 8,
   "id": "e7e30b66",
   "metadata": {},
   "outputs": [
    {
     "data": {
      "text/plain": [
       "{'Product': 'ECO2LSTE',\n",
       " 'Platform': 'ECOSTRESS',\n",
       " 'Description': 'Land Surface Temperature & Emissivity (LST&E)',\n",
       " 'RasterType': 'Swath',\n",
       " 'Resolution': '70m',\n",
       " 'TemporalGranularity': 'ISS-dependent',\n",
       " 'Version': '001',\n",
       " 'Available': True,\n",
       " 'DocLink': 'https://doi.org/10.5067/ECOSTRESS/ECO2LSTE.001',\n",
       " 'Source': 'LP DAAC',\n",
       " 'TemporalExtentStart': '2018-07-09',\n",
       " 'TemporalExtentEnd': 'Present',\n",
       " 'Deleted': False,\n",
       " 'DOI': '10.5067/ECOSTRESS/ECO2LSTE.001',\n",
       " 'ProductAndVersion': 'ECO2LSTE.001'}"
      ]
     },
     "execution_count": 8,
     "metadata": {},
     "output_type": "execute_result"
    }
   ],
   "source": [
    "products = {p['ProductAndVersion']: p for p in product_response} # Create a dictionary indexed by product name & version\n",
    "products['ECO2LSTE.001']                                         # Print information for the product of interest ECO2LSTE.001 LST Product"
   ]
  },
  {
   "cell_type": "markdown",
   "id": "0f7edabc",
   "metadata": {},
   "source": [
    "#### I would like explore what layers are within the LST product"
   ]
  },
  {
   "cell_type": "code",
   "execution_count": 10,
   "id": "1d7050a1",
   "metadata": {},
   "outputs": [
    {
     "data": {
      "text/plain": [
       "['SDS_Emis1',\n",
       " 'SDS_Emis1_err',\n",
       " 'SDS_Emis2',\n",
       " 'SDS_Emis2_err',\n",
       " 'SDS_Emis3',\n",
       " 'SDS_Emis3_err',\n",
       " 'SDS_Emis4',\n",
       " 'SDS_Emis4_err',\n",
       " 'SDS_Emis5',\n",
       " 'SDS_Emis5_err',\n",
       " 'SDS_EmisWB',\n",
       " 'SDS_LST',\n",
       " 'SDS_LST_err',\n",
       " 'SDS_PWV',\n",
       " 'SDS_QC']"
      ]
     },
     "execution_count": 10,
     "metadata": {},
     "output_type": "execute_result"
    }
   ],
   "source": [
    "prods = ['ECO2LSTE.001']     # Start a list for products to be requested, beginning with ECO2LSTE.001\n",
    "lst_response = r.get('{}product/{}'.format(api, prods[0])).json()  # Request layers for the only product (index 0) in the list: ECO2LSTE.001\n",
    "list(lst_response.keys())"
   ]
  },
  {
   "cell_type": "markdown",
   "id": "16461af1",
   "metadata": {},
   "source": [
    "#### I'm only interested in SDS_LST right now, so I will use that dictionary key to learn more about that layer from the lst_response variable"
   ]
  },
  {
   "cell_type": "code",
   "execution_count": 11,
   "id": "460ae752",
   "metadata": {},
   "outputs": [
    {
     "data": {
      "text/plain": [
       "{'AddOffset': 0.0,\n",
       " 'Available': True,\n",
       " 'DataType': 'uint16',\n",
       " 'Description': 'Land Surface Temperature',\n",
       " 'Dimensions': ['FakeDim0', 'FakeDim1'],\n",
       " 'FillValue': 0.0,\n",
       " 'Group': '',\n",
       " 'IsQA': False,\n",
       " 'Layer': 'SDS_LST',\n",
       " 'OrigDataType': 'uint16',\n",
       " 'OrigValidMax': 65535,\n",
       " 'OrigValidMin': 7500,\n",
       " 'QualityLayers': \"['SDS_QC']\",\n",
       " 'QualityProductAndVersion': 'ECO2LSTE.001',\n",
       " 'ScaleFactor': 0.02,\n",
       " 'Units': 'K',\n",
       " 'ValidMax': 1310.7,\n",
       " 'ValidMin': 150.0,\n",
       " 'XSize': 5400,\n",
       " 'YSize': 5632}"
      ]
     },
     "execution_count": 11,
     "metadata": {},
     "output_type": "execute_result"
    }
   ],
   "source": [
    "lst_response['SDS_LST']"
   ]
  },
  {
   "cell_type": "code",
   "execution_count": 12,
   "id": "6e016664",
   "metadata": {},
   "outputs": [],
   "source": [
    "# Adding QC layer\n",
    "layers = [(prods[0],'SDS_LST'),(prods[0],'SDS_QC')]  # Create tupled list linking desired product with desired layers"
   ]
  },
  {
   "cell_type": "markdown",
   "id": "d00a913f",
   "metadata": {},
   "source": [
    "#### Here we are created a dictionary list from our tupled list (the layers) that stores LST and LST QC. These will be used to insert into the json file when we submit our requests."
   ]
  },
  {
   "cell_type": "code",
   "execution_count": 13,
   "id": "7303147e",
   "metadata": {},
   "outputs": [
    {
     "data": {
      "text/plain": [
       "[{'layer': 'SDS_LST', 'product': 'ECO2LSTE.001'},\n",
       " {'layer': 'SDS_QC', 'product': 'ECO2LSTE.001'}]"
      ]
     },
     "execution_count": 13,
     "metadata": {},
     "output_type": "execute_result"
    }
   ],
   "source": [
    "prodLayer = []\n",
    "for l in layers:\n",
    "    prodLayer.append({\n",
    "            \"layer\": l[1],\n",
    "            \"product\": l[0]\n",
    "          })\n",
    "prodLayer"
   ]
  },
  {
   "cell_type": "markdown",
   "id": "f0ffbace",
   "metadata": {},
   "source": [
    "# Submit Request"
   ]
  },
  {
   "cell_type": "markdown",
   "id": "f76bc0a6",
   "metadata": {},
   "source": [
    "### Document this part"
   ]
  },
  {
   "cell_type": "code",
   "execution_count": 15,
   "id": "65894e52",
   "metadata": {},
   "outputs": [],
   "source": [
    "token = token_response['token']                      # Save login token to a variable\n",
    "head = {'Authorization': 'Bearer {}'.format(token)}  # Create a header to store token information, needed to submit a request"
   ]
  },
  {
   "cell_type": "code",
   "execution_count": 19,
   "id": "579ef43c",
   "metadata": {},
   "outputs": [
    {
     "name": "stdout",
     "output_type": "stream",
     "text": [
      "  Comment Incid_Type  High_T  Mod_T  NoData_T BurnBndLon  Low_T  \\\n",
      "0    None   Wildfire     660    371      -970   -113.797    120   \n",
      "\n",
      "         Ig_Date Map_Prog  dNBR_stdDv  ...               Event_ID  Perim_ID  \\\n",
      "0  1060498800000     MTBS       -9999  ...  MT4743511379720030810      None   \n",
      "\n",
      "  BurnBndLat dNBR_offst BurnBndAc IncGreen_T  irwinID          Post_ID  \\\n",
      "0     47.435         15     11423       -150     None  504102720040925   \n",
      "\n",
      "   Asmnt_Type                                           geometry  \n",
      "0    Extended  POLYGON ((-113.86393 47.43105, -113.86337 47.4...  \n",
      "\n",
      "[1 rows x 23 columns]\n"
     ]
    }
   ],
   "source": [
    "# czHorse = gpd.read_file('/home/marie/wildfire/LST/crazyHorseShapefile'.format(inDir + os.sep + 'Data' + os.sep)) # Read in shapefile as dataframe using geopandas\n",
    "czHorse = gpd.read_file('crazyHorseShapefile.shp'.format(inDir + os.sep + 'Data' + os.sep)) # Read in shapefile as dataframe using geopandas\n",
    "print(czHorse.head())                                                # Print first few lines of dataframe"
   ]
  },
  {
   "cell_type": "markdown",
   "id": "57265837",
   "metadata": {},
   "source": [
    "### Set projection of choice LEFT OFF HERE"
   ]
  },
  {
   "cell_type": "code",
   "execution_count": null,
   "id": "826a52b1",
   "metadata": {},
   "outputs": [],
   "source": [
    "projections = r.get('{}spatial/proj'.format(api)).json()  # Call to spatial API, return projs as json\n",
    "projections                                               # Print projections and information"
   ]
  },
  {
   "cell_type": "code",
   "execution_count": null,
   "id": "8516c83b",
   "metadata": {},
   "outputs": [],
   "source": [
    "# Figure out how to insert the geographic projection here\n",
    "projs = {}                                  # Create a dictionary with one entry, we're going to set the projection to geographic"
   ]
  },
  {
   "cell_type": "markdown",
   "id": "2a74e7c9",
   "metadata": {},
   "source": [
    "### Convert to json"
   ]
  },
  {
   "cell_type": "code",
   "execution_count": 22,
   "id": "3fd1fb7b",
   "metadata": {},
   "outputs": [],
   "source": [
    "czHorseJ = czHorse.to_json() \n",
    "czHorseJ = json.loads(czHorseJ)                                            # Convert to json format"
   ]
  },
  {
   "cell_type": "markdown",
   "id": "339ba53e",
   "metadata": {},
   "source": [
    "### Compile JSON"
   ]
  },
  {
   "cell_type": "code",
   "execution_count": 23,
   "id": "4bd8aee9",
   "metadata": {},
   "outputs": [
    {
     "name": "stdout",
     "output_type": "stream",
     "text": [
      "Enter a Task Name: Crazy Horse Fire\n"
     ]
    }
   ],
   "source": [
    "task_name = input('Enter a Task Name: ') # We will use 'Crazy Horse Fire' as the task name"
   ]
  },
  {
   "cell_type": "code",
   "execution_count": null,
   "id": "8a78ea31",
   "metadata": {},
   "outputs": [],
   "source": [
    "task_type = ['area']        # Our task is an area, but you could also select point\n",
    "proj = projs['geographic']['Name']  # Set output projection \n",
    "outFormat = ['geotiff']             # Set output file format type\n",
    "startDate = '07-01-2020'            # Start of the date range for which to extract data: MM-DD-YYYY\n",
    "endDate = '07-31-2020'              # End of the date range for which to extract data: MM-DD-YYYY\n",
    "recurring = True                   # Specify True for a recurring date range\n",
    "yearRange = [2020,2021]            # if recurring = True, set yearRange, change start/end date to MM-DD"
   ]
  }
 ],
 "metadata": {
  "kernelspec": {
   "display_name": "Python 3 (ipykernel)",
   "language": "python",
   "name": "python3"
  },
  "language_info": {
   "codemirror_mode": {
    "name": "ipython",
    "version": 3
   },
   "file_extension": ".py",
   "mimetype": "text/x-python",
   "name": "python",
   "nbconvert_exporter": "python",
   "pygments_lexer": "ipython3",
   "version": "3.7.13"
  }
 },
 "nbformat": 4,
 "nbformat_minor": 5
}
