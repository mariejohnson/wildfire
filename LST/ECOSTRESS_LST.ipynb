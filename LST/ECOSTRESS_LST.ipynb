{
 "cells": [
  {
   "cell_type": "markdown",
   "id": "15159e20",
   "metadata": {},
   "source": [
    "# The objective of this tutorial is to use the AppEEARS API to extract LST for two wildfires in Montana\n",
    "\n",
    "#### Select code adapted from: https://git.earthdata.nasa.gov/projects/LPDUR/repos/appeears-api-getting-started/browse"
   ]
  },
  {
   "cell_type": "markdown",
   "id": "8d2ff231",
   "metadata": {},
   "source": [
    "### To extract wildfire polygons from Google Earth Engine, click the link below\n",
    "### https://code.earthengine.google.com/cc8a5e7886d2a02719f87ce13bc7dc40"
   ]
  },
  {
   "cell_type": "code",
   "execution_count": 1,
   "id": "cf604bef",
   "metadata": {},
   "outputs": [],
   "source": [
    "# Import packages \n",
    "import requests as r\n",
    "import getpass, pprint, time, os, cgi, json # getpass needed for Earthdata login\n",
    "import geopandas as gpd"
   ]
  },
  {
   "cell_type": "code",
   "execution_count": 2,
   "id": "e257250b",
   "metadata": {},
   "outputs": [],
   "source": [
    "# Set input directory, change working directory\n",
    "inDir = '/home/marie/wildfire/LST'           # working directory\n",
    "os.chdir(inDir)                                      # Change to working directory\n",
    "api = 'https://appeears.earthdatacloud.nasa.gov/api/'  # Set the AρρEEARS API to a variable"
   ]
  },
  {
   "cell_type": "code",
   "execution_count": 3,
   "id": "fb40641e",
   "metadata": {},
   "outputs": [
    {
     "name": "stdout",
     "output_type": "stream",
     "text": [
      "Enter NASA Earthdata Login Username: ········\n",
      "Enter NASA Earthdata Login Password: ········\n"
     ]
    }
   ],
   "source": [
    "user = getpass.getpass(prompt = 'Enter NASA Earthdata Login Username: ')      # Input NASA Earthdata Login Username\n",
    "password = getpass.getpass(prompt = 'Enter NASA Earthdata Login Password: ')  # Input NASA Earthdata Login Password"
   ]
  },
  {
   "cell_type": "markdown",
   "id": "0c6ccd95",
   "metadata": {},
   "source": [
    "#### The requests package will post your username and password. The token received will be used later to submit your request."
   ]
  },
  {
   "cell_type": "code",
   "execution_count": 4,
   "id": "5001c834",
   "metadata": {},
   "outputs": [
    {
     "data": {
      "text/plain": [
       "{'token_type': 'Bearer',\n",
       " 'token': 'x0ahhDEY3SPOPLMeCna-P5HQGTpjKldmRJvRMRswmNwmLuhd8jmxkOtf5quPaoGnVKqwaRzAVs27r7_tfzLnoQ',\n",
       " 'expiration': '2022-10-20T01:29:40Z'}"
      ]
     },
     "execution_count": 4,
     "metadata": {},
     "output_type": "execute_result"
    }
   ],
   "source": [
    "token_response = r.post('{}login'.format(api), auth=(user, password)).json() # Insert API URL, call login service, provide credentials & return json\n",
    "del user, password                                                           # Remove user and password information\n",
    "token_response                                                               # Print response"
   ]
  },
  {
   "cell_type": "markdown",
   "id": "cb19ac1f",
   "metadata": {},
   "source": [
    "#### Available products from appears\n",
    "https://appeears.earthdatacloud.nasa.gov/products"
   ]
  },
  {
   "cell_type": "code",
   "execution_count": 5,
   "id": "59aa66a3",
   "metadata": {},
   "outputs": [],
   "source": [
    "# The get() method returns the value of the item with the specified key.\n",
    "product_response = r.get('{}product'.format(api)).json()                         # request all products in the product service"
   ]
  },
  {
   "cell_type": "code",
   "execution_count": 6,
   "id": "e7e30b66",
   "metadata": {},
   "outputs": [
    {
     "data": {
      "text/plain": [
       "{'Product': 'ECO2LSTE',\n",
       " 'Platform': 'ECOSTRESS',\n",
       " 'Description': 'Land Surface Temperature & Emissivity (LST&E)',\n",
       " 'RasterType': 'Swath',\n",
       " 'Resolution': '70m',\n",
       " 'TemporalGranularity': 'ISS-dependent',\n",
       " 'Version': '001',\n",
       " 'Available': True,\n",
       " 'DocLink': 'https://doi.org/10.5067/ECOSTRESS/ECO2LSTE.001',\n",
       " 'Source': 'LP DAAC',\n",
       " 'TemporalExtentStart': '2018-07-09',\n",
       " 'TemporalExtentEnd': 'Present',\n",
       " 'Deleted': False,\n",
       " 'DOI': '10.5067/ECOSTRESS/ECO2LSTE.001',\n",
       " 'ProductAndVersion': 'ECO2LSTE.001'}"
      ]
     },
     "execution_count": 6,
     "metadata": {},
     "output_type": "execute_result"
    }
   ],
   "source": [
    "products = {p['ProductAndVersion']: p for p in product_response} # Create a dictionary indexed by product name & version\n",
    "products['ECO2LSTE.001']                                         # Print information for the product of interest ECO2LSTE.001 LST Product"
   ]
  },
  {
   "cell_type": "markdown",
   "id": "0f7edabc",
   "metadata": {},
   "source": [
    "#### I would like explore what layers are within the LST product"
   ]
  },
  {
   "cell_type": "code",
   "execution_count": 7,
   "id": "1d7050a1",
   "metadata": {},
   "outputs": [
    {
     "data": {
      "text/plain": [
       "['SDS_Emis1',\n",
       " 'SDS_Emis1_err',\n",
       " 'SDS_Emis2',\n",
       " 'SDS_Emis2_err',\n",
       " 'SDS_Emis3',\n",
       " 'SDS_Emis3_err',\n",
       " 'SDS_Emis4',\n",
       " 'SDS_Emis4_err',\n",
       " 'SDS_Emis5',\n",
       " 'SDS_Emis5_err',\n",
       " 'SDS_EmisWB',\n",
       " 'SDS_LST',\n",
       " 'SDS_LST_err',\n",
       " 'SDS_PWV',\n",
       " 'SDS_QC']"
      ]
     },
     "execution_count": 7,
     "metadata": {},
     "output_type": "execute_result"
    }
   ],
   "source": [
    "prods = ['ECO2LSTE.001']     # Start a list for products to be requested, beginning with ECO2LSTE.001\n",
    "lst_response = r.get('{}product/{}'.format(api, prods[0])).json()  # Request layers for the only product (index 0) in the list: ECO2LSTE.001\n",
    "list(lst_response.keys())"
   ]
  },
  {
   "cell_type": "markdown",
   "id": "16461af1",
   "metadata": {},
   "source": [
    "#### I'm only interested in SDS_LST right now, so I will use that dictionary key to learn more about that layer from the lst_response variable"
   ]
  },
  {
   "cell_type": "code",
   "execution_count": 8,
   "id": "460ae752",
   "metadata": {},
   "outputs": [
    {
     "data": {
      "text/plain": [
       "{'AddOffset': 0.0,\n",
       " 'Available': True,\n",
       " 'DataType': 'uint16',\n",
       " 'Description': 'Land Surface Temperature',\n",
       " 'Dimensions': ['FakeDim0', 'FakeDim1'],\n",
       " 'FillValue': 0.0,\n",
       " 'Group': '',\n",
       " 'IsQA': False,\n",
       " 'Layer': 'SDS_LST',\n",
       " 'OrigDataType': 'uint16',\n",
       " 'OrigValidMax': 65535,\n",
       " 'OrigValidMin': 7500,\n",
       " 'QualityLayers': \"['SDS_QC']\",\n",
       " 'QualityProductAndVersion': 'ECO2LSTE.001',\n",
       " 'ScaleFactor': 0.02,\n",
       " 'Units': 'K',\n",
       " 'ValidMax': 1310.7,\n",
       " 'ValidMin': 150.0,\n",
       " 'XSize': 5400,\n",
       " 'YSize': 5632}"
      ]
     },
     "execution_count": 8,
     "metadata": {},
     "output_type": "execute_result"
    }
   ],
   "source": [
    "lst_response['SDS_LST']"
   ]
  },
  {
   "cell_type": "code",
   "execution_count": 9,
   "id": "6e016664",
   "metadata": {},
   "outputs": [],
   "source": [
    "# Adding QC layer\n",
    "layers = [(prods[0],'SDS_LST'),(prods[0],'SDS_QC')]  # Create tupled list linking desired product with desired layers"
   ]
  },
  {
   "cell_type": "markdown",
   "id": "d00a913f",
   "metadata": {},
   "source": [
    "#### Here we are created a dictionary list from our tupled list (the layers) that stores LST and LST QC. These will be used to insert into the json file when we submit our requests."
   ]
  },
  {
   "cell_type": "code",
   "execution_count": 10,
   "id": "7303147e",
   "metadata": {},
   "outputs": [
    {
     "data": {
      "text/plain": [
       "[{'layer': 'SDS_LST', 'product': 'ECO2LSTE.001'},\n",
       " {'layer': 'SDS_QC', 'product': 'ECO2LSTE.001'}]"
      ]
     },
     "execution_count": 10,
     "metadata": {},
     "output_type": "execute_result"
    }
   ],
   "source": [
    "prodLayer = []\n",
    "for l in layers:\n",
    "    prodLayer.append({\n",
    "            \"layer\": l[1],\n",
    "            \"product\": l[0]\n",
    "          })\n",
    "prodLayer"
   ]
  },
  {
   "cell_type": "markdown",
   "id": "f0ffbace",
   "metadata": {},
   "source": [
    "# Submit Request"
   ]
  },
  {
   "cell_type": "markdown",
   "id": "f76bc0a6",
   "metadata": {},
   "source": [
    "### Document this part"
   ]
  },
  {
   "cell_type": "code",
   "execution_count": 11,
   "id": "65894e52",
   "metadata": {},
   "outputs": [],
   "source": [
    "token = token_response['token']                      # Save login token to a variable\n",
    "head = {'Authorization': 'Bearer {}'.format(token)}  # Create a header to store token information, needed to submit a request"
   ]
  },
  {
   "cell_type": "code",
   "execution_count": 12,
   "id": "579ef43c",
   "metadata": {},
   "outputs": [
    {
     "name": "stdout",
     "output_type": "stream",
     "text": [
      "  Comment Incid_Type  High_T  Mod_T  NoData_T BurnBndLon  Low_T  \\\n",
      "0    None   Wildfire     660    371      -970   -113.797    120   \n",
      "\n",
      "         Ig_Date Map_Prog  dNBR_stdDv  ...               Event_ID  Perim_ID  \\\n",
      "0  1060498800000     MTBS       -9999  ...  MT4743511379720030810      None   \n",
      "\n",
      "  BurnBndLat dNBR_offst BurnBndAc IncGreen_T  irwinID          Post_ID  \\\n",
      "0     47.435         15     11423       -150     None  504102720040925   \n",
      "\n",
      "   Asmnt_Type                                           geometry  \n",
      "0    Extended  POLYGON ((-113.86393 47.43105, -113.86337 47.4...  \n",
      "\n",
      "[1 rows x 23 columns]\n"
     ]
    }
   ],
   "source": [
    "czHorse = gpd.read_file('crazyHorseShapefile.shp'.format(inDir + os.sep + 'Data' + os.sep)) # Read in shapefile as dataframe using geopandas\n",
    "print(czHorse.head())                                                # Print first few lines of dataframe"
   ]
  },
  {
   "cell_type": "markdown",
   "id": "57265837",
   "metadata": {},
   "source": [
    "### Set projection of choice LEFT OFF HERE"
   ]
  },
  {
   "cell_type": "code",
   "execution_count": 14,
   "id": "826a52b1",
   "metadata": {},
   "outputs": [],
   "source": [
    "projections = r.get('{}spatial/proj'.format(api)).json()  # Call to spatial API, return projs as json\n",
    "# projections                                               # If you would like you can print projections and information"
   ]
  },
  {
   "cell_type": "code",
   "execution_count": 15,
   "id": "8516c83b",
   "metadata": {},
   "outputs": [
    {
     "data": {
      "text/plain": [
       "['native',\n",
       " 'geographic',\n",
       " 'sinu_modis',\n",
       " 'albers_weld_alaska',\n",
       " 'albers_weld_conus',\n",
       " 'albers_ard_alaska',\n",
       " 'albers_ard_conus',\n",
       " 'albers_ard_hawaii',\n",
       " 'easegrid_2_global',\n",
       " 'easegrid_2_north']"
      ]
     },
     "execution_count": 15,
     "metadata": {},
     "output_type": "execute_result"
    }
   ],
   "source": [
    "# Figure out how to insert the geographic projection here\n",
    "projs = {}                                  # Create a dictionary with one entry, we're going to set the projection to geographic\n",
    "for p in projections: projs[p['Name']] = p  # Fill dictionary with `Name` as keys\n",
    "list(projs.keys())                          # Print dictionary keys"
   ]
  },
  {
   "cell_type": "markdown",
   "id": "2a74e7c9",
   "metadata": {},
   "source": [
    "### Convert to json"
   ]
  },
  {
   "cell_type": "code",
   "execution_count": 16,
   "id": "3fd1fb7b",
   "metadata": {},
   "outputs": [],
   "source": [
    "czHorseJ = czHorse.to_json() \n",
    "czHorseJ = json.loads(czHorseJ)                                            # Convert to json format"
   ]
  },
  {
   "cell_type": "markdown",
   "id": "339ba53e",
   "metadata": {},
   "source": [
    "### Compile JSON"
   ]
  },
  {
   "cell_type": "code",
   "execution_count": 17,
   "id": "4bd8aee9",
   "metadata": {},
   "outputs": [
    {
     "name": "stdout",
     "output_type": "stream",
     "text": [
      "Enter a Task Name: Crazy Horse Fire\n"
     ]
    }
   ],
   "source": [
    "task_name = input('Enter a Task Name: ') # We will use 'Crazy_Horse_Fire' as the task name, this will be the name of the folder when downloaded, better to not include spaces!"
   ]
  },
  {
   "cell_type": "code",
   "execution_count": 18,
   "id": "8a78ea31",
   "metadata": {},
   "outputs": [],
   "source": [
    "task_type = ['area']        # Our task is an area, but you could also select point\n",
    "proj = projs['geographic']['Name']  # Set output projection \n",
    "outFormat = ['geotiff']             # Set output file format type\n",
    "startDate = '07-01-2020'            # Start of the date range for which to extract data: MM-DD-YYYY\n",
    "endDate = '07-31-2020'              # End of the date range for which to extract data: MM-DD-YYYY\n",
    "recurring = True                   # Specify True for a recurring date range\n",
    "yearRange = [2020,2021]            # if recurring = True, set yearRange, change start/end date to MM-DD"
   ]
  },
  {
   "cell_type": "code",
   "execution_count": 21,
   "id": "18583b1e",
   "metadata": {},
   "outputs": [],
   "source": [
    "task = {\n",
    "    'task_type': task_type[0],\n",
    "    'task_name': task_name,\n",
    "    'params': {\n",
    "         'dates': [\n",
    "         {\n",
    "             'startDate': startDate,\n",
    "             'endDate': endDate\n",
    "         }],\n",
    "         'layers': prodLayer,\n",
    "         'output': {\n",
    "                 'format': {\n",
    "                         'type': outFormat[0]}, \n",
    "                         'projection': proj},\n",
    "         'geo': czHorseJ,\n",
    "    }\n",
    "}"
   ]
  },
  {
   "cell_type": "markdown",
   "id": "df0886d8",
   "metadata": {},
   "source": [
    "## Submit a task"
   ]
  },
  {
   "cell_type": "code",
   "execution_count": 22,
   "id": "fe312c4c",
   "metadata": {},
   "outputs": [
    {
     "data": {
      "text/plain": [
       "{'task_id': 'd8f5ba50-ebaf-4577-b896-319fefe00194', 'status': 'pending'}"
      ]
     },
     "execution_count": 22,
     "metadata": {},
     "output_type": "execute_result"
    }
   ],
   "source": [
    "task_response = r.post('{}task'.format(api), json=task, headers=head).json()  # Post json to the API task service, return response as json\n",
    "task_response                                                                 # Print task response"
   ]
  },
  {
   "cell_type": "code",
   "execution_count": 29,
   "id": "fc4fd9bc",
   "metadata": {
    "collapsed": true
   },
   "outputs": [
    {
     "data": {
      "text/plain": [
       "{'error': None,\n",
       " 'params': {'geo': {'type': 'FeatureCollection',\n",
       "   'features': [{'id': '0',\n",
       "     'type': 'Feature',\n",
       "     'geometry': {'type': 'Polygon',\n",
       "      'coordinates': [[[-113.86393470121736, 47.43105210536035],\n",
       "        [-113.86336830745545, 47.431957302996146],\n",
       "        [-113.86190576526579, 47.43285803738252],\n",
       "        [-113.86319448129103, 47.435043015828356],\n",
       "        [-113.861459866494, 47.43621133275554],\n",
       "        [-113.85910101708157, 47.435105439847526],\n",
       "        [-113.85832955184567, 47.433558119538134],\n",
       "        [-113.85596627389876, 47.43245672240649],\n",
       "        [-113.85473995035754, 47.43049473741957],\n",
       "        [-113.85475342733673, 47.429317544488576],\n",
       "        [-113.85398644311284, 47.42777022770427],\n",
       "        [-113.85094533555925, 47.42793073551312],\n",
       "        [-113.84732448455114, 47.427226205004175],\n",
       "        [-113.84434583248164, 47.42761419626169],\n",
       "        [-113.84083654065941, 47.42854612287181],\n",
       "        [-113.83796486489392, 47.430566072127434],\n",
       "        [-113.83642202634624, 47.43241657847882],\n",
       "        [-113.83433962232839, 47.43322812513522],\n",
       "        [-113.8320832958017, 47.4339594778535],\n",
       "        [-113.82927403155254, 47.434325134290276],\n",
       "        [-113.82751268365368, 47.43486909543092],\n",
       "        [-113.8276064274329, 47.43585460297396],\n",
       "        [-113.8287924988599, 47.43620239639956],\n",
       "        [-113.83091054041861, 47.43630045913531],\n",
       "        [-113.83153478470672, 47.4369069176066],\n",
       "        [-113.83185589434044, 47.437740798376666],\n",
       "        [-113.83342108038381, 47.43847207272231],\n",
       "        [-113.83596265240325, 47.43845421362012],\n",
       "        [-113.83714440474203, 47.43811089438538],\n",
       "        [-113.83766158800724, 47.43735729504568],\n",
       "        [-113.83798713289458, 47.436563551401505],\n",
       "        [-113.83751441953292, 47.43550228608598],\n",
       "        [-113.83895479539267, 47.435381945399264],\n",
       "        [-113.84015429055164, 47.43475317427708],\n",
       "        [-113.84226348216829, 47.434949373078254],\n",
       "        [-113.84369477789359, 47.436411936365204],\n",
       "        [-113.84268702015088, 47.43771852295595],\n",
       "        [-113.84306163149502, 47.4390829802497],\n",
       "        [-113.84635683422074, 47.439832094295944],\n",
       "        [-113.84957634290295, 47.44030026579668],\n",
       "        [-113.84892978348759, 47.44256995406474],\n",
       "        [-113.849625367943, 47.44669908725209],\n",
       "        [-113.84992410368515, 47.44901782505217],\n",
       "        [-113.84810926312838, 47.45111363745168],\n",
       "        [-113.84656644908243, 47.45298642401375],\n",
       "        [-113.84377953468962, 47.45405663029751],\n",
       "        [-113.84090790595053, 47.45607660729697],\n",
       "        [-113.8357887974172, 47.45863166728832],\n",
       "        [-113.83250689817014, 47.46164600281211],\n",
       "        [-113.83023721732545, 47.46335835074774],\n",
       "        [-113.82613939106973, 47.46619877962132],\n",
       "        [-113.8232809932266, 47.46920864600411],\n",
       "        [-113.82142160271066, 47.469917652668094],\n",
       "        [-113.82085981316219, 47.467416119404334],\n",
       "        [-113.82258988926606, 47.46670706338404],\n",
       "        [-113.8238071963711, 47.46490113479104],\n",
       "        [-113.8225630663587, 47.464120815326126],\n",
       "        [-113.82123874021683, 47.464294706644324],\n",
       "        [-113.81925442456183, 47.46455336862634],\n",
       "        [-113.81654335111111, 47.46466932213426],\n",
       "        [-113.81562921868135, 47.46384878725109],\n",
       "        [-113.81386780370192, 47.462430807751886],\n",
       "        [-113.81289132410299, 47.46137850818471],\n",
       "        [-113.81086245910367, 47.46023249261106],\n",
       "        [-113.80874876269039, 47.46003625842611],\n",
       "        [-113.80721939524182, 47.460705171297654],\n",
       "        [-113.80535988053616, 47.46141858347568],\n",
       "        [-113.80461973204687, 47.462457590485066],\n",
       "        [-113.80248829222047, 47.463438593802636],\n",
       "        [-113.80056638795027, 47.463924639741236],\n",
       "        [-113.79818524411806, 47.46400042204186],\n",
       "        [-113.79454662048362, 47.46447305860797],\n",
       "        [-113.791897882804, 47.46481645868443],\n",
       "        [-113.78832165561843, 47.4655165355105],\n",
       "        [-113.78620808065469, 47.465320332376564],\n",
       "        [-113.7852984560759, 47.46449984741016],\n",
       "        [-113.78219491404369, 47.46443295303769],\n",
       "        [-113.78169100358724, 47.462613643827225],\n",
       "        [-113.78315801346312, 47.46171734591576],\n",
       "        [-113.7831133895224, 47.46030826351465],\n",
       "        [-113.78385810593885, 47.45927377363213],\n",
       "        [-113.78366636642215, 47.45859153085881],\n",
       "        [-113.7810399689154, 47.4577531930434],\n",
       "        [-113.77906908279758, 47.456834680775245],\n",
       "        [-113.777762526975, 47.45582688747033],\n",
       "        [-113.77650503609249, 47.456228210886415],\n",
       "        [-113.77365120552749, 47.45706652984738],\n",
       "        [-113.77118985770572, 47.45809211240628],\n",
       "        [-113.76912527339404, 47.45930500680604],\n",
       "        [-113.76653901058546, 47.45987578563642],\n",
       "        [-113.76490247926881, 47.45890813888762],\n",
       "        [-113.76260605749292, 47.4580296574396],\n",
       "        [-113.75978784259404, 47.456513579938765],\n",
       "        [-113.75721953268081, 47.45590717577268],\n",
       "        [-113.75486060252051, 47.45480130406917],\n",
       "        [-113.75216725198268, 47.45373557495128],\n",
       "        [-113.75150732388802, 47.453824752092544],\n",
       "        [-113.74925101300681, 47.45435092561575],\n",
       "        [-113.74811397512043, 47.45520706520474],\n",
       "        [-113.74515759473415, 47.45441334917216],\n",
       "        [-113.74383317842123, 47.454582788478],\n",
       "        [-113.74159474319235, 47.45393176159025],\n",
       "        [-113.73969070016793, 47.45323618152047],\n",
       "        [-113.73731405901938, 47.45331193329576],\n",
       "        [-113.73553480654024, 47.453071163411735],\n",
       "        [-113.73331418775585, 47.45123846152626],\n",
       "        [-113.73248485298676, 47.449463753116376],\n",
       "        [-113.73099102672985, 47.44777378341811],\n",
       "        [-113.72935450405555, 47.44681060044719],\n",
       "        [-113.72799006522575, 47.445575441161125],\n",
       "        [-113.72709820601621, 47.44357328850582],\n",
       "        [-113.72580952536156, 47.44138835556968],\n",
       "        [-113.72537255731741, 47.439796448297606],\n",
       "        [-113.72526552717852, 47.43815997008766],\n",
       "        [-113.7254929889237, 47.436483301509405],\n",
       "        [-113.72472150244633, 47.43493600166644],\n",
       "        [-113.72546622909283, 47.433901522374065],\n",
       "        [-113.72535921763424, 47.432264993409206],\n",
       "        [-113.72531457366593, 47.430860352108034],\n",
       "        [-113.72679945235575, 47.42878247669735],\n",
       "        [-113.72793647769747, 47.42793074549463],\n",
       "        [-113.72927873536281, 47.426579658301485],\n",
       "        [-113.73055854409135, 47.4250011313118],\n",
       "        [-113.73433977568247, 47.4238060888675],\n",
       "        [-113.73665855638654, 47.4235073555418],\n",
       "        [-113.73864282976375, 47.42324871259496],\n",
       "        [-113.74029714428961, 47.42303464215631],\n",
       "        [-113.74207194677784, 47.423271005014094],\n",
       "        [-113.74364594700161, 47.42401121695171],\n",
       "        [-113.74402047314236, 47.42537569216144],\n",
       "        [-113.74546976659072, 47.4256566311726],\n",
       "        [-113.7475164602667, 47.425625361811996],\n",
       "        [-113.74869804357112, 47.42617831966147],\n",
       "        [-113.74967021301367, 47.427230684097786],\n",
       "        [-113.75119971514516, 47.42656182606449],\n",
       "        [-113.75285399593407, 47.4263432974297],\n",
       "        [-113.75424076751045, 47.426401286456176],\n",
       "        [-113.75322851508484, 47.427707791362984],\n",
       "        [-113.75467780190945, 47.427993159831594],\n",
       "        [-113.7562696385186, 47.42755170067147],\n",
       "        [-113.75878906968863, 47.42675353419919],\n",
       "        [-113.7619103713649, 47.42563878033303],\n",
       "        [-113.76331505215552, 47.42451510276337],\n",
       "        [-113.76432276064054, 47.42320855081931],\n",
       "        [-113.76570960049891, 47.423262082900266],\n",
       "        [-113.76656128397886, 47.423859615954946],\n",
       "        [-113.76540633398297, 47.42589296541197],\n",
       "        [-113.76712315201526, 47.42590631292407],\n",
       "        [-113.7698922313246, 47.426013312623375],\n",
       "        [-113.77438254134776, 47.426138206905975],\n",
       "        [-113.77696432903818, 47.425567432601696],\n",
       "        [-113.77547049239968, 47.4238774102798],\n",
       "        [-113.77602798608294, 47.42215624250483],\n",
       "        [-113.77750842574186, 47.420082762646274],\n",
       "        [-113.7758094463648, 47.418892189092226],\n",
       "        [-113.77630442540936, 47.41694352034002],\n",
       "        [-113.77784727146972, 47.41509747622745],\n",
       "        [-113.77734781244196, 47.41327813246107],\n",
       "        [-113.778025639319, 47.41201172964487],\n",
       "        [-113.78201205513305, 47.41031727171456],\n",
       "        [-113.78765280750875, 47.40840434199041],\n",
       "        [-113.79356114397943, 47.406223863102845],\n",
       "        [-113.79965229787969, 47.40472560574188],\n",
       "        [-113.80659508616763, 47.40382042402157],\n",
       "        [-113.8118256077847, 47.40290624295734],\n",
       "        [-113.81723891541027, 47.40266993417749],\n",
       "        [-113.82219750784407, 47.40202336551826],\n",
       "        [-113.8266208728564, 47.40191635423662],\n",
       "        [-113.83071432697497, 47.40185391399946],\n",
       "        [-113.83355032593752, 47.402188339539016],\n",
       "        [-113.83671190891356, 47.40248267606139],\n",
       "        [-113.83874079545835, 47.40363312074792],\n",
       "        [-113.84023896675471, 47.40531864661094],\n",
       "        [-113.84100597633216, 47.40686597796042],\n",
       "        [-113.8424239030247, 47.4095057450036],\n",
       "        [-113.84424775020138, 47.41115118681871],\n",
       "        [-113.84508161920033, 47.41292590424937],\n",
       "        [-113.84676267667945, 47.415293694232766],\n",
       "        [-113.8482609706924, 47.41698365506235],\n",
       "        [-113.85002227999608, 47.41840166125774],\n",
       "        [-113.85304558187819, 47.41941831599474],\n",
       "        [-113.85614466517251, 47.419485242138634],\n",
       "        [-113.85819137874614, 47.41945400142331],\n",
       "        [-113.85995719138253, 47.42086752962969],\n",
       "        [-113.85940416275892, 47.422588744534835],\n",
       "        [-113.85878889678585, 47.4240825314673],\n",
       "        [-113.85872200704229, 47.42504572073105],\n",
       "        [-113.85973867503441, 47.42641467676111],\n",
       "        [-113.86179432034619, 47.42627641919229],\n",
       "        [-113.86211088616746, 47.42741346466348],\n",
       "        [-113.86176302796666, 47.42863529492763],\n",
       "        [-113.86186117821813, 47.430137985317074],\n",
       "        [-113.86333266352663, 47.430191555126825],\n",
       "        [-113.86393470121736, 47.43105210536035]]]},\n",
       "     'properties': {'Low_T': 120,\n",
       "      'Mod_T': 371,\n",
       "      'High_T': 660,\n",
       "      'Map_ID': 13004,\n",
       "      'Pre_ID': '704102720020710',\n",
       "      'Comment': None,\n",
       "      'Ig_Date': 1060498800000,\n",
       "      'Post_ID': '504102720040925',\n",
       "      'irwinID': None,\n",
       "      'Event_ID': 'MT4743511379720030810',\n",
       "      'Map_Prog': 'MTBS',\n",
       "      'NoData_T': -970,\n",
       "      'Perim_ID': None,\n",
       "      'BurnBndAc': 11423,\n",
       "      'Asmnt_Type': 'Extended',\n",
       "      'BurnBndLat': '47.435',\n",
       "      'BurnBndLon': '-113.797',\n",
       "      'IncGreen_T': -150,\n",
       "      'Incid_Name': 'CRAZY HORSE',\n",
       "      'Incid_Type': 'Wildfire',\n",
       "      'dNBR_offst': 15,\n",
       "      'dNBR_stdDv': -9999}}]},\n",
       "  'dates': [{'endDate': '07-31-2020', 'startDate': '07-01-2020'}],\n",
       "  'layers': [{'layer': 'SDS_LST', 'product': 'ECO2LSTE.001'},\n",
       "   {'layer': 'SDS_QC', 'product': 'ECO2LSTE.001'}],\n",
       "  'output': {'format': {'type': 'geotiff'}, 'projection': 'geographic'}},\n",
       " 'status': 'done',\n",
       " 'created': '2022-10-19T22:22:11.238879',\n",
       " 'task_id': 'd8f5ba50-ebaf-4577-b896-319fefe00194',\n",
       " 'updated': '2022-10-19T22:35:46.857796',\n",
       " 'user_id': 'marie3.johnson@umontana.edu',\n",
       " 'attempts': 1,\n",
       " 'estimate': {'request_size': 15087918359.146465},\n",
       " 'retry_at': None,\n",
       " 'completed': '2022-10-19T22:35:46.834877',\n",
       " 'has_swath': True,\n",
       " 'task_name': 'Crazy Horse Fire',\n",
       " 'task_type': 'area',\n",
       " 'api_version': 'v1',\n",
       " 'svc_version': '3.14',\n",
       " 'web_version': None,\n",
       " 'size_category': '0',\n",
       " 'has_nsidc_daac': False,\n",
       " 'expires_on': '2022-11-18T22:35:46.857796'}"
      ]
     },
     "execution_count": 29,
     "metadata": {},
     "output_type": "execute_result"
    }
   ],
   "source": [
    "task_id = task_response['task_id']                                               # Set task id from request submission\n",
    "status_response = r.get('{}status/{}'.format(api, task_id), headers=head).json() # Call status service with specific task ID & user credentials\n",
    "status_response                                                        "
   ]
  },
  {
   "cell_type": "markdown",
   "id": "23362914",
   "metadata": {},
   "source": [
    "## Retrieve task status"
   ]
  },
  {
   "cell_type": "code",
   "execution_count": 31,
   "id": "1985dc53",
   "metadata": {},
   "outputs": [],
   "source": [
    "params = {'limit': 2, 'pretty': True} # Limit API response to 2 most recent entries, return as pretty json"
   ]
  },
  {
   "cell_type": "code",
   "execution_count": 32,
   "id": "d9f5dc64",
   "metadata": {},
   "outputs": [
    {
     "data": {
      "text/plain": [
       "[{'error': None,\n",
       "  'params': {'dates': [{'endDate': '07-31-2020', 'startDate': '07-01-2020'}],\n",
       "   'layers': [{'layer': 'SDS_LST', 'product': 'ECO2LSTE.001'},\n",
       "    {'layer': 'SDS_QC', 'product': 'ECO2LSTE.001'}],\n",
       "   'output': {'format': {'type': 'geotiff'}, 'projection': 'geographic'}},\n",
       "  'status': 'done',\n",
       "  'created': '2022-10-19T22:22:11.238879',\n",
       "  'task_id': 'd8f5ba50-ebaf-4577-b896-319fefe00194',\n",
       "  'updated': '2022-10-19T22:35:46.857796',\n",
       "  'user_id': 'marie3.johnson@umontana.edu',\n",
       "  'attempts': 1,\n",
       "  'estimate': {'request_size': 15087918359.146465},\n",
       "  'retry_at': None,\n",
       "  'completed': '2022-10-19T22:35:46.834877',\n",
       "  'has_swath': True,\n",
       "  'task_name': 'Crazy Horse Fire',\n",
       "  'task_type': 'area',\n",
       "  'api_version': 'v1',\n",
       "  'svc_version': '3.14',\n",
       "  'web_version': None,\n",
       "  'size_category': '0',\n",
       "  'has_nsidc_daac': False,\n",
       "  'expires_on': '2022-11-18T22:35:46.857796'},\n",
       " {'error': None,\n",
       "  'params': {'dates': [{'endDate': '12-31-2020',\n",
       "     'recurring': False,\n",
       "     'startDate': '01-01-2019',\n",
       "     'yearRange': [1950, 2050]}],\n",
       "   'layers': [{'layer': 'Evaporative_Stress_Index_PT_JPL_ESIavg',\n",
       "     'product': 'ECO4ESIPTJPL.001'}],\n",
       "   'output': {'format': {'type': 'geotiff'}, 'projection': 'geographic'}},\n",
       "  'status': 'expired',\n",
       "  'created': '2022-08-07T19:07:35.752865',\n",
       "  'task_id': 'e993d569-9483-483c-9ff0-08e0e2777a1a',\n",
       "  'updated': '2022-09-22T08:39:08.429794',\n",
       "  'user_id': 'marie3.johnson@umontana.edu',\n",
       "  'attempts': 1,\n",
       "  'estimate': {'request_size': 355726880445.968},\n",
       "  'retry_at': None,\n",
       "  'completed': '2022-08-07T20:19:56.298237',\n",
       "  'has_swath': True,\n",
       "  'task_name': 'Cave_ESI_2019-2020',\n",
       "  'task_type': 'area',\n",
       "  'api_version': None,\n",
       "  'svc_version': '3.7',\n",
       "  'web_version': '3.1',\n",
       "  'size_category': '0',\n",
       "  'has_nsidc_daac': False,\n",
       "  'expires_on': '2022-09-22T08:39:08.429794'}]"
      ]
     },
     "execution_count": 32,
     "metadata": {},
     "output_type": "execute_result"
    }
   ],
   "source": [
    "tasks_response = r.get('{}task'.format(api), params=params, headers=head).json() # Query task service, setting params and header \n",
    "tasks_response   "
   ]
  },
  {
   "cell_type": "code",
   "execution_count": 33,
   "id": "0b0c6ca2",
   "metadata": {},
   "outputs": [
    {
     "name": "stdout",
     "output_type": "stream",
     "text": [
      "done\n"
     ]
    }
   ],
   "source": [
    "# Ping API until request is complete, then continue to Section 4\n",
    "starttime = time.time()\n",
    "while r.get('{}task/{}'.format(api, task_id), headers=head).json()['status'] != 'done':\n",
    "    print(r.get('{}task/{}'.format(api, task_id), headers=head).json()['status'])\n",
    "    time.sleep(20.0 - ((time.time() - starttime) % 20.0))\n",
    "print(r.get('{}task/{}'.format(api, task_id), headers=head).json()['status'])"
   ]
  },
  {
   "cell_type": "markdown",
   "id": "4f65ceaf",
   "metadata": {},
   "source": [
    "## Download Request"
   ]
  },
  {
   "cell_type": "code",
   "execution_count": 34,
   "id": "5c290a5f",
   "metadata": {},
   "outputs": [],
   "source": [
    "# destDir = os.path.join(inDir, task_name)                # Set up output directory using input directory and task name\n",
    "practDir = '/home/marie/wildfire/LST'\n",
    "destDir = os.path.join(practDir, task_name)                # Set up output directory using input directory and task name\n",
    "if not os.path.exists(destDir):os.makedirs(destDir)     # Create the output directory"
   ]
  },
  {
   "cell_type": "code",
   "execution_count": 35,
   "id": "18d76b64",
   "metadata": {
    "collapsed": true
   },
   "outputs": [
    {
     "data": {
      "text/plain": [
       "{'files': [{'sha256': '30ac88a235f0ddbf4cea83fcb34b6d022b8ec9bb09992c50a09a3accfb2e9e47',\n",
       "   'file_id': '6034c2e7-d3ca-426b-a752-827faecd3f21',\n",
       "   'file_name': 'ECO2LSTE.001_2020183_to_2020213/ECO2LSTE.001_SDS_LST_doy2020186135802_aid0001.tif',\n",
       "   'file_size': 22875,\n",
       "   'file_type': 'tif'},\n",
       "  {'sha256': '9dcbecf06e1aa48330f89855a47b9bdf0c335345bb96fb8b12742b3d2d207224',\n",
       "   'file_id': '6c999cc0-ef37-4892-8029-968af43a38dd',\n",
       "   'file_name': 'ECO2LSTE.001_2020183_to_2020213/ECO2LSTE.001_SDS_LST_doy2020187095615_aid0001.tif',\n",
       "   'file_size': 21742,\n",
       "   'file_type': 'tif'},\n",
       "  {'sha256': 'a66a75223d3c9e022eedf77b0bc0627cc84bcf61d038c0c3222c67a68d27bddd',\n",
       "   'file_id': 'a249650b-6dc8-4d13-b6b9-0c5cc69a86b8',\n",
       "   'file_name': 'ECO2LSTE.001_2020183_to_2020213/ECO2LSTE.001_SDS_LST_doy2020188090905_aid0001.tif',\n",
       "   'file_size': 21614,\n",
       "   'file_type': 'tif'},\n",
       "  {'sha256': '86fda79c58472ca0d02522bdc651f7bc87662ddf28242ebe5932a67e78a7ebdf',\n",
       "   'file_id': 'f13209ab-c5f2-4e97-80bc-cb9012df3227',\n",
       "   'file_name': 'ECO2LSTE.001_2020183_to_2020213/ECO2LSTE.001_SDS_LST_doy2020190122451_aid0001.tif',\n",
       "   'file_size': 24122,\n",
       "   'file_type': 'tif'},\n",
       "  {'sha256': '7cec0350fc8a7c2690a455485c9c2ba7811cae84ff8f9df62bb9097ded86bd20',\n",
       "   'file_id': 'b517293f-7141-4f31-af44-77b1cfe983fe',\n",
       "   'file_name': 'ECO2LSTE.001_2020183_to_2020213/ECO2LSTE.001_SDS_LST_doy2020194105045_aid0001.tif',\n",
       "   'file_size': 23737,\n",
       "   'file_type': 'tif'},\n",
       "  {'sha256': 'ee03359ddd31049852bef8788992264a91d56f34182284658e7ce698fe49c8f1',\n",
       "   'file_id': '8069a02e-1a39-4d37-b3ca-cb0a86ac0ada',\n",
       "   'file_name': 'ECO2LSTE.001_2020183_to_2020213/ECO2LSTE.001_SDS_LST_doy2020195064821_aid0001.tif',\n",
       "   'file_size': 23471,\n",
       "   'file_type': 'tif'},\n",
       "  {'sha256': '0188e06bc4f61420267f3b958210f9cd9f04c6810f152bf039025190ecba72c9',\n",
       "   'file_id': '70dfb04c-2221-4c21-90a0-4ffbb7a57925',\n",
       "   'file_name': 'ECO2LSTE.001_2020183_to_2020213/ECO2LSTE.001_SDS_LST_doy2020196060053_aid0001.tif',\n",
       "   'file_size': 23110,\n",
       "   'file_type': 'tif'},\n",
       "  {'sha256': 'e21238d4d7c78c73c4f061c16fd1b20bc8316f4b8398f9ee60b663ea386adceb',\n",
       "   'file_id': 'e3ad2d2b-f743-49c8-b1dc-4db11843ee54',\n",
       "   'file_name': 'ECO2LSTE.001_2020183_to_2020213/ECO2LSTE.001_SDS_LST_doy2020198091544_aid0001.tif',\n",
       "   'file_size': 21517,\n",
       "   'file_type': 'tif'},\n",
       "  {'sha256': '26f675b8e94a494e26e2e006e0b5af5c17ae4c02a07f7f115a09e046f50d9dd2',\n",
       "   'file_id': '205d709f-7b04-4f8b-9f33-329596c7bd35',\n",
       "   'file_name': 'ECO2LSTE.001_2020183_to_2020213/ECO2LSTE.001_SDS_LST_doy2020200042553_aid0001.tif',\n",
       "   'file_size': 23614,\n",
       "   'file_type': 'tif'},\n",
       "  {'sha256': '91b3ec5405cb2d6b20b452133ccdcf2f385457c0ac0371bf511623a92b085927',\n",
       "   'file_id': '32079ac2-0f32-46a9-ad64-cfc9eec3b5d5',\n",
       "   'file_name': 'ECO2LSTE.001_2020183_to_2020213/ECO2LSTE.001_SDS_LST_doy2020202074048_aid0001.tif',\n",
       "   'file_size': 22071,\n",
       "   'file_type': 'tif'},\n",
       "  {'sha256': '6174c10dab64d815d3f176e0bb444c66e99f8e928c3351838a5362fb39f5b407',\n",
       "   'file_id': '5ef4f72f-2ff5-4c4a-b883-4c509222b3db',\n",
       "   'file_name': 'ECO2LSTE.001_2020183_to_2020213/ECO2LSTE.001_SDS_LST_doy2020203033826_aid0001.tif',\n",
       "   'file_size': 24492,\n",
       "   'file_type': 'tif'},\n",
       "  {'sha256': '9ef2bb43772f3183700497a29188f56f03335b61a288e2e7b025e4204f87bf43',\n",
       "   'file_id': 'c9953896-477c-4a42-ae68-2442f6f5d333',\n",
       "   'file_name': 'ECO2LSTE.001_2020183_to_2020213/ECO2LSTE.001_SDS_LST_doy2020206025131_aid0001.tif',\n",
       "   'file_size': 21807,\n",
       "   'file_type': 'tif'},\n",
       "  {'sha256': '185a9d96b3ef646110cefa71f7c9eab7258b6f388d2bcd8d3d7eba19ad2732c1',\n",
       "   'file_id': 'b5966244-6623-4f7e-b5fc-5612abe28d78',\n",
       "   'file_name': 'ECO2LSTE.001_2020183_to_2020213/ECO2LSTE.001_SDS_LST_doy2020207020329_aid0001.tif',\n",
       "   'file_size': 27495,\n",
       "   'file_type': 'tif'},\n",
       "  {'sha256': '4036241cbfe6c56aa3ec1bee2ac032e8f4e95b98d8fd11e02fe2b60362d8c4b4',\n",
       "   'file_id': '05a78d15-2e58-4ab3-b2dc-d999d519e96b',\n",
       "   'file_name': 'ECO2LSTE.001_2020183_to_2020213/ECO2LSTE.001_SDS_LST_doy2020210011635_aid0001.tif',\n",
       "   'file_size': 22486,\n",
       "   'file_type': 'tif'},\n",
       "  {'sha256': 'c047457c8d8a16606245d004fd0f1c06223e6af1bb2c1565ab9425bc1f92e090',\n",
       "   'file_id': '8132a618-1fb4-4429-9c9d-5d90adae9427',\n",
       "   'file_name': 'ECO2LSTE.001_2020183_to_2020213/ECO2LSTE.001_SDS_LST_doy2020211002914_aid0001.tif',\n",
       "   'file_size': 26869,\n",
       "   'file_type': 'tif'},\n",
       "  {'sha256': 'ec220c422d30bae213859e54751a222293ee37690abd1edaf1fae398fd4a90c6',\n",
       "   'file_id': '67d7e26c-f15b-483b-a305-20ba9557ac55',\n",
       "   'file_name': 'ECO2LSTE.001_2020183_to_2020213/ECO2LSTE.001_SDS_LST_doy2020211234110_aid0001.tif',\n",
       "   'file_size': 24196,\n",
       "   'file_type': 'tif'},\n",
       "  {'sha256': 'b0be2c88f8d51915e0b5e3c2256fb1696c3a809f8f5c0f0ad7ff5d7fdf840d8f',\n",
       "   'file_id': '27cd5f38-f1bc-4bc3-9c41-85126f11b575',\n",
       "   'file_name': 'ECO2LSTE.001_2020183_to_2020213/ECO2LSTE.001_SDS_LST_doy2020213234235_aid0001.tif',\n",
       "   'file_size': 22918,\n",
       "   'file_type': 'tif'},\n",
       "  {'sha256': '6c5fb71ab8481235e159cbbddde42ea967fe93fb3e0e85f1d34582fe5af73b21',\n",
       "   'file_id': 'afc4344a-342c-4a77-9a0c-3a961dc26cce',\n",
       "   'file_name': 'ECO2LSTE.001_2020183_to_2020213/ECO2LSTE.001_SDS_QC_doy2020186135802_aid0001.tif',\n",
       "   'file_size': 9716,\n",
       "   'file_type': 'tif'},\n",
       "  {'sha256': '935560498c2d4d50baf45bf984dae7cd7c9a2af658b1922202a9e77ff7d5bbdc',\n",
       "   'file_id': 'b529ee13-3f3d-4140-a406-0885c55cb277',\n",
       "   'file_name': 'ECO2LSTE.001_2020183_to_2020213/ECO2LSTE.001_SDS_QC_doy2020187095615_aid0001.tif',\n",
       "   'file_size': 8490,\n",
       "   'file_type': 'tif'},\n",
       "  {'sha256': 'd80009a400f1043c3af36d7985254a158b3ec32630f435a9698f0954685afd76',\n",
       "   'file_id': '8e561f74-6220-4d51-93ae-aec238ed91cf',\n",
       "   'file_name': 'ECO2LSTE.001_2020183_to_2020213/ECO2LSTE.001_SDS_QC_doy2020188090905_aid0001.tif',\n",
       "   'file_size': 9417,\n",
       "   'file_type': 'tif'},\n",
       "  {'sha256': '1330e3a7db2c0d38d21053fd1ca85915967937083b5fc7d1ffd0a64784e04c7e',\n",
       "   'file_id': '1e67d599-4909-40d0-8156-e02008035e36',\n",
       "   'file_name': 'ECO2LSTE.001_2020183_to_2020213/ECO2LSTE.001_SDS_QC_doy2020190122451_aid0001.tif',\n",
       "   'file_size': 8680,\n",
       "   'file_type': 'tif'},\n",
       "  {'sha256': 'a795277ef19359d6185b0e2fa6c66cc002484c3729cbaa418547fdf9ec9056ff',\n",
       "   'file_id': '56894621-8b0d-4194-8adc-6f4b27eba9cd',\n",
       "   'file_name': 'ECO2LSTE.001_2020183_to_2020213/ECO2LSTE.001_SDS_QC_doy2020194105045_aid0001.tif',\n",
       "   'file_size': 10821,\n",
       "   'file_type': 'tif'},\n",
       "  {'sha256': '4aa63801b13020346f44edbd822b1f44457d095a9a81b276419b3595ab587b6f',\n",
       "   'file_id': '504b10fd-a85d-40cc-b3d7-58681d20c3c1',\n",
       "   'file_name': 'ECO2LSTE.001_2020183_to_2020213/ECO2LSTE.001_SDS_QC_doy2020195064821_aid0001.tif',\n",
       "   'file_size': 9518,\n",
       "   'file_type': 'tif'},\n",
       "  {'sha256': 'adeea8fa6c86f4a2baa1dddb2a47cb5c65a6fd3d01768726682b646341e0459b',\n",
       "   'file_id': 'ab7e1ce2-25b8-4279-8a2a-eb8e3ef83f9d',\n",
       "   'file_name': 'ECO2LSTE.001_2020183_to_2020213/ECO2LSTE.001_SDS_QC_doy2020196060053_aid0001.tif',\n",
       "   'file_size': 11595,\n",
       "   'file_type': 'tif'},\n",
       "  {'sha256': '4439ca6b45956319c94897715e16b55c0bf970bbed4dbe3bf7eaf0aa203b4215',\n",
       "   'file_id': 'dc96da71-5945-4baa-8e8e-38de27a1a0dc',\n",
       "   'file_name': 'ECO2LSTE.001_2020183_to_2020213/ECO2LSTE.001_SDS_QC_doy2020198091544_aid0001.tif',\n",
       "   'file_size': 8874,\n",
       "   'file_type': 'tif'},\n",
       "  {'sha256': 'f27d109339b03f1239607bb9502e825b71622b9e1864c6daa8ec55eea20d9957',\n",
       "   'file_id': '180c913a-b2ea-4145-a36a-cdc304e1cf45',\n",
       "   'file_name': 'ECO2LSTE.001_2020183_to_2020213/ECO2LSTE.001_SDS_QC_doy2020200042553_aid0001.tif',\n",
       "   'file_size': 10211,\n",
       "   'file_type': 'tif'},\n",
       "  {'sha256': 'fdcf392b22a0a91cd03a62a3bc2ce47b4d9f63f311cc0d930f945b09994e7983',\n",
       "   'file_id': 'ccc79fd3-e6f9-4465-943d-2e0b61387054',\n",
       "   'file_name': 'ECO2LSTE.001_2020183_to_2020213/ECO2LSTE.001_SDS_QC_doy2020202042625_aid0001.tif',\n",
       "   'file_size': 4664,\n",
       "   'file_type': 'tif'},\n",
       "  {'sha256': 'a82e051fd722ea0e6010bebf5205de30ef050c34681a1cd3d4271180a482b123',\n",
       "   'file_id': '1e1eeaea-4814-4f64-9db6-f6f36d15c49b',\n",
       "   'file_name': 'ECO2LSTE.001_2020183_to_2020213/ECO2LSTE.001_SDS_QC_doy2020202074048_aid0001.tif',\n",
       "   'file_size': 11529,\n",
       "   'file_type': 'tif'},\n",
       "  {'sha256': 'eafe5895b01224ab44fde205293b0b5266673840dd9202239dffe8f5edc4cccc',\n",
       "   'file_id': '1b552697-2707-4352-a9cd-8e25a628371c',\n",
       "   'file_name': 'ECO2LSTE.001_2020183_to_2020213/ECO2LSTE.001_SDS_QC_doy2020203033826_aid0001.tif',\n",
       "   'file_size': 10178,\n",
       "   'file_type': 'tif'},\n",
       "  {'sha256': '0d7ef3ff498b7d4195a742620cd6e82980b0773a4dc359bd3a88a2907e29e573',\n",
       "   'file_id': '6ce8d87e-6d55-41fd-b579-0353431e2cca',\n",
       "   'file_name': 'ECO2LSTE.001_2020183_to_2020213/ECO2LSTE.001_SDS_QC_doy2020206025131_aid0001.tif',\n",
       "   'file_size': 8447,\n",
       "   'file_type': 'tif'},\n",
       "  {'sha256': '2d97580920419d60de39bf1f91cd717e632332e9c45617a110c9ae90078bc123',\n",
       "   'file_id': '0bf90114-c42f-408d-a03b-882d44ebd896',\n",
       "   'file_name': 'ECO2LSTE.001_2020183_to_2020213/ECO2LSTE.001_SDS_QC_doy2020207020329_aid0001.tif',\n",
       "   'file_size': 10813,\n",
       "   'file_type': 'tif'},\n",
       "  {'sha256': '568055e7fb01fbbc42cddbd037e7ec83847baa486c7df567429746c5c9dce102',\n",
       "   'file_id': '0563cb4f-fc1a-4827-affd-0b82546ed0e2',\n",
       "   'file_name': 'ECO2LSTE.001_2020183_to_2020213/ECO2LSTE.001_SDS_QC_doy2020210011635_aid0001.tif',\n",
       "   'file_size': 8419,\n",
       "   'file_type': 'tif'},\n",
       "  {'sha256': 'a208973281b9a80d63691211b848886666e878a79fa5293f4b790e5dc0e067ea',\n",
       "   'file_id': '8f4579bd-d051-4d62-8458-8d7eb5ea65bb',\n",
       "   'file_name': 'ECO2LSTE.001_2020183_to_2020213/ECO2LSTE.001_SDS_QC_doy2020211002914_aid0001.tif',\n",
       "   'file_size': 11383,\n",
       "   'file_type': 'tif'},\n",
       "  {'sha256': '1a8b82e64c42ddfca72bbb9edb1a7ef539218f55c9ef53db705d2fce5f683183',\n",
       "   'file_id': '3c764644-694d-4707-919a-de004d56175e',\n",
       "   'file_name': 'ECO2LSTE.001_2020183_to_2020213/ECO2LSTE.001_SDS_QC_doy2020211234110_aid0001.tif',\n",
       "   'file_size': 8919,\n",
       "   'file_type': 'tif'},\n",
       "  {'sha256': '8a76f73bc312309ec4c51a346b0d6910e93674c9486e3643cf98d715fc1b594c',\n",
       "   'file_id': '34390b51-d3b7-4e7b-892c-ceeb87bfb416',\n",
       "   'file_name': 'ECO2LSTE.001_2020183_to_2020213/ECO2LSTE.001_SDS_QC_doy2020213234235_aid0001.tif',\n",
       "   'file_size': 8532,\n",
       "   'file_type': 'tif'},\n",
       "  {'sha256': 'd995f8dcac2bd44fe5b7baafe12bd6e5939c14d5f4c0eb895b4ea75b09247ba5',\n",
       "   'file_id': '11f53561-7e31-4dc5-bb46-70ce563e3ee3',\n",
       "   'file_name': 'ECO2LSTE-001-SDS-QC-lookup.csv',\n",
       "   'file_size': 27626,\n",
       "   'file_type': 'csv'},\n",
       "  {'sha256': 'db9fd71f8d0f51ea5e58349683fd5372cd91d88dcfe6be5e44b0f941964aedc8',\n",
       "   'file_id': 'fa0e2b09-b7a0-47e4-83a2-8460409ed5ba',\n",
       "   'file_name': 'ECO2LSTE-001-SDS-QC-Statistics-QA.csv',\n",
       "   'file_size': 4815,\n",
       "   'file_type': 'csv'},\n",
       "  {'sha256': '1bfc124bf68e033f4849783e3a6ab96763c7cbd74e70298eba5b12dfcad2303c',\n",
       "   'file_id': 'f25ad91b-8c09-45a9-9cac-3eaf70d85efc',\n",
       "   'file_name': 'ECO2LSTE-001-Statistics.csv',\n",
       "   'file_size': 3809,\n",
       "   'file_type': 'csv'},\n",
       "  {'sha256': '816f69e15afd20c43d12a61495e1ba4c386855e0c61b71744924f44708dbacb2',\n",
       "   'file_id': '6f2dd107-3940-45d0-9324-c0104895e24e',\n",
       "   'file_name': 'Crazy-Horse-Fire-granule-list.txt',\n",
       "   'file_size': 8364,\n",
       "   'file_type': 'txt'},\n",
       "  {'sha256': '76341fc83c3e7d9e37c142fda0d36987d295cb52d8a0c026cd0fd5ab9a485751',\n",
       "   'file_id': 'af00e360-0094-4c8a-839f-9d5264424c5c',\n",
       "   'file_name': 'Crazy-Horse-Fire-request.json',\n",
       "   'file_size': 9578,\n",
       "   'file_type': 'json'},\n",
       "  {'sha256': 'e3632c45c6a30a201750e49a92993491de1330d7acddc9ea383a339cdcd8ac65',\n",
       "   'file_id': 'b1f1c7e8-be2c-4305-97a6-70d0fddad23a',\n",
       "   'file_name': 'Crazy-Horse-Fire-ECO2LSTE-001-metadata.xml',\n",
       "   'file_size': 22130,\n",
       "   'file_type': 'xml'},\n",
       "  {'sha256': '7b126ccc87bc0cb41bccfab0e75f778d3aaa4d2500a50f35621aacd7ab83bbdf',\n",
       "   'file_id': '99e8e83a-f386-49bd-8acd-bcd2f773fa26',\n",
       "   'file_name': 'README.md',\n",
       "   'file_size': 22047,\n",
       "   'file_type': 'txt'}],\n",
       " 'created': '2022-10-19T22:24:15.730047',\n",
       " 'task_id': 'd8f5ba50-ebaf-4577-b896-319fefe00194',\n",
       " 'updated': '2022-10-19T22:35:35.458345',\n",
       " 'bundle_type': 'area'}"
      ]
     },
     "execution_count": 35,
     "metadata": {},
     "output_type": "execute_result"
    }
   ],
   "source": [
    "bundle = r.get('{}bundle/{}'.format(api,task_id), headers=head).json()  # Call API and return bundle contents for the task_id as json\n",
    "bundle                                                    # Print bundle contents"
   ]
  },
  {
   "cell_type": "code",
   "execution_count": 37,
   "id": "c4a681ff",
   "metadata": {
    "collapsed": true
   },
   "outputs": [
    {
     "data": {
      "text/plain": [
       "{'6034c2e7-d3ca-426b-a752-827faecd3f21': 'ECO2LSTE.001_2020183_to_2020213/ECO2LSTE.001_SDS_LST_doy2020186135802_aid0001.tif',\n",
       " '6c999cc0-ef37-4892-8029-968af43a38dd': 'ECO2LSTE.001_2020183_to_2020213/ECO2LSTE.001_SDS_LST_doy2020187095615_aid0001.tif',\n",
       " 'a249650b-6dc8-4d13-b6b9-0c5cc69a86b8': 'ECO2LSTE.001_2020183_to_2020213/ECO2LSTE.001_SDS_LST_doy2020188090905_aid0001.tif',\n",
       " 'f13209ab-c5f2-4e97-80bc-cb9012df3227': 'ECO2LSTE.001_2020183_to_2020213/ECO2LSTE.001_SDS_LST_doy2020190122451_aid0001.tif',\n",
       " 'b517293f-7141-4f31-af44-77b1cfe983fe': 'ECO2LSTE.001_2020183_to_2020213/ECO2LSTE.001_SDS_LST_doy2020194105045_aid0001.tif',\n",
       " '8069a02e-1a39-4d37-b3ca-cb0a86ac0ada': 'ECO2LSTE.001_2020183_to_2020213/ECO2LSTE.001_SDS_LST_doy2020195064821_aid0001.tif',\n",
       " '70dfb04c-2221-4c21-90a0-4ffbb7a57925': 'ECO2LSTE.001_2020183_to_2020213/ECO2LSTE.001_SDS_LST_doy2020196060053_aid0001.tif',\n",
       " 'e3ad2d2b-f743-49c8-b1dc-4db11843ee54': 'ECO2LSTE.001_2020183_to_2020213/ECO2LSTE.001_SDS_LST_doy2020198091544_aid0001.tif',\n",
       " '205d709f-7b04-4f8b-9f33-329596c7bd35': 'ECO2LSTE.001_2020183_to_2020213/ECO2LSTE.001_SDS_LST_doy2020200042553_aid0001.tif',\n",
       " '32079ac2-0f32-46a9-ad64-cfc9eec3b5d5': 'ECO2LSTE.001_2020183_to_2020213/ECO2LSTE.001_SDS_LST_doy2020202074048_aid0001.tif',\n",
       " '5ef4f72f-2ff5-4c4a-b883-4c509222b3db': 'ECO2LSTE.001_2020183_to_2020213/ECO2LSTE.001_SDS_LST_doy2020203033826_aid0001.tif',\n",
       " 'c9953896-477c-4a42-ae68-2442f6f5d333': 'ECO2LSTE.001_2020183_to_2020213/ECO2LSTE.001_SDS_LST_doy2020206025131_aid0001.tif',\n",
       " 'b5966244-6623-4f7e-b5fc-5612abe28d78': 'ECO2LSTE.001_2020183_to_2020213/ECO2LSTE.001_SDS_LST_doy2020207020329_aid0001.tif',\n",
       " '05a78d15-2e58-4ab3-b2dc-d999d519e96b': 'ECO2LSTE.001_2020183_to_2020213/ECO2LSTE.001_SDS_LST_doy2020210011635_aid0001.tif',\n",
       " '8132a618-1fb4-4429-9c9d-5d90adae9427': 'ECO2LSTE.001_2020183_to_2020213/ECO2LSTE.001_SDS_LST_doy2020211002914_aid0001.tif',\n",
       " '67d7e26c-f15b-483b-a305-20ba9557ac55': 'ECO2LSTE.001_2020183_to_2020213/ECO2LSTE.001_SDS_LST_doy2020211234110_aid0001.tif',\n",
       " '27cd5f38-f1bc-4bc3-9c41-85126f11b575': 'ECO2LSTE.001_2020183_to_2020213/ECO2LSTE.001_SDS_LST_doy2020213234235_aid0001.tif',\n",
       " 'afc4344a-342c-4a77-9a0c-3a961dc26cce': 'ECO2LSTE.001_2020183_to_2020213/ECO2LSTE.001_SDS_QC_doy2020186135802_aid0001.tif',\n",
       " 'b529ee13-3f3d-4140-a406-0885c55cb277': 'ECO2LSTE.001_2020183_to_2020213/ECO2LSTE.001_SDS_QC_doy2020187095615_aid0001.tif',\n",
       " '8e561f74-6220-4d51-93ae-aec238ed91cf': 'ECO2LSTE.001_2020183_to_2020213/ECO2LSTE.001_SDS_QC_doy2020188090905_aid0001.tif',\n",
       " '1e67d599-4909-40d0-8156-e02008035e36': 'ECO2LSTE.001_2020183_to_2020213/ECO2LSTE.001_SDS_QC_doy2020190122451_aid0001.tif',\n",
       " '56894621-8b0d-4194-8adc-6f4b27eba9cd': 'ECO2LSTE.001_2020183_to_2020213/ECO2LSTE.001_SDS_QC_doy2020194105045_aid0001.tif',\n",
       " '504b10fd-a85d-40cc-b3d7-58681d20c3c1': 'ECO2LSTE.001_2020183_to_2020213/ECO2LSTE.001_SDS_QC_doy2020195064821_aid0001.tif',\n",
       " 'ab7e1ce2-25b8-4279-8a2a-eb8e3ef83f9d': 'ECO2LSTE.001_2020183_to_2020213/ECO2LSTE.001_SDS_QC_doy2020196060053_aid0001.tif',\n",
       " 'dc96da71-5945-4baa-8e8e-38de27a1a0dc': 'ECO2LSTE.001_2020183_to_2020213/ECO2LSTE.001_SDS_QC_doy2020198091544_aid0001.tif',\n",
       " '180c913a-b2ea-4145-a36a-cdc304e1cf45': 'ECO2LSTE.001_2020183_to_2020213/ECO2LSTE.001_SDS_QC_doy2020200042553_aid0001.tif',\n",
       " 'ccc79fd3-e6f9-4465-943d-2e0b61387054': 'ECO2LSTE.001_2020183_to_2020213/ECO2LSTE.001_SDS_QC_doy2020202042625_aid0001.tif',\n",
       " '1e1eeaea-4814-4f64-9db6-f6f36d15c49b': 'ECO2LSTE.001_2020183_to_2020213/ECO2LSTE.001_SDS_QC_doy2020202074048_aid0001.tif',\n",
       " '1b552697-2707-4352-a9cd-8e25a628371c': 'ECO2LSTE.001_2020183_to_2020213/ECO2LSTE.001_SDS_QC_doy2020203033826_aid0001.tif',\n",
       " '6ce8d87e-6d55-41fd-b579-0353431e2cca': 'ECO2LSTE.001_2020183_to_2020213/ECO2LSTE.001_SDS_QC_doy2020206025131_aid0001.tif',\n",
       " '0bf90114-c42f-408d-a03b-882d44ebd896': 'ECO2LSTE.001_2020183_to_2020213/ECO2LSTE.001_SDS_QC_doy2020207020329_aid0001.tif',\n",
       " '0563cb4f-fc1a-4827-affd-0b82546ed0e2': 'ECO2LSTE.001_2020183_to_2020213/ECO2LSTE.001_SDS_QC_doy2020210011635_aid0001.tif',\n",
       " '8f4579bd-d051-4d62-8458-8d7eb5ea65bb': 'ECO2LSTE.001_2020183_to_2020213/ECO2LSTE.001_SDS_QC_doy2020211002914_aid0001.tif',\n",
       " '3c764644-694d-4707-919a-de004d56175e': 'ECO2LSTE.001_2020183_to_2020213/ECO2LSTE.001_SDS_QC_doy2020211234110_aid0001.tif',\n",
       " '34390b51-d3b7-4e7b-892c-ceeb87bfb416': 'ECO2LSTE.001_2020183_to_2020213/ECO2LSTE.001_SDS_QC_doy2020213234235_aid0001.tif',\n",
       " '11f53561-7e31-4dc5-bb46-70ce563e3ee3': 'ECO2LSTE-001-SDS-QC-lookup.csv',\n",
       " 'fa0e2b09-b7a0-47e4-83a2-8460409ed5ba': 'ECO2LSTE-001-SDS-QC-Statistics-QA.csv',\n",
       " 'f25ad91b-8c09-45a9-9cac-3eaf70d85efc': 'ECO2LSTE-001-Statistics.csv',\n",
       " '6f2dd107-3940-45d0-9324-c0104895e24e': 'Crazy-Horse-Fire-granule-list.txt',\n",
       " 'af00e360-0094-4c8a-839f-9d5264424c5c': 'Crazy-Horse-Fire-request.json',\n",
       " 'b1f1c7e8-be2c-4305-97a6-70d0fddad23a': 'Crazy-Horse-Fire-ECO2LSTE-001-metadata.xml',\n",
       " '99e8e83a-f386-49bd-8acd-bcd2f773fa26': 'README.md'}"
      ]
     },
     "execution_count": 37,
     "metadata": {},
     "output_type": "execute_result"
    }
   ],
   "source": [
    "files = {}                                                       # Create empty dictionary\n",
    "for f in bundle['files']: files[f['file_id']] = f['file_name']   # Fill dictionary with file_id as keys and file_name as values\n",
    "files    "
   ]
  },
  {
   "cell_type": "code",
   "execution_count": 38,
   "id": "c07bd0b2",
   "metadata": {},
   "outputs": [
    {
     "name": "stdout",
     "output_type": "stream",
     "text": [
      "Downloaded files can be found at: /home/marie/wildfire/LST/Crazy Horse Fire\n"
     ]
    }
   ],
   "source": [
    "for f in files:\n",
    "    dl = r.get('{}bundle/{}/{}'.format(api, task_id, f), headers=head, stream=True, allow_redirects = 'True')                                # Get a stream to the bundle file\n",
    "    if files[f].endswith('.tif'):\n",
    "        filename = files[f].split('/')[1]\n",
    "    else:\n",
    "        filename = files[f] \n",
    "    filepath = os.path.join(destDir, filename)                                                       # Create output file path\n",
    "    with open(filepath, 'wb') as f:                                                                  # Write file to dest dir\n",
    "        for data in dl.iter_content(chunk_size=8192): f.write(data) \n",
    "print('Downloaded files can be found at: {}'.format(destDir))"
   ]
  },
  {
   "cell_type": "markdown",
   "id": "3967a95b",
   "metadata": {},
   "source": [
    "## Submit another task for the Little Salmon Fire in the Bob Marshall Wilderness"
   ]
  },
  {
   "cell_type": "code",
   "execution_count": 52,
   "id": "650d125b",
   "metadata": {},
   "outputs": [],
   "source": [
    "ltSalm = gpd.read_file('littleSalmonShapefile.shp'.format(inDir + os.sep + 'Data' + os.sep)) # Read in shapefile as dataframe using geopandas\n",
    "# print(ltSalm.head())                                                # Print first few lines of dataframe"
   ]
  },
  {
   "cell_type": "markdown",
   "id": "f3572a87",
   "metadata": {},
   "source": [
    "### Convert to JSON"
   ]
  },
  {
   "cell_type": "code",
   "execution_count": 53,
   "id": "b54444e6",
   "metadata": {},
   "outputs": [],
   "source": [
    "ltSalmJ = ltSalm.to_json() \n",
    "ltSalmJ = json.loads(ltSalmJ)                                            # Convert to json format"
   ]
  },
  {
   "cell_type": "markdown",
   "id": "63c43ada",
   "metadata": {},
   "source": [
    "### Compile JSON"
   ]
  },
  {
   "cell_type": "code",
   "execution_count": 54,
   "id": "bf72ed34",
   "metadata": {},
   "outputs": [
    {
     "name": "stdout",
     "output_type": "stream",
     "text": [
      "Enter a Task Name: Little_Salmon_Fire\n"
     ]
    }
   ],
   "source": [
    "task_name = input('Enter a Task Name: ') # We will use 'Little_Salmon_Fire' as the task name, this will be the name of the folder when downloaded, better to not include spaces!"
   ]
  },
  {
   "cell_type": "markdown",
   "id": "e3484244",
   "metadata": {},
   "source": [
    "#### Update task formatting and date"
   ]
  },
  {
   "cell_type": "code",
   "execution_count": 55,
   "id": "353996ab",
   "metadata": {},
   "outputs": [],
   "source": [
    "task_type = ['area']        # Our task is an area, but you could also select point\n",
    "proj = projs['geographic']['Name']  # Set output projection \n",
    "outFormat = ['geotiff']             # Set output file format type\n",
    "startDate = '07-01-2020'            # Start of the date range for which to extract data: MM-DD-YYYY\n",
    "endDate = '07-31-2020'              # End of the date range for which to extract data: MM-DD-YYYY\n",
    "recurring = True                   # Specify True for a recurring date range\n",
    "yearRange = [2020,2021]            # if recurring = True, set yearRange, change start/end date to MM-DD"
   ]
  },
  {
   "cell_type": "code",
   "execution_count": 56,
   "id": "ee4844e7",
   "metadata": {},
   "outputs": [],
   "source": [
    "task = {\n",
    "    'task_type': task_type[0],\n",
    "    'task_name': task_name,\n",
    "    'params': {\n",
    "         'dates': [\n",
    "         {\n",
    "             'startDate': startDate,\n",
    "             'endDate': endDate\n",
    "         }],\n",
    "         'layers': prodLayer,\n",
    "         'output': {\n",
    "                 'format': {\n",
    "                         'type': outFormat[0]}, \n",
    "                         'projection': proj},\n",
    "         'geo': ltSalmJ,\n",
    "    }\n",
    "}"
   ]
  },
  {
   "cell_type": "markdown",
   "id": "c5f21622",
   "metadata": {},
   "source": [
    "## Submit the second task"
   ]
  },
  {
   "cell_type": "code",
   "execution_count": 57,
   "id": "beffd6ec",
   "metadata": {},
   "outputs": [
    {
     "data": {
      "text/plain": [
       "{'task_id': '0df7edde-a4f1-4938-84a8-92163f53044d', 'status': 'pending'}"
      ]
     },
     "execution_count": 57,
     "metadata": {},
     "output_type": "execute_result"
    }
   ],
   "source": [
    "task_response = r.post('{}task'.format(api), json=task, headers=head).json()  # Post json to the API task service, return response as json\n",
    "task_response                                                                 # Print task response"
   ]
  },
  {
   "cell_type": "markdown",
   "id": "1b0b94dc",
   "metadata": {},
   "source": [
    "### Check the new task status"
   ]
  },
  {
   "cell_type": "code",
   "execution_count": 59,
   "id": "04c1063c",
   "metadata": {},
   "outputs": [
    {
     "data": {
      "text/plain": [
       "{'task_id': '0df7edde-a4f1-4938-84a8-92163f53044d', 'status': 'pending'}"
      ]
     },
     "execution_count": 59,
     "metadata": {},
     "output_type": "execute_result"
    }
   ],
   "source": [
    "task_response                                                                 # Print task response"
   ]
  },
  {
   "cell_type": "code",
   "execution_count": 60,
   "id": "270ea666",
   "metadata": {
    "collapsed": true
   },
   "outputs": [
    {
     "data": {
      "text/plain": [
       "{'files': [{'sha256': '30ac88a235f0ddbf4cea83fcb34b6d022b8ec9bb09992c50a09a3accfb2e9e47',\n",
       "   'file_id': '6034c2e7-d3ca-426b-a752-827faecd3f21',\n",
       "   'file_name': 'ECO2LSTE.001_2020183_to_2020213/ECO2LSTE.001_SDS_LST_doy2020186135802_aid0001.tif',\n",
       "   'file_size': 22875,\n",
       "   'file_type': 'tif'},\n",
       "  {'sha256': '9dcbecf06e1aa48330f89855a47b9bdf0c335345bb96fb8b12742b3d2d207224',\n",
       "   'file_id': '6c999cc0-ef37-4892-8029-968af43a38dd',\n",
       "   'file_name': 'ECO2LSTE.001_2020183_to_2020213/ECO2LSTE.001_SDS_LST_doy2020187095615_aid0001.tif',\n",
       "   'file_size': 21742,\n",
       "   'file_type': 'tif'},\n",
       "  {'sha256': 'a66a75223d3c9e022eedf77b0bc0627cc84bcf61d038c0c3222c67a68d27bddd',\n",
       "   'file_id': 'a249650b-6dc8-4d13-b6b9-0c5cc69a86b8',\n",
       "   'file_name': 'ECO2LSTE.001_2020183_to_2020213/ECO2LSTE.001_SDS_LST_doy2020188090905_aid0001.tif',\n",
       "   'file_size': 21614,\n",
       "   'file_type': 'tif'},\n",
       "  {'sha256': '86fda79c58472ca0d02522bdc651f7bc87662ddf28242ebe5932a67e78a7ebdf',\n",
       "   'file_id': 'f13209ab-c5f2-4e97-80bc-cb9012df3227',\n",
       "   'file_name': 'ECO2LSTE.001_2020183_to_2020213/ECO2LSTE.001_SDS_LST_doy2020190122451_aid0001.tif',\n",
       "   'file_size': 24122,\n",
       "   'file_type': 'tif'},\n",
       "  {'sha256': '7cec0350fc8a7c2690a455485c9c2ba7811cae84ff8f9df62bb9097ded86bd20',\n",
       "   'file_id': 'b517293f-7141-4f31-af44-77b1cfe983fe',\n",
       "   'file_name': 'ECO2LSTE.001_2020183_to_2020213/ECO2LSTE.001_SDS_LST_doy2020194105045_aid0001.tif',\n",
       "   'file_size': 23737,\n",
       "   'file_type': 'tif'},\n",
       "  {'sha256': 'ee03359ddd31049852bef8788992264a91d56f34182284658e7ce698fe49c8f1',\n",
       "   'file_id': '8069a02e-1a39-4d37-b3ca-cb0a86ac0ada',\n",
       "   'file_name': 'ECO2LSTE.001_2020183_to_2020213/ECO2LSTE.001_SDS_LST_doy2020195064821_aid0001.tif',\n",
       "   'file_size': 23471,\n",
       "   'file_type': 'tif'},\n",
       "  {'sha256': '0188e06bc4f61420267f3b958210f9cd9f04c6810f152bf039025190ecba72c9',\n",
       "   'file_id': '70dfb04c-2221-4c21-90a0-4ffbb7a57925',\n",
       "   'file_name': 'ECO2LSTE.001_2020183_to_2020213/ECO2LSTE.001_SDS_LST_doy2020196060053_aid0001.tif',\n",
       "   'file_size': 23110,\n",
       "   'file_type': 'tif'},\n",
       "  {'sha256': 'e21238d4d7c78c73c4f061c16fd1b20bc8316f4b8398f9ee60b663ea386adceb',\n",
       "   'file_id': 'e3ad2d2b-f743-49c8-b1dc-4db11843ee54',\n",
       "   'file_name': 'ECO2LSTE.001_2020183_to_2020213/ECO2LSTE.001_SDS_LST_doy2020198091544_aid0001.tif',\n",
       "   'file_size': 21517,\n",
       "   'file_type': 'tif'},\n",
       "  {'sha256': '26f675b8e94a494e26e2e006e0b5af5c17ae4c02a07f7f115a09e046f50d9dd2',\n",
       "   'file_id': '205d709f-7b04-4f8b-9f33-329596c7bd35',\n",
       "   'file_name': 'ECO2LSTE.001_2020183_to_2020213/ECO2LSTE.001_SDS_LST_doy2020200042553_aid0001.tif',\n",
       "   'file_size': 23614,\n",
       "   'file_type': 'tif'},\n",
       "  {'sha256': '91b3ec5405cb2d6b20b452133ccdcf2f385457c0ac0371bf511623a92b085927',\n",
       "   'file_id': '32079ac2-0f32-46a9-ad64-cfc9eec3b5d5',\n",
       "   'file_name': 'ECO2LSTE.001_2020183_to_2020213/ECO2LSTE.001_SDS_LST_doy2020202074048_aid0001.tif',\n",
       "   'file_size': 22071,\n",
       "   'file_type': 'tif'},\n",
       "  {'sha256': '6174c10dab64d815d3f176e0bb444c66e99f8e928c3351838a5362fb39f5b407',\n",
       "   'file_id': '5ef4f72f-2ff5-4c4a-b883-4c509222b3db',\n",
       "   'file_name': 'ECO2LSTE.001_2020183_to_2020213/ECO2LSTE.001_SDS_LST_doy2020203033826_aid0001.tif',\n",
       "   'file_size': 24492,\n",
       "   'file_type': 'tif'},\n",
       "  {'sha256': '9ef2bb43772f3183700497a29188f56f03335b61a288e2e7b025e4204f87bf43',\n",
       "   'file_id': 'c9953896-477c-4a42-ae68-2442f6f5d333',\n",
       "   'file_name': 'ECO2LSTE.001_2020183_to_2020213/ECO2LSTE.001_SDS_LST_doy2020206025131_aid0001.tif',\n",
       "   'file_size': 21807,\n",
       "   'file_type': 'tif'},\n",
       "  {'sha256': '185a9d96b3ef646110cefa71f7c9eab7258b6f388d2bcd8d3d7eba19ad2732c1',\n",
       "   'file_id': 'b5966244-6623-4f7e-b5fc-5612abe28d78',\n",
       "   'file_name': 'ECO2LSTE.001_2020183_to_2020213/ECO2LSTE.001_SDS_LST_doy2020207020329_aid0001.tif',\n",
       "   'file_size': 27495,\n",
       "   'file_type': 'tif'},\n",
       "  {'sha256': '4036241cbfe6c56aa3ec1bee2ac032e8f4e95b98d8fd11e02fe2b60362d8c4b4',\n",
       "   'file_id': '05a78d15-2e58-4ab3-b2dc-d999d519e96b',\n",
       "   'file_name': 'ECO2LSTE.001_2020183_to_2020213/ECO2LSTE.001_SDS_LST_doy2020210011635_aid0001.tif',\n",
       "   'file_size': 22486,\n",
       "   'file_type': 'tif'},\n",
       "  {'sha256': 'c047457c8d8a16606245d004fd0f1c06223e6af1bb2c1565ab9425bc1f92e090',\n",
       "   'file_id': '8132a618-1fb4-4429-9c9d-5d90adae9427',\n",
       "   'file_name': 'ECO2LSTE.001_2020183_to_2020213/ECO2LSTE.001_SDS_LST_doy2020211002914_aid0001.tif',\n",
       "   'file_size': 26869,\n",
       "   'file_type': 'tif'},\n",
       "  {'sha256': 'ec220c422d30bae213859e54751a222293ee37690abd1edaf1fae398fd4a90c6',\n",
       "   'file_id': '67d7e26c-f15b-483b-a305-20ba9557ac55',\n",
       "   'file_name': 'ECO2LSTE.001_2020183_to_2020213/ECO2LSTE.001_SDS_LST_doy2020211234110_aid0001.tif',\n",
       "   'file_size': 24196,\n",
       "   'file_type': 'tif'},\n",
       "  {'sha256': 'b0be2c88f8d51915e0b5e3c2256fb1696c3a809f8f5c0f0ad7ff5d7fdf840d8f',\n",
       "   'file_id': '27cd5f38-f1bc-4bc3-9c41-85126f11b575',\n",
       "   'file_name': 'ECO2LSTE.001_2020183_to_2020213/ECO2LSTE.001_SDS_LST_doy2020213234235_aid0001.tif',\n",
       "   'file_size': 22918,\n",
       "   'file_type': 'tif'},\n",
       "  {'sha256': '6c5fb71ab8481235e159cbbddde42ea967fe93fb3e0e85f1d34582fe5af73b21',\n",
       "   'file_id': 'afc4344a-342c-4a77-9a0c-3a961dc26cce',\n",
       "   'file_name': 'ECO2LSTE.001_2020183_to_2020213/ECO2LSTE.001_SDS_QC_doy2020186135802_aid0001.tif',\n",
       "   'file_size': 9716,\n",
       "   'file_type': 'tif'},\n",
       "  {'sha256': '935560498c2d4d50baf45bf984dae7cd7c9a2af658b1922202a9e77ff7d5bbdc',\n",
       "   'file_id': 'b529ee13-3f3d-4140-a406-0885c55cb277',\n",
       "   'file_name': 'ECO2LSTE.001_2020183_to_2020213/ECO2LSTE.001_SDS_QC_doy2020187095615_aid0001.tif',\n",
       "   'file_size': 8490,\n",
       "   'file_type': 'tif'},\n",
       "  {'sha256': 'd80009a400f1043c3af36d7985254a158b3ec32630f435a9698f0954685afd76',\n",
       "   'file_id': '8e561f74-6220-4d51-93ae-aec238ed91cf',\n",
       "   'file_name': 'ECO2LSTE.001_2020183_to_2020213/ECO2LSTE.001_SDS_QC_doy2020188090905_aid0001.tif',\n",
       "   'file_size': 9417,\n",
       "   'file_type': 'tif'},\n",
       "  {'sha256': '1330e3a7db2c0d38d21053fd1ca85915967937083b5fc7d1ffd0a64784e04c7e',\n",
       "   'file_id': '1e67d599-4909-40d0-8156-e02008035e36',\n",
       "   'file_name': 'ECO2LSTE.001_2020183_to_2020213/ECO2LSTE.001_SDS_QC_doy2020190122451_aid0001.tif',\n",
       "   'file_size': 8680,\n",
       "   'file_type': 'tif'},\n",
       "  {'sha256': 'a795277ef19359d6185b0e2fa6c66cc002484c3729cbaa418547fdf9ec9056ff',\n",
       "   'file_id': '56894621-8b0d-4194-8adc-6f4b27eba9cd',\n",
       "   'file_name': 'ECO2LSTE.001_2020183_to_2020213/ECO2LSTE.001_SDS_QC_doy2020194105045_aid0001.tif',\n",
       "   'file_size': 10821,\n",
       "   'file_type': 'tif'},\n",
       "  {'sha256': '4aa63801b13020346f44edbd822b1f44457d095a9a81b276419b3595ab587b6f',\n",
       "   'file_id': '504b10fd-a85d-40cc-b3d7-58681d20c3c1',\n",
       "   'file_name': 'ECO2LSTE.001_2020183_to_2020213/ECO2LSTE.001_SDS_QC_doy2020195064821_aid0001.tif',\n",
       "   'file_size': 9518,\n",
       "   'file_type': 'tif'},\n",
       "  {'sha256': 'adeea8fa6c86f4a2baa1dddb2a47cb5c65a6fd3d01768726682b646341e0459b',\n",
       "   'file_id': 'ab7e1ce2-25b8-4279-8a2a-eb8e3ef83f9d',\n",
       "   'file_name': 'ECO2LSTE.001_2020183_to_2020213/ECO2LSTE.001_SDS_QC_doy2020196060053_aid0001.tif',\n",
       "   'file_size': 11595,\n",
       "   'file_type': 'tif'},\n",
       "  {'sha256': '4439ca6b45956319c94897715e16b55c0bf970bbed4dbe3bf7eaf0aa203b4215',\n",
       "   'file_id': 'dc96da71-5945-4baa-8e8e-38de27a1a0dc',\n",
       "   'file_name': 'ECO2LSTE.001_2020183_to_2020213/ECO2LSTE.001_SDS_QC_doy2020198091544_aid0001.tif',\n",
       "   'file_size': 8874,\n",
       "   'file_type': 'tif'},\n",
       "  {'sha256': 'f27d109339b03f1239607bb9502e825b71622b9e1864c6daa8ec55eea20d9957',\n",
       "   'file_id': '180c913a-b2ea-4145-a36a-cdc304e1cf45',\n",
       "   'file_name': 'ECO2LSTE.001_2020183_to_2020213/ECO2LSTE.001_SDS_QC_doy2020200042553_aid0001.tif',\n",
       "   'file_size': 10211,\n",
       "   'file_type': 'tif'},\n",
       "  {'sha256': 'fdcf392b22a0a91cd03a62a3bc2ce47b4d9f63f311cc0d930f945b09994e7983',\n",
       "   'file_id': 'ccc79fd3-e6f9-4465-943d-2e0b61387054',\n",
       "   'file_name': 'ECO2LSTE.001_2020183_to_2020213/ECO2LSTE.001_SDS_QC_doy2020202042625_aid0001.tif',\n",
       "   'file_size': 4664,\n",
       "   'file_type': 'tif'},\n",
       "  {'sha256': 'a82e051fd722ea0e6010bebf5205de30ef050c34681a1cd3d4271180a482b123',\n",
       "   'file_id': '1e1eeaea-4814-4f64-9db6-f6f36d15c49b',\n",
       "   'file_name': 'ECO2LSTE.001_2020183_to_2020213/ECO2LSTE.001_SDS_QC_doy2020202074048_aid0001.tif',\n",
       "   'file_size': 11529,\n",
       "   'file_type': 'tif'},\n",
       "  {'sha256': 'eafe5895b01224ab44fde205293b0b5266673840dd9202239dffe8f5edc4cccc',\n",
       "   'file_id': '1b552697-2707-4352-a9cd-8e25a628371c',\n",
       "   'file_name': 'ECO2LSTE.001_2020183_to_2020213/ECO2LSTE.001_SDS_QC_doy2020203033826_aid0001.tif',\n",
       "   'file_size': 10178,\n",
       "   'file_type': 'tif'},\n",
       "  {'sha256': '0d7ef3ff498b7d4195a742620cd6e82980b0773a4dc359bd3a88a2907e29e573',\n",
       "   'file_id': '6ce8d87e-6d55-41fd-b579-0353431e2cca',\n",
       "   'file_name': 'ECO2LSTE.001_2020183_to_2020213/ECO2LSTE.001_SDS_QC_doy2020206025131_aid0001.tif',\n",
       "   'file_size': 8447,\n",
       "   'file_type': 'tif'},\n",
       "  {'sha256': '2d97580920419d60de39bf1f91cd717e632332e9c45617a110c9ae90078bc123',\n",
       "   'file_id': '0bf90114-c42f-408d-a03b-882d44ebd896',\n",
       "   'file_name': 'ECO2LSTE.001_2020183_to_2020213/ECO2LSTE.001_SDS_QC_doy2020207020329_aid0001.tif',\n",
       "   'file_size': 10813,\n",
       "   'file_type': 'tif'},\n",
       "  {'sha256': '568055e7fb01fbbc42cddbd037e7ec83847baa486c7df567429746c5c9dce102',\n",
       "   'file_id': '0563cb4f-fc1a-4827-affd-0b82546ed0e2',\n",
       "   'file_name': 'ECO2LSTE.001_2020183_to_2020213/ECO2LSTE.001_SDS_QC_doy2020210011635_aid0001.tif',\n",
       "   'file_size': 8419,\n",
       "   'file_type': 'tif'},\n",
       "  {'sha256': 'a208973281b9a80d63691211b848886666e878a79fa5293f4b790e5dc0e067ea',\n",
       "   'file_id': '8f4579bd-d051-4d62-8458-8d7eb5ea65bb',\n",
       "   'file_name': 'ECO2LSTE.001_2020183_to_2020213/ECO2LSTE.001_SDS_QC_doy2020211002914_aid0001.tif',\n",
       "   'file_size': 11383,\n",
       "   'file_type': 'tif'},\n",
       "  {'sha256': '1a8b82e64c42ddfca72bbb9edb1a7ef539218f55c9ef53db705d2fce5f683183',\n",
       "   'file_id': '3c764644-694d-4707-919a-de004d56175e',\n",
       "   'file_name': 'ECO2LSTE.001_2020183_to_2020213/ECO2LSTE.001_SDS_QC_doy2020211234110_aid0001.tif',\n",
       "   'file_size': 8919,\n",
       "   'file_type': 'tif'},\n",
       "  {'sha256': '8a76f73bc312309ec4c51a346b0d6910e93674c9486e3643cf98d715fc1b594c',\n",
       "   'file_id': '34390b51-d3b7-4e7b-892c-ceeb87bfb416',\n",
       "   'file_name': 'ECO2LSTE.001_2020183_to_2020213/ECO2LSTE.001_SDS_QC_doy2020213234235_aid0001.tif',\n",
       "   'file_size': 8532,\n",
       "   'file_type': 'tif'},\n",
       "  {'sha256': 'd995f8dcac2bd44fe5b7baafe12bd6e5939c14d5f4c0eb895b4ea75b09247ba5',\n",
       "   'file_id': '11f53561-7e31-4dc5-bb46-70ce563e3ee3',\n",
       "   'file_name': 'ECO2LSTE-001-SDS-QC-lookup.csv',\n",
       "   'file_size': 27626,\n",
       "   'file_type': 'csv'},\n",
       "  {'sha256': 'db9fd71f8d0f51ea5e58349683fd5372cd91d88dcfe6be5e44b0f941964aedc8',\n",
       "   'file_id': 'fa0e2b09-b7a0-47e4-83a2-8460409ed5ba',\n",
       "   'file_name': 'ECO2LSTE-001-SDS-QC-Statistics-QA.csv',\n",
       "   'file_size': 4815,\n",
       "   'file_type': 'csv'},\n",
       "  {'sha256': '1bfc124bf68e033f4849783e3a6ab96763c7cbd74e70298eba5b12dfcad2303c',\n",
       "   'file_id': 'f25ad91b-8c09-45a9-9cac-3eaf70d85efc',\n",
       "   'file_name': 'ECO2LSTE-001-Statistics.csv',\n",
       "   'file_size': 3809,\n",
       "   'file_type': 'csv'},\n",
       "  {'sha256': '816f69e15afd20c43d12a61495e1ba4c386855e0c61b71744924f44708dbacb2',\n",
       "   'file_id': '6f2dd107-3940-45d0-9324-c0104895e24e',\n",
       "   'file_name': 'Crazy-Horse-Fire-granule-list.txt',\n",
       "   'file_size': 8364,\n",
       "   'file_type': 'txt'},\n",
       "  {'sha256': '76341fc83c3e7d9e37c142fda0d36987d295cb52d8a0c026cd0fd5ab9a485751',\n",
       "   'file_id': 'af00e360-0094-4c8a-839f-9d5264424c5c',\n",
       "   'file_name': 'Crazy-Horse-Fire-request.json',\n",
       "   'file_size': 9578,\n",
       "   'file_type': 'json'},\n",
       "  {'sha256': 'e3632c45c6a30a201750e49a92993491de1330d7acddc9ea383a339cdcd8ac65',\n",
       "   'file_id': 'b1f1c7e8-be2c-4305-97a6-70d0fddad23a',\n",
       "   'file_name': 'Crazy-Horse-Fire-ECO2LSTE-001-metadata.xml',\n",
       "   'file_size': 22130,\n",
       "   'file_type': 'xml'},\n",
       "  {'sha256': '7b126ccc87bc0cb41bccfab0e75f778d3aaa4d2500a50f35621aacd7ab83bbdf',\n",
       "   'file_id': '99e8e83a-f386-49bd-8acd-bcd2f773fa26',\n",
       "   'file_name': 'README.md',\n",
       "   'file_size': 22047,\n",
       "   'file_type': 'txt'}],\n",
       " 'created': '2022-10-19T22:24:15.730047',\n",
       " 'task_id': 'd8f5ba50-ebaf-4577-b896-319fefe00194',\n",
       " 'updated': '2022-10-19T22:35:35.458345',\n",
       " 'bundle_type': 'area'}"
      ]
     },
     "execution_count": 60,
     "metadata": {},
     "output_type": "execute_result"
    }
   ],
   "source": [
    "bundle = r.get('{}bundle/{}'.format(api,task_id), headers=head).json()  # Call API and return bundle contents for the task_id as json\n",
    "bundle                                                    # Print bundle contents"
   ]
  },
  {
   "cell_type": "code",
   "execution_count": 61,
   "id": "c783baee",
   "metadata": {
    "collapsed": true
   },
   "outputs": [
    {
     "data": {
      "text/plain": [
       "{'6034c2e7-d3ca-426b-a752-827faecd3f21': 'ECO2LSTE.001_2020183_to_2020213/ECO2LSTE.001_SDS_LST_doy2020186135802_aid0001.tif',\n",
       " '6c999cc0-ef37-4892-8029-968af43a38dd': 'ECO2LSTE.001_2020183_to_2020213/ECO2LSTE.001_SDS_LST_doy2020187095615_aid0001.tif',\n",
       " 'a249650b-6dc8-4d13-b6b9-0c5cc69a86b8': 'ECO2LSTE.001_2020183_to_2020213/ECO2LSTE.001_SDS_LST_doy2020188090905_aid0001.tif',\n",
       " 'f13209ab-c5f2-4e97-80bc-cb9012df3227': 'ECO2LSTE.001_2020183_to_2020213/ECO2LSTE.001_SDS_LST_doy2020190122451_aid0001.tif',\n",
       " 'b517293f-7141-4f31-af44-77b1cfe983fe': 'ECO2LSTE.001_2020183_to_2020213/ECO2LSTE.001_SDS_LST_doy2020194105045_aid0001.tif',\n",
       " '8069a02e-1a39-4d37-b3ca-cb0a86ac0ada': 'ECO2LSTE.001_2020183_to_2020213/ECO2LSTE.001_SDS_LST_doy2020195064821_aid0001.tif',\n",
       " '70dfb04c-2221-4c21-90a0-4ffbb7a57925': 'ECO2LSTE.001_2020183_to_2020213/ECO2LSTE.001_SDS_LST_doy2020196060053_aid0001.tif',\n",
       " 'e3ad2d2b-f743-49c8-b1dc-4db11843ee54': 'ECO2LSTE.001_2020183_to_2020213/ECO2LSTE.001_SDS_LST_doy2020198091544_aid0001.tif',\n",
       " '205d709f-7b04-4f8b-9f33-329596c7bd35': 'ECO2LSTE.001_2020183_to_2020213/ECO2LSTE.001_SDS_LST_doy2020200042553_aid0001.tif',\n",
       " '32079ac2-0f32-46a9-ad64-cfc9eec3b5d5': 'ECO2LSTE.001_2020183_to_2020213/ECO2LSTE.001_SDS_LST_doy2020202074048_aid0001.tif',\n",
       " '5ef4f72f-2ff5-4c4a-b883-4c509222b3db': 'ECO2LSTE.001_2020183_to_2020213/ECO2LSTE.001_SDS_LST_doy2020203033826_aid0001.tif',\n",
       " 'c9953896-477c-4a42-ae68-2442f6f5d333': 'ECO2LSTE.001_2020183_to_2020213/ECO2LSTE.001_SDS_LST_doy2020206025131_aid0001.tif',\n",
       " 'b5966244-6623-4f7e-b5fc-5612abe28d78': 'ECO2LSTE.001_2020183_to_2020213/ECO2LSTE.001_SDS_LST_doy2020207020329_aid0001.tif',\n",
       " '05a78d15-2e58-4ab3-b2dc-d999d519e96b': 'ECO2LSTE.001_2020183_to_2020213/ECO2LSTE.001_SDS_LST_doy2020210011635_aid0001.tif',\n",
       " '8132a618-1fb4-4429-9c9d-5d90adae9427': 'ECO2LSTE.001_2020183_to_2020213/ECO2LSTE.001_SDS_LST_doy2020211002914_aid0001.tif',\n",
       " '67d7e26c-f15b-483b-a305-20ba9557ac55': 'ECO2LSTE.001_2020183_to_2020213/ECO2LSTE.001_SDS_LST_doy2020211234110_aid0001.tif',\n",
       " '27cd5f38-f1bc-4bc3-9c41-85126f11b575': 'ECO2LSTE.001_2020183_to_2020213/ECO2LSTE.001_SDS_LST_doy2020213234235_aid0001.tif',\n",
       " 'afc4344a-342c-4a77-9a0c-3a961dc26cce': 'ECO2LSTE.001_2020183_to_2020213/ECO2LSTE.001_SDS_QC_doy2020186135802_aid0001.tif',\n",
       " 'b529ee13-3f3d-4140-a406-0885c55cb277': 'ECO2LSTE.001_2020183_to_2020213/ECO2LSTE.001_SDS_QC_doy2020187095615_aid0001.tif',\n",
       " '8e561f74-6220-4d51-93ae-aec238ed91cf': 'ECO2LSTE.001_2020183_to_2020213/ECO2LSTE.001_SDS_QC_doy2020188090905_aid0001.tif',\n",
       " '1e67d599-4909-40d0-8156-e02008035e36': 'ECO2LSTE.001_2020183_to_2020213/ECO2LSTE.001_SDS_QC_doy2020190122451_aid0001.tif',\n",
       " '56894621-8b0d-4194-8adc-6f4b27eba9cd': 'ECO2LSTE.001_2020183_to_2020213/ECO2LSTE.001_SDS_QC_doy2020194105045_aid0001.tif',\n",
       " '504b10fd-a85d-40cc-b3d7-58681d20c3c1': 'ECO2LSTE.001_2020183_to_2020213/ECO2LSTE.001_SDS_QC_doy2020195064821_aid0001.tif',\n",
       " 'ab7e1ce2-25b8-4279-8a2a-eb8e3ef83f9d': 'ECO2LSTE.001_2020183_to_2020213/ECO2LSTE.001_SDS_QC_doy2020196060053_aid0001.tif',\n",
       " 'dc96da71-5945-4baa-8e8e-38de27a1a0dc': 'ECO2LSTE.001_2020183_to_2020213/ECO2LSTE.001_SDS_QC_doy2020198091544_aid0001.tif',\n",
       " '180c913a-b2ea-4145-a36a-cdc304e1cf45': 'ECO2LSTE.001_2020183_to_2020213/ECO2LSTE.001_SDS_QC_doy2020200042553_aid0001.tif',\n",
       " 'ccc79fd3-e6f9-4465-943d-2e0b61387054': 'ECO2LSTE.001_2020183_to_2020213/ECO2LSTE.001_SDS_QC_doy2020202042625_aid0001.tif',\n",
       " '1e1eeaea-4814-4f64-9db6-f6f36d15c49b': 'ECO2LSTE.001_2020183_to_2020213/ECO2LSTE.001_SDS_QC_doy2020202074048_aid0001.tif',\n",
       " '1b552697-2707-4352-a9cd-8e25a628371c': 'ECO2LSTE.001_2020183_to_2020213/ECO2LSTE.001_SDS_QC_doy2020203033826_aid0001.tif',\n",
       " '6ce8d87e-6d55-41fd-b579-0353431e2cca': 'ECO2LSTE.001_2020183_to_2020213/ECO2LSTE.001_SDS_QC_doy2020206025131_aid0001.tif',\n",
       " '0bf90114-c42f-408d-a03b-882d44ebd896': 'ECO2LSTE.001_2020183_to_2020213/ECO2LSTE.001_SDS_QC_doy2020207020329_aid0001.tif',\n",
       " '0563cb4f-fc1a-4827-affd-0b82546ed0e2': 'ECO2LSTE.001_2020183_to_2020213/ECO2LSTE.001_SDS_QC_doy2020210011635_aid0001.tif',\n",
       " '8f4579bd-d051-4d62-8458-8d7eb5ea65bb': 'ECO2LSTE.001_2020183_to_2020213/ECO2LSTE.001_SDS_QC_doy2020211002914_aid0001.tif',\n",
       " '3c764644-694d-4707-919a-de004d56175e': 'ECO2LSTE.001_2020183_to_2020213/ECO2LSTE.001_SDS_QC_doy2020211234110_aid0001.tif',\n",
       " '34390b51-d3b7-4e7b-892c-ceeb87bfb416': 'ECO2LSTE.001_2020183_to_2020213/ECO2LSTE.001_SDS_QC_doy2020213234235_aid0001.tif',\n",
       " '11f53561-7e31-4dc5-bb46-70ce563e3ee3': 'ECO2LSTE-001-SDS-QC-lookup.csv',\n",
       " 'fa0e2b09-b7a0-47e4-83a2-8460409ed5ba': 'ECO2LSTE-001-SDS-QC-Statistics-QA.csv',\n",
       " 'f25ad91b-8c09-45a9-9cac-3eaf70d85efc': 'ECO2LSTE-001-Statistics.csv',\n",
       " '6f2dd107-3940-45d0-9324-c0104895e24e': 'Crazy-Horse-Fire-granule-list.txt',\n",
       " 'af00e360-0094-4c8a-839f-9d5264424c5c': 'Crazy-Horse-Fire-request.json',\n",
       " 'b1f1c7e8-be2c-4305-97a6-70d0fddad23a': 'Crazy-Horse-Fire-ECO2LSTE-001-metadata.xml',\n",
       " '99e8e83a-f386-49bd-8acd-bcd2f773fa26': 'README.md'}"
      ]
     },
     "execution_count": 61,
     "metadata": {},
     "output_type": "execute_result"
    }
   ],
   "source": [
    "files = {}                                                       # Create empty dictionary\n",
    "for f in bundle['files']: files[f['file_id']] = f['file_name']   # Fill dictionary with file_id as keys and file_name as values\n",
    "files    "
   ]
  },
  {
   "cell_type": "code",
   "execution_count": 63,
   "id": "796dea7b",
   "metadata": {},
   "outputs": [],
   "source": [
    "practDir = '/home/marie/wildfire/LST'\n",
    "# The task_name within destDir has to be updated\n",
    "destDir = os.path.join(practDir, task_name)                # Set up output directory using input directory and task name\n",
    "if not os.path.exists(destDir):os.makedirs(destDir)     # Create the output directory"
   ]
  },
  {
   "cell_type": "code",
   "execution_count": 64,
   "id": "8d332d74",
   "metadata": {},
   "outputs": [
    {
     "name": "stdout",
     "output_type": "stream",
     "text": [
      "Downloaded files can be found at: /home/marie/wildfire/LST/Little_Salmon_Fire\n"
     ]
    }
   ],
   "source": [
    "for f in files:\n",
    "    dl = r.get('{}bundle/{}/{}'.format(api, task_id, f), headers=head, stream=True, allow_redirects = 'True')                                # Get a stream to the bundle file\n",
    "    if files[f].endswith('.tif'):\n",
    "        filename = files[f].split('/')[1]\n",
    "    else:\n",
    "        filename = files[f] \n",
    "    filepath = os.path.join(destDir, filename)                                           # Create output file path\n",
    "    with open(filepath, 'wb') as f:                                                       # Write file to dest dir\n",
    "        for data in dl.iter_content(chunk_size=8192): f.write(data) \n",
    "print('Downloaded files can be found at: {}'.format(destDir))"
   ]
  }
 ],
 "metadata": {
  "kernelspec": {
   "display_name": "Python 3 (ipykernel)",
   "language": "python",
   "name": "python3"
  },
  "language_info": {
   "codemirror_mode": {
    "name": "ipython",
    "version": 3
   },
   "file_extension": ".py",
   "mimetype": "text/x-python",
   "name": "python",
   "nbconvert_exporter": "python",
   "pygments_lexer": "ipython3",
   "version": "3.7.13"
  }
 },
 "nbformat": 4,
 "nbformat_minor": 5
}
